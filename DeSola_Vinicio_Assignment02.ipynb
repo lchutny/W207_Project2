{
 "cells": [
  {
   "cell_type": "code",
   "execution_count": 1,
   "metadata": {},
   "outputs": [
    {
     "data": {
      "application/javascript": [
       "IPython.OutputArea.prototype._should_scroll = function(lines) {\n",
       "    return false;\n",
       "}"
      ],
      "text/plain": [
       "<IPython.core.display.Javascript object>"
      ]
     },
     "metadata": {},
     "output_type": "display_data"
    }
   ],
   "source": [
    "%%javascript\n",
    "IPython.OutputArea.prototype._should_scroll = function(lines) {\n",
    "    return false;\n",
    "}"
   ]
  },
  {
   "cell_type": "markdown",
   "metadata": {},
   "source": [
    "# Project 2: Topic Classification"
   ]
  },
  {
   "cell_type": "markdown",
   "metadata": {},
   "source": [
    "In this project, you'll work with text data from newsgroup postings on a variety of topics. You'll train classifiers to distinguish between the topics based on the text of the posts. Whereas with digit classification, the input is relatively dense: a 28x28 matrix of pixels, many of which are non-zero, here we'll represent each document with a \"bag-of-words\" model. As you'll see, this makes the feature representation quite sparse -- only a few words of the total vocabulary are active in any given document. The bag-of-words assumption here is that the label depends only on the words; their order is not important.\n",
    "\n",
    "The SK-learn documentation on feature extraction will prove useful:\n",
    "http://scikit-learn.org/stable/modules/feature_extraction.html\n",
    "\n",
    "Each problem can be addressed succinctly with the included packages -- please don't add any more. Grading will be based on writing clean, commented code, along with a few short answers.\n",
    "\n",
    "As always, you're welcome to work on the project in groups and discuss ideas on the course wall, but please prepare your own write-up and write your own code."
   ]
  },
  {
   "cell_type": "code",
   "execution_count": 49,
   "metadata": {},
   "outputs": [
    {
     "name": "stdout",
     "output_type": "stream",
     "text": [
      "[nltk_data] Downloading package punkt to\n",
      "[nltk_data]     C:\\Users\\penpe\\AppData\\Roaming\\nltk_data...\n",
      "[nltk_data]   Unzipping tokenizers\\punkt.zip.\n"
     ]
    }
   ],
   "source": [
    "# This tells matplotlib not to try opening a new window for each plot.\n",
    "%matplotlib inline\n",
    "\n",
    "\n",
    "# General libraries.\n",
    "import re\n",
    "import numpy as np\n",
    "import matplotlib.pyplot as plt\n",
    "import matplotlib as mpl\n",
    "import pandas as pd\n",
    "from IPython.display import display, HTML, Markdown\n",
    "from scipy.sparse import csr\n",
    "from scipy.sparse import csr_matrix\n",
    "import nltk\n",
    "from nltk.corpus import stopwords\n",
    "from nltk.tokenize import word_tokenize \n",
    "nltk.download('punkt')\n",
    "import warnings\n",
    "warnings.filterwarnings('ignore')\n",
    "\n",
    "# SK-learn libraries for learning.\n",
    "from sklearn.pipeline import Pipeline\n",
    "from sklearn.neighbors import KNeighborsClassifier\n",
    "from sklearn.linear_model import LogisticRegression\n",
    "from sklearn.naive_bayes import BernoulliNB\n",
    "from sklearn.naive_bayes import MultinomialNB\n",
    "from sklearn.model_selection import GridSearchCV\n",
    "\n",
    "# SK-learn libraries for evaluation.\n",
    "from sklearn.metrics import confusion_matrix\n",
    "from sklearn import metrics\n",
    "from sklearn.metrics import classification_report\n",
    "\n",
    "# SK-learn library for importing the newsgroup data.\n",
    "from sklearn.datasets import fetch_20newsgroups\n",
    "\n",
    "# SK-learn libraries for feature extraction from text.\n",
    "from sklearn.feature_extraction.text import *\n",
    "\n",
    "# Display centered pandas tables\n",
    "def pd_centered(df):\n",
    "    return df.style.set_table_styles([\n",
    "        {\"selector\": \"th\", \"props\": [(\"text-align\", \"center\")]},\n",
    "        {\"selector\": \"td\", \"props\": [(\"text-align\", \"center\")]}])\n",
    "# Print in bold\n",
    "def printmd(string):\n",
    "    display(Markdown(string))\n",
    "\n",
    "# Plot formats\n",
    "from cycler import cycler\n",
    "import matplotlib.patches as patches\n",
    "import matplotlib.mlab as mlab\n",
    "import matplotlib.dates\n",
    "plt.style.use('ggplot')\n",
    "mpl.rcParams['lines.linewidth'] = 1.5\n",
    "mpl.rcParams['lines.color'] = 'blue'\n",
    "mpl.rcParams['axes.prop_cycle'] = cycler('color', ['#30a2da', '#e5ae38', '#fc4f30', '#6d904f', '#8b8b8b'])\n",
    "mpl.rcParams['legend.fancybox'] = True\n",
    "mpl.rcParams['legend.fontsize'] = 14\n",
    "mpl.rcParams['axes.facecolor'] = '#f0f0f0'\n",
    "mpl.rcParams['axes.labelsize'] = 15\n",
    "mpl.rcParams['axes.axisbelow'] = True\n",
    "mpl.rcParams['axes.linewidth'] = 1.2\n",
    "mpl.rcParams['axes.labelpad'] = 0.0\n",
    "mpl.rcParams['axes.xmargin'] = 0.05  # x margin.  See `axes.Axes.margins`\n",
    "mpl.rcParams['axes.ymargin'] = 0.05  # y margin See `axes.Axes.margins`\n",
    "mpl.rcParams['xtick.labelsize'] = 14\n",
    "mpl.rcParams['ytick.labelsize'] = 14\n",
    "mpl.rcParams['figure.subplot.left'] = 0.08\n",
    "mpl.rcParams['figure.subplot.right'] = 0.95\n",
    "mpl.rcParams['figure.subplot.bottom'] = 0.07\n",
    "\n",
    "# figure configuration\n",
    "fsize = (10,7.5) # figure size\n",
    "tsize = 18 # title font size\n",
    "lsize = 16 # legend font size\n",
    "csize = 14 # comment font size\n",
    "grid = True # grid\n",
    "\n",
    "# Set the randomizer seed so results are the same each time ... Reproducibility\n",
    "np.random.seed(0)"
   ]
  },
  {
   "cell_type": "markdown",
   "metadata": {},
   "source": [
    "Load the data, stripping out metadata so that we learn classifiers that only use textual features. By default, newsgroups data is split into train and test sets. We further split the test so we have a dev set. Note that we specify 4 categories to use for this project. If you remove the categories argument from the fetch function, you'll get all 20 categories."
   ]
  },
  {
   "cell_type": "code",
   "execution_count": 3,
   "metadata": {},
   "outputs": [
    {
     "name": "stdout",
     "output_type": "stream",
     "text": [
      "training label shape: (2034,)\n",
      "test label shape: (677,)\n",
      "dev label shape: (676,)\n",
      "labels names: ['alt.atheism', 'comp.graphics', 'sci.space', 'talk.religion.misc']\n"
     ]
    }
   ],
   "source": [
    "categories = ['alt.atheism', 'talk.religion.misc', 'comp.graphics', 'sci.space']\n",
    "newsgroups_train = fetch_20newsgroups(subset='train',\n",
    "                                      remove=('headers', 'footers', 'quotes'),\n",
    "                                      categories=categories)\n",
    "newsgroups_test = fetch_20newsgroups(subset='test',\n",
    "                                     remove=('headers', 'footers', 'quotes'),\n",
    "                                     categories=categories)\n",
    "\n",
    "num_test = len(newsgroups_test.target)\n",
    "test_data, test_labels = newsgroups_test.data[int(num_test/2):], newsgroups_test.target[int(num_test/2):]\n",
    "dev_data, dev_labels = newsgroups_test.data[:int(num_test/2)], newsgroups_test.target[:int(num_test/2)]\n",
    "train_data, train_labels = newsgroups_train.data, newsgroups_train.target\n",
    "\n",
    "print('training label shape:', train_labels.shape)\n",
    "print('test label shape:', test_labels.shape)\n",
    "print('dev label shape:', dev_labels.shape)\n",
    "print('labels names:', newsgroups_train.target_names)"
   ]
  },
  {
   "cell_type": "markdown",
   "metadata": {},
   "source": [
    "## (1) \n",
    "\n",
    "For each of the first 5 training examples, print the text of the message along with the label."
   ]
  },
  {
   "cell_type": "code",
   "execution_count": 4,
   "metadata": {
    "scrolled": false
   },
   "outputs": [
    {
     "data": {
      "text/markdown": [
       "**Number of training examples to print: 5**"
      ],
      "text/plain": [
       "<IPython.core.display.Markdown object>"
      ]
     },
     "metadata": {},
     "output_type": "display_data"
    },
    {
     "data": {
      "text/markdown": [
       "**-****-****-****-****-****-****-****-****-****-****-****-****-****-****-****-****-****-****-****-****-****-****-****-****-****-****-****-****-****-****-****-****-****-****-****-****-****-****-****-****-****-****-****-****-****-****-****-****-****-****-****-****-****-****-****-****-****-****-****-****-****-****-****-****-****-****-****-****-****-****-****-****-****-****-****-****-****-****-****-****-****-****-****-****-****-****-****-****-****-****-****-****-****-****-****-****-****-****-****-**\n"
      ],
      "text/plain": [
       "<IPython.core.display.Markdown object>"
      ]
     },
     "metadata": {},
     "output_type": "display_data"
    },
    {
     "data": {
      "text/markdown": [
       "**Label of training example 1**"
      ],
      "text/plain": [
       "<IPython.core.display.Markdown object>"
      ]
     },
     "metadata": {},
     "output_type": "display_data"
    },
    {
     "data": {
      "text/markdown": [
       "*comp.graphics*\n"
      ],
      "text/plain": [
       "<IPython.core.display.Markdown object>"
      ]
     },
     "metadata": {},
     "output_type": "display_data"
    },
    {
     "data": {
      "text/markdown": [
       "**Text of the message in training example 1**"
      ],
      "text/plain": [
       "<IPython.core.display.Markdown object>"
      ]
     },
     "metadata": {},
     "output_type": "display_data"
    },
    {
     "name": "stdout",
     "output_type": "stream",
     "text": [
      "Hi,\n",
      "\n",
      "I've noticed that if you only save a model (with all your mapping planes\n",
      "positioned carefully) to a .3DS file that when you reload it after restarting\n",
      "3DS, they are given a default position and orientation.  But if you save\n",
      "to a .PRJ file their positions/orientation are preserved.  Does anyone\n",
      "know why this information is not stored in the .3DS file?  Nothing is\n",
      "explicitly said in the manual about saving texture rules in the .PRJ file. \n",
      "I'd like to be able to read the texture rule information, does anyone have \n",
      "the format for the .PRJ file?\n",
      "\n",
      "Is the .CEL file format available from somewhere?\n",
      "\n",
      "Rych\n"
     ]
    },
    {
     "data": {
      "text/markdown": [
       "**-****-****-****-****-****-****-****-****-****-****-****-****-****-****-****-****-****-****-****-****-****-****-****-****-****-****-****-****-****-****-****-****-****-****-****-****-****-****-****-****-****-****-****-****-****-****-****-****-****-****-****-****-****-****-****-****-****-****-****-****-****-****-****-****-****-****-****-****-****-****-****-****-****-****-****-****-****-****-****-****-****-****-****-****-****-****-****-****-****-****-****-****-****-****-****-****-****-****-****-**\n"
      ],
      "text/plain": [
       "<IPython.core.display.Markdown object>"
      ]
     },
     "metadata": {},
     "output_type": "display_data"
    },
    {
     "data": {
      "text/markdown": [
       "**-****-****-****-****-****-****-****-****-****-****-****-****-****-****-****-****-****-****-****-****-****-****-****-****-****-****-****-****-****-****-****-****-****-****-****-****-****-****-****-****-****-****-****-****-****-****-****-****-****-****-****-****-****-****-****-****-****-****-****-****-****-****-****-****-****-****-****-****-****-****-****-****-****-****-****-****-****-****-****-****-****-****-****-****-****-****-****-****-****-****-****-****-****-****-****-****-****-****-****-**\n"
      ],
      "text/plain": [
       "<IPython.core.display.Markdown object>"
      ]
     },
     "metadata": {},
     "output_type": "display_data"
    },
    {
     "data": {
      "text/markdown": [
       "**Label of training example 2**"
      ],
      "text/plain": [
       "<IPython.core.display.Markdown object>"
      ]
     },
     "metadata": {},
     "output_type": "display_data"
    },
    {
     "data": {
      "text/markdown": [
       "*talk.religion.misc*\n"
      ],
      "text/plain": [
       "<IPython.core.display.Markdown object>"
      ]
     },
     "metadata": {},
     "output_type": "display_data"
    },
    {
     "data": {
      "text/markdown": [
       "**Text of the message in training example 2**"
      ],
      "text/plain": [
       "<IPython.core.display.Markdown object>"
      ]
     },
     "metadata": {},
     "output_type": "display_data"
    },
    {
     "name": "stdout",
     "output_type": "stream",
     "text": [
      "\n",
      "\n",
      "Seems to be, barring evidence to the contrary, that Koresh was simply\n",
      "another deranged fanatic who thought it neccessary to take a whole bunch of\n",
      "folks with him, children and all, to satisfy his delusional mania. Jim\n",
      "Jones, circa 1993.\n",
      "\n",
      "\n",
      "Nope - fruitcakes like Koresh have been demonstrating such evil corruption\n",
      "for centuries.\n"
     ]
    },
    {
     "data": {
      "text/markdown": [
       "**-****-****-****-****-****-****-****-****-****-****-****-****-****-****-****-****-****-****-****-****-****-****-****-****-****-****-****-****-****-****-****-****-****-****-****-****-****-****-****-****-****-****-****-****-****-****-****-****-****-****-****-****-****-****-****-****-****-****-****-****-****-****-****-****-****-****-****-****-****-****-****-****-****-****-****-****-****-****-****-****-****-****-****-****-****-****-****-****-****-****-****-****-****-****-****-****-****-****-****-**\n"
      ],
      "text/plain": [
       "<IPython.core.display.Markdown object>"
      ]
     },
     "metadata": {},
     "output_type": "display_data"
    },
    {
     "data": {
      "text/markdown": [
       "**-****-****-****-****-****-****-****-****-****-****-****-****-****-****-****-****-****-****-****-****-****-****-****-****-****-****-****-****-****-****-****-****-****-****-****-****-****-****-****-****-****-****-****-****-****-****-****-****-****-****-****-****-****-****-****-****-****-****-****-****-****-****-****-****-****-****-****-****-****-****-****-****-****-****-****-****-****-****-****-****-****-****-****-****-****-****-****-****-****-****-****-****-****-****-****-****-****-****-****-**\n"
      ],
      "text/plain": [
       "<IPython.core.display.Markdown object>"
      ]
     },
     "metadata": {},
     "output_type": "display_data"
    },
    {
     "data": {
      "text/markdown": [
       "**Label of training example 3**"
      ],
      "text/plain": [
       "<IPython.core.display.Markdown object>"
      ]
     },
     "metadata": {},
     "output_type": "display_data"
    },
    {
     "data": {
      "text/markdown": [
       "*sci.space*\n"
      ],
      "text/plain": [
       "<IPython.core.display.Markdown object>"
      ]
     },
     "metadata": {},
     "output_type": "display_data"
    },
    {
     "data": {
      "text/markdown": [
       "**Text of the message in training example 3**"
      ],
      "text/plain": [
       "<IPython.core.display.Markdown object>"
      ]
     },
     "metadata": {},
     "output_type": "display_data"
    },
    {
     "name": "stdout",
     "output_type": "stream",
     "text": [
      "\n",
      " >In article <1993Apr19.020359.26996@sq.sq.com>, msb@sq.sq.com (Mark Brader) \n",
      "\n",
      "MB>                                                             So the\n",
      "MB> 1970 figure seems unlikely to actually be anything but a perijove.\n",
      "\n",
      "JG>Sorry, _perijoves_...I'm not used to talking this language.\n",
      "\n",
      "Couldn't we just say periapsis or apoapsis?\n",
      "\n",
      " \n"
     ]
    },
    {
     "data": {
      "text/markdown": [
       "**-****-****-****-****-****-****-****-****-****-****-****-****-****-****-****-****-****-****-****-****-****-****-****-****-****-****-****-****-****-****-****-****-****-****-****-****-****-****-****-****-****-****-****-****-****-****-****-****-****-****-****-****-****-****-****-****-****-****-****-****-****-****-****-****-****-****-****-****-****-****-****-****-****-****-****-****-****-****-****-****-****-****-****-****-****-****-****-****-****-****-****-****-****-****-****-****-****-****-****-**\n"
      ],
      "text/plain": [
       "<IPython.core.display.Markdown object>"
      ]
     },
     "metadata": {},
     "output_type": "display_data"
    },
    {
     "data": {
      "text/markdown": [
       "**-****-****-****-****-****-****-****-****-****-****-****-****-****-****-****-****-****-****-****-****-****-****-****-****-****-****-****-****-****-****-****-****-****-****-****-****-****-****-****-****-****-****-****-****-****-****-****-****-****-****-****-****-****-****-****-****-****-****-****-****-****-****-****-****-****-****-****-****-****-****-****-****-****-****-****-****-****-****-****-****-****-****-****-****-****-****-****-****-****-****-****-****-****-****-****-****-****-****-****-**\n"
      ],
      "text/plain": [
       "<IPython.core.display.Markdown object>"
      ]
     },
     "metadata": {},
     "output_type": "display_data"
    },
    {
     "data": {
      "text/markdown": [
       "**Label of training example 4**"
      ],
      "text/plain": [
       "<IPython.core.display.Markdown object>"
      ]
     },
     "metadata": {},
     "output_type": "display_data"
    },
    {
     "data": {
      "text/markdown": [
       "*alt.atheism*\n"
      ],
      "text/plain": [
       "<IPython.core.display.Markdown object>"
      ]
     },
     "metadata": {},
     "output_type": "display_data"
    },
    {
     "data": {
      "text/markdown": [
       "**Text of the message in training example 4**"
      ],
      "text/plain": [
       "<IPython.core.display.Markdown object>"
      ]
     },
     "metadata": {},
     "output_type": "display_data"
    },
    {
     "name": "stdout",
     "output_type": "stream",
     "text": [
      "I have a request for those who would like to see Charley Wingate\n",
      "respond to the \"Charley Challenges\" (and judging from my e-mail, there\n",
      "appear to be quite a few of you.)  \n",
      "\n",
      "It is clear that Mr. Wingate intends to continue to post tangential or\n",
      "unrelated articles while ingoring the Challenges themselves.  Between\n",
      "the last two re-postings of the Challenges, I noted perhaps a dozen or\n",
      "more posts by Mr. Wingate, none of which answered a single Challenge.  \n",
      "\n",
      "It seems unmistakable to me that Mr. Wingate hopes that the questions\n",
      "will just go away, and he is doing his level best to change the\n",
      "subject.  Given that this seems a rather common net.theist tactic, I\n",
      "would like to suggest that we impress upon him our desire for answers,\n",
      "in the following manner:\n",
      "\n",
      "1. Ignore any future articles by Mr. Wingate that do not address the\n",
      "Challenges, until he answers them or explictly announces that he\n",
      "refuses to do so.\n",
      "\n",
      "--or--\n",
      "\n",
      "2. If you must respond to one of his articles, include within it\n",
      "something similar to the following:\n",
      "\n",
      "    \"Please answer the questions posed to you in the Charley Challenges.\"\n",
      "\n",
      "Really, I'm not looking to humiliate anyone here, I just want some\n",
      "honest answers.  You wouldn't think that honesty would be too much to\n",
      "ask from a devout Christian, would you?  \n",
      "\n",
      "Nevermind, that was a rhetorical question.\n"
     ]
    },
    {
     "data": {
      "text/markdown": [
       "**-****-****-****-****-****-****-****-****-****-****-****-****-****-****-****-****-****-****-****-****-****-****-****-****-****-****-****-****-****-****-****-****-****-****-****-****-****-****-****-****-****-****-****-****-****-****-****-****-****-****-****-****-****-****-****-****-****-****-****-****-****-****-****-****-****-****-****-****-****-****-****-****-****-****-****-****-****-****-****-****-****-****-****-****-****-****-****-****-****-****-****-****-****-****-****-****-****-****-****-**\n"
      ],
      "text/plain": [
       "<IPython.core.display.Markdown object>"
      ]
     },
     "metadata": {},
     "output_type": "display_data"
    },
    {
     "data": {
      "text/markdown": [
       "**-****-****-****-****-****-****-****-****-****-****-****-****-****-****-****-****-****-****-****-****-****-****-****-****-****-****-****-****-****-****-****-****-****-****-****-****-****-****-****-****-****-****-****-****-****-****-****-****-****-****-****-****-****-****-****-****-****-****-****-****-****-****-****-****-****-****-****-****-****-****-****-****-****-****-****-****-****-****-****-****-****-****-****-****-****-****-****-****-****-****-****-****-****-****-****-****-****-****-****-**\n"
      ],
      "text/plain": [
       "<IPython.core.display.Markdown object>"
      ]
     },
     "metadata": {},
     "output_type": "display_data"
    },
    {
     "data": {
      "text/markdown": [
       "**Label of training example 5**"
      ],
      "text/plain": [
       "<IPython.core.display.Markdown object>"
      ]
     },
     "metadata": {},
     "output_type": "display_data"
    },
    {
     "data": {
      "text/markdown": [
       "*sci.space*\n"
      ],
      "text/plain": [
       "<IPython.core.display.Markdown object>"
      ]
     },
     "metadata": {},
     "output_type": "display_data"
    },
    {
     "data": {
      "text/markdown": [
       "**Text of the message in training example 5**"
      ],
      "text/plain": [
       "<IPython.core.display.Markdown object>"
      ]
     },
     "metadata": {},
     "output_type": "display_data"
    },
    {
     "name": "stdout",
     "output_type": "stream",
     "text": [
      "AW&ST  had a brief blurb on a Manned Lunar Exploration confernce\n",
      "May 7th  at Crystal City Virginia, under the auspices of AIAA.\n",
      "\n",
      "Does anyone know more about this?  How much, to attend????\n",
      "\n",
      "Anyone want to go?\n"
     ]
    },
    {
     "data": {
      "text/markdown": [
       "**-****-****-****-****-****-****-****-****-****-****-****-****-****-****-****-****-****-****-****-****-****-****-****-****-****-****-****-****-****-****-****-****-****-****-****-****-****-****-****-****-****-****-****-****-****-****-****-****-****-****-****-****-****-****-****-****-****-****-****-****-****-****-****-****-****-****-****-****-****-****-****-****-****-****-****-****-****-****-****-****-****-****-****-****-****-****-****-****-****-****-****-****-****-****-****-****-****-****-****-**\n"
      ],
      "text/plain": [
       "<IPython.core.display.Markdown object>"
      ]
     },
     "metadata": {},
     "output_type": "display_data"
    }
   ],
   "source": [
    "def P1(num_examples=5):\n",
    "    \"\"\" \n",
    "    1st Problem. Print the text of the message along with the label\n",
    "    Args:\n",
    "        Number of examples we want to run. Current default value num_examples = 5 (number of training examples)\n",
    "    Returns:\n",
    "        Text of the num_examples along with the label\n",
    "    \"\"\"\n",
    "    printmd(\"**Number of training examples to print: %d**\"%num_examples)\n",
    "    for i in range(num_examples):\n",
    "        printmd('**-**'*100+'\\n')\n",
    "        printmd('**Label of training example %d**'%(i+1))\n",
    "        printmd('*%s*'%newsgroups_train.target_names[train_labels[i]]+'\\n')\n",
    "        printmd('**Text of the message in training example %d**'%(i+1))\n",
    "        print(\"\\n\".join(train_data[i].split(\"\\n\")))\n",
    "        printmd('**-**'*100+'\\n')\n",
    "    \n",
    "P1()"
   ]
  },
  {
   "cell_type": "markdown",
   "metadata": {},
   "source": [
    "## (2) \n",
    "Use CountVectorizer to turn the raw training text into feature vectors. You should use the fit_transform function, which makes 2 passes through the data: first it computes the vocabulary (\"fit\"), second it converts the raw text into feature vectors using the vocabulary (\"transform\").\n",
    "\n",
    "The vectorizer has a lot of options. To get familiar with some of them, write code to answer these questions:\n",
    "\n",
    "a. The output of the transform (also of fit_transform) is a sparse matrix: http://docs.scipy.org/doc/scipy-0.14.0/reference/generated/scipy.sparse.csr_matrix.html. What is the size of the vocabulary? What is the average number of non-zero features per example? What fraction of the entries in the matrix are non-zero? Hint: use \"nnz\" and \"shape\" attributes.\n",
    "\n",
    "b. What are the 0th and last feature strings (in alphabetical order)? Hint: use the vectorizer's get_feature_names function.\n",
    "\n",
    "c. Specify your own vocabulary with 4 words: [\"atheism\", \"graphics\", \"space\", \"religion\"]. Confirm the training vectors are appropriately shaped. Now what's the average number of non-zero features per example?\n",
    "\n",
    "d. Instead of extracting unigram word features, use \"analyzer\" and \"ngram_range\" to extract bigram and trigram character features. What size vocabulary does this yield?\n",
    "\n",
    "e. Use the \"min_df\" argument to prune words that appear in fewer than 10 documents. What size vocabulary does this yield?\n",
    "\n",
    "f. Using the standard CountVectorizer, what fraction of the words in the dev data are missing from the vocabulary? Hint: build a vocabulary for both train and dev and look at the size of the difference."
   ]
  },
  {
   "cell_type": "code",
   "execution_count": 5,
   "metadata": {},
   "outputs": [
    {
     "data": {
      "text/markdown": [
       "### Part a"
      ],
      "text/plain": [
       "<IPython.core.display.Markdown object>"
      ]
     },
     "metadata": {},
     "output_type": "display_data"
    },
    {
     "data": {
      "text/markdown": [
       "**Description of the sparse matrix**\n"
      ],
      "text/plain": [
       "<IPython.core.display.Markdown object>"
      ]
     },
     "metadata": {},
     "output_type": "display_data"
    },
    {
     "data": {
      "text/markdown": [
       "Dimensions of the sparse matrix is (2034,26879)"
      ],
      "text/plain": [
       "<IPython.core.display.Markdown object>"
      ]
     },
     "metadata": {},
     "output_type": "display_data"
    },
    {
     "data": {
      "text/markdown": [
       "Number of examples is 2034 and the size of the vocabulary is 26879"
      ],
      "text/plain": [
       "<IPython.core.display.Markdown object>"
      ]
     },
     "metadata": {},
     "output_type": "display_data"
    },
    {
     "data": {
      "text/markdown": [
       "Average number of non-zero features per example is 96.706"
      ],
      "text/plain": [
       "<IPython.core.display.Markdown object>"
      ]
     },
     "metadata": {},
     "output_type": "display_data"
    },
    {
     "data": {
      "text/markdown": [
       "Fraction of non-zeroes in the matriz is 0.00360"
      ],
      "text/plain": [
       "<IPython.core.display.Markdown object>"
      ]
     },
     "metadata": {},
     "output_type": "display_data"
    },
    {
     "data": {
      "text/markdown": [
       "### Part b"
      ],
      "text/plain": [
       "<IPython.core.display.Markdown object>"
      ]
     },
     "metadata": {},
     "output_type": "display_data"
    },
    {
     "data": {
      "text/markdown": [
       "**The 0th and the last feature string**"
      ],
      "text/plain": [
       "<IPython.core.display.Markdown object>"
      ]
     },
     "metadata": {},
     "output_type": "display_data"
    },
    {
     "data": {
      "text/markdown": [
       "The 0th string is *00*"
      ],
      "text/plain": [
       "<IPython.core.display.Markdown object>"
      ]
     },
     "metadata": {},
     "output_type": "display_data"
    },
    {
     "data": {
      "text/markdown": [
       "The last string is *zyxel*"
      ],
      "text/plain": [
       "<IPython.core.display.Markdown object>"
      ]
     },
     "metadata": {},
     "output_type": "display_data"
    },
    {
     "data": {
      "text/markdown": [
       "### Part c"
      ],
      "text/plain": [
       "<IPython.core.display.Markdown object>"
      ]
     },
     "metadata": {},
     "output_type": "display_data"
    },
    {
     "data": {
      "text/markdown": [
       "** Implement own vocabulary = [\"atheism\", \"graphics\", \"space\", \"religion\"] **"
      ],
      "text/plain": [
       "<IPython.core.display.Markdown object>"
      ]
     },
     "metadata": {},
     "output_type": "display_data"
    },
    {
     "data": {
      "text/markdown": [
       "Check the dimensions of the sparse matrix (2034,4)"
      ],
      "text/plain": [
       "<IPython.core.display.Markdown object>"
      ]
     },
     "metadata": {},
     "output_type": "display_data"
    },
    {
     "data": {
      "text/markdown": [
       "Number of examples is 2034 and the size of the vocabulary is 4"
      ],
      "text/plain": [
       "<IPython.core.display.Markdown object>"
      ]
     },
     "metadata": {},
     "output_type": "display_data"
    },
    {
     "data": {
      "text/markdown": [
       "Average number of non-zero features per example is 0.268"
      ],
      "text/plain": [
       "<IPython.core.display.Markdown object>"
      ]
     },
     "metadata": {},
     "output_type": "display_data"
    },
    {
     "data": {
      "text/markdown": [
       "### Part d"
      ],
      "text/plain": [
       "<IPython.core.display.Markdown object>"
      ]
     },
     "metadata": {},
     "output_type": "display_data"
    },
    {
     "data": {
      "text/markdown": [
       "**Implement a n-gram vocabulary using bigram and trigrams**"
      ],
      "text/plain": [
       "<IPython.core.display.Markdown object>"
      ]
     },
     "metadata": {},
     "output_type": "display_data"
    },
    {
     "data": {
      "text/markdown": [
       "Check the dimensions of the sparse matrix (2034,35478)"
      ],
      "text/plain": [
       "<IPython.core.display.Markdown object>"
      ]
     },
     "metadata": {},
     "output_type": "display_data"
    },
    {
     "data": {
      "text/markdown": [
       "Number of examples is 2034 and the size of the vocabulary is 35478"
      ],
      "text/plain": [
       "<IPython.core.display.Markdown object>"
      ]
     },
     "metadata": {},
     "output_type": "display_data"
    },
    {
     "data": {
      "text/markdown": [
       "### Part e"
      ],
      "text/plain": [
       "<IPython.core.display.Markdown object>"
      ]
     },
     "metadata": {},
     "output_type": "display_data"
    },
    {
     "data": {
      "text/markdown": [
       "**Implement a pruned vocabulary (prune words that appear in less than 10 documents)**"
      ],
      "text/plain": [
       "<IPython.core.display.Markdown object>"
      ]
     },
     "metadata": {},
     "output_type": "display_data"
    },
    {
     "data": {
      "text/markdown": [
       "Check the dimensions of the sparse matrix (2034,3064)"
      ],
      "text/plain": [
       "<IPython.core.display.Markdown object>"
      ]
     },
     "metadata": {},
     "output_type": "display_data"
    },
    {
     "data": {
      "text/markdown": [
       "Number of examples is 2034 and the size of the vocabulary is 3064"
      ],
      "text/plain": [
       "<IPython.core.display.Markdown object>"
      ]
     },
     "metadata": {},
     "output_type": "display_data"
    },
    {
     "data": {
      "text/markdown": [
       "### Part f"
      ],
      "text/plain": [
       "<IPython.core.display.Markdown object>"
      ]
     },
     "metadata": {},
     "output_type": "display_data"
    },
    {
     "data": {
      "text/markdown": [
       "** Fraction of words in the dev set not in the Standard Vocabulary**"
      ],
      "text/plain": [
       "<IPython.core.display.Markdown object>"
      ]
     },
     "metadata": {},
     "output_type": "display_data"
    },
    {
     "data": {
      "text/markdown": [
       "Fraction of words that are in the development set, but missing from the Standard Dictionary are              24.788 %"
      ],
      "text/plain": [
       "<IPython.core.display.Markdown object>"
      ]
     },
     "metadata": {},
     "output_type": "display_data"
    }
   ],
   "source": [
    "def P2():\n",
    "    \"\"\" \n",
    "    2nd Problem. Turn the raw data into features vectors using several steps\n",
    "    Args:\n",
    "        No arguments. All data is loaded in the global environment\n",
    "    Returns:\n",
    "        The function will return a report with six outputs: \n",
    "            a.- Output of transforms in a sparse matrix\n",
    "            b.- The 0th and Last feature string\n",
    "            c.- Vocabulary with 4 words\n",
    "            d.- Extraction of bigram and trigram character features\n",
    "            e.- Pruned vocabulary (prune words that appear in fewer than 10 documents)\n",
    "            f.- Compare the vocabulary from the dev set and the training set\n",
    "    \"\"\"\n",
    "    # Part a - Transform to vector of features\n",
    "    printmd('### Part a')\n",
    "    printmd('**Description of the sparse matrix**\\n')\n",
    "    count_vector = CountVectorizer()\n",
    "    train_data_count = count_vector.fit_transform(train_data)\n",
    "    printmd(\"Dimensions of the sparse matrix is (%d,%d)\"%train_data_count.shape)\n",
    "    printmd('Number of examples is %d and the size of the vocabulary is %d'%(train_data_count.shape[0],\\\n",
    "                                                                              train_data_count.shape[1]))\n",
    "    printmd('Average number of non-zero features per example is %.03f'%train_data_count.getnnz(axis=1).mean())\n",
    "    total_elements = train_data_count.shape[0]*train_data_count.shape[1]\n",
    "    printmd('Fraction of non-zeroes in the matriz is %.05f'%(train_data_count.nnz/total_elements))\n",
    "    \n",
    "    # Part b - 0th and Last feature\n",
    "    printmd('### Part b')\n",
    "    printmd('**The 0th and the last feature string**')\n",
    "    names = count_vector.get_feature_names()\n",
    "    printmd('The 0th string is *%s*'%names[0])\n",
    "    printmd('The last string is *%s*'%names[-1])\n",
    "    \n",
    "    # Part c - Own Vocabulary with 4 words\n",
    "    vocabulary = [\"atheism\", \"graphics\", \"space\", \"religion\"]\n",
    "    own_count_vector = CountVectorizer(vocabulary=vocabulary)\n",
    "    train_data_count_own = own_count_vector.fit_transform(train_data)\n",
    "    printmd('### Part c')\n",
    "    printmd('** Implement own vocabulary = [\"atheism\", \"graphics\", \"space\", \"religion\"] **')\n",
    "    printmd('Check the dimensions of the sparse matrix (%d,%d)'%train_data_count_own.shape)\n",
    "    printmd('Number of examples is %d and the size of the vocabulary is %d'%(train_data_count_own.shape[0],\\\n",
    "                                                                              train_data_count_own.shape[1]))\n",
    "    printmd('Average number of non-zero features per example is %.03f'%train_data_count_own.getnnz(axis=1).mean())\n",
    "    \n",
    "    # Part d - Extract Bigrams and Trigrams\n",
    "    ngram_count_vector = CountVectorizer(analyzer='char', ngram_range=(2,3))\n",
    "    train_data_count_ngram = ngram_count_vector.fit_transform(train_data)\n",
    "    printmd('### Part d')\n",
    "    printmd('**Implement a n-gram vocabulary using bigram and trigrams**')\n",
    "    printmd('Check the dimensions of the sparse matrix (%d,%d)'%train_data_count_ngram.shape)\n",
    "    printmd('Number of examples is %d and the size of the vocabulary is %d'%(train_data_count_ngram.shape[0],\\\n",
    "                                                                              train_data_count_ngram.shape[1]))\n",
    "    \n",
    "    # Part e - Prune Words that appear in less than 10 documents\n",
    "    prune_count_vector = CountVectorizer(min_df=10)\n",
    "    train_data_count_prune = prune_count_vector.fit_transform(train_data)\n",
    "    printmd('### Part e')\n",
    "    printmd('**Implement a pruned vocabulary (prune words that appear in less than 10 documents)**')\n",
    "    printmd('Check the dimensions of the sparse matrix (%d,%d)'%train_data_count_prune.shape)\n",
    "    printmd('Number of examples is %d and the size of the vocabulary is %d'%(train_data_count_prune.shape[0],\\\n",
    "                                                                              train_data_count_prune.shape[1]))    \n",
    "    \n",
    "    # Part f - Using Standard Vocabulary, check fraction missing\n",
    "    dev_count_vector = count_vector.fit_transform(dev_data)\n",
    "    names_dev = count_vector.get_feature_names()\n",
    "    printmd('### Part f')\n",
    "    printmd('** Fraction of words in the dev set not in the Standard Vocabulary**')\n",
    "    printmd('Fraction of words that are in the development set, but missing from the Standard Dictionary are \\\n",
    "             %.03f %%'%(100*(len(names_dev)-len(list(set(names).intersection(names_dev))))/len(names_dev)))\n",
    "    \n",
    "    \n",
    "    \n",
    "    \n",
    "P2()"
   ]
  },
  {
   "cell_type": "markdown",
   "metadata": {},
   "source": [
    "## (3) \n",
    "Use the default CountVectorizer options and report the f1 score (use metrics.f1_score) for a k nearest neighbors classifier; find the optimal value for k. Also fit a Multinomial Naive Bayes model and find the optimal value for alpha. Finally, fit a logistic regression model and find the optimal value for the regularization strength C using L2 regularization. A few questions:\n",
    "\n",
    "a. Why doesn't nearest neighbors work well for this problem?\n",
    "\n",
    "b. Any ideas why logistic regression doesn't work as well as Naive Bayes?\n",
    "\n",
    "c. Logistic regression estimates a weight vector for each class, which you can access with the coef\\_ attribute. Output the sum of the squared weight values for each class for each setting of the C parameter. Briefly explain the relationship between the sum and the value of C."
   ]
  },
  {
   "cell_type": "code",
   "execution_count": 109,
   "metadata": {
    "scrolled": false
   },
   "outputs": [
    {
     "data": {
      "text/markdown": [
       "### Part a - kNN Neighbors Classifier"
      ],
      "text/plain": [
       "<IPython.core.display.Markdown object>"
      ]
     },
     "metadata": {},
     "output_type": "display_data"
    },
    {
     "data": {
      "text/markdown": [
       "Optimal value for k is 150 with a F1 score of 45.08 %"
      ],
      "text/plain": [
       "<IPython.core.display.Markdown object>"
      ]
     },
     "metadata": {},
     "output_type": "display_data"
    },
    {
     "data": {
      "text/plain": [
       "<matplotlib.figure.Figure at 0x245cce02d30>"
      ]
     },
     "metadata": {},
     "output_type": "display_data"
    },
    {
     "data": {
      "image/png": "[encoded data removed]",
      "text/plain": [
       "<matplotlib.figure.Figure at 0x245afc40e48>"
      ]
     },
     "metadata": {},
     "output_type": "display_data"
    },
    {
     "data": {
      "text/markdown": [
       "### Part b - Multinomial Naive Bayes"
      ],
      "text/plain": [
       "<IPython.core.display.Markdown object>"
      ]
     },
     "metadata": {},
     "output_type": "display_data"
    },
    {
     "data": {
      "text/markdown": [
       "Optimal value for alpha is 0.0100 with a F1 score of 82.94 %"
      ],
      "text/plain": [
       "<IPython.core.display.Markdown object>"
      ]
     },
     "metadata": {},
     "output_type": "display_data"
    },
    {
     "data": {
      "text/plain": [
       "<matplotlib.figure.Figure at 0x245bc869780>"
      ]
     },
     "metadata": {},
     "output_type": "display_data"
    },
    {
     "data": {
      "image/png": "[encoded data removed]",
      "text/plain": [
       "<matplotlib.figure.Figure at 0x245b8450668>"
      ]
     },
     "metadata": {},
     "output_type": "display_data"
    },
    {
     "data": {
      "text/markdown": [
       "### Part c - Logistic Regression with L2 Regularization"
      ],
      "text/plain": [
       "<IPython.core.display.Markdown object>"
      ]
     },
     "metadata": {},
     "output_type": "display_data"
    },
    {
     "data": {
      "text/markdown": [
       "Optimal value for C is 0.50 with a F1 score of 77.83 %"
      ],
      "text/plain": [
       "<IPython.core.display.Markdown object>"
      ]
     },
     "metadata": {},
     "output_type": "display_data"
    },
    {
     "data": {
      "text/plain": [
       "<matplotlib.figure.Figure at 0x245c8275898>"
      ]
     },
     "metadata": {},
     "output_type": "display_data"
    },
    {
     "data": {
      "image/png": "[encoded data removed]",
      "text/plain": [
       "<matplotlib.figure.Figure at 0x245b7749748>"
      ]
     },
     "metadata": {},
     "output_type": "display_data"
    },
    {
     "data": {
      "text/markdown": [
       "Relationship between sum of square weights values of each class anc C: "
      ],
      "text/plain": [
       "<IPython.core.display.Markdown object>"
      ]
     },
     "metadata": {},
     "output_type": "display_data"
    },
    {
     "data": {
      "text/markdown": [
       "- For **C=0.0001** the sum of square weights values of each class is:"
      ],
      "text/plain": [
       "<IPython.core.display.Markdown object>"
      ]
     },
     "metadata": {},
     "output_type": "display_data"
    },
    {
     "data": {
      "text/markdown": [
       "   ... 1\\. *alt.atheism* - Sum of Squared Weights: *0.01*"
      ],
      "text/plain": [
       "<IPython.core.display.Markdown object>"
      ]
     },
     "metadata": {},
     "output_type": "display_data"
    },
    {
     "data": {
      "text/markdown": [
       "   ... 2\\. *comp.graphics* - Sum of Squared Weights: *0.01*"
      ],
      "text/plain": [
       "<IPython.core.display.Markdown object>"
      ]
     },
     "metadata": {},
     "output_type": "display_data"
    },
    {
     "data": {
      "text/markdown": [
       "   ... 3\\. *sci.space* - Sum of Squared Weights: *0.01*"
      ],
      "text/plain": [
       "<IPython.core.display.Markdown object>"
      ]
     },
     "metadata": {},
     "output_type": "display_data"
    },
    {
     "data": {
      "text/markdown": [
       "   ... 4\\. *talk.religion.misc* - Sum of Squared Weights: *0.01*"
      ],
      "text/plain": [
       "<IPython.core.display.Markdown object>"
      ]
     },
     "metadata": {},
     "output_type": "display_data"
    },
    {
     "data": {
      "text/markdown": [
       "- For **C=0.1000** the sum of square weights values of each class is:"
      ],
      "text/plain": [
       "<IPython.core.display.Markdown object>"
      ]
     },
     "metadata": {},
     "output_type": "display_data"
    },
    {
     "data": {
      "text/markdown": [
       "   ... 1\\. *alt.atheism* - Sum of Squared Weights: *27.13*"
      ],
      "text/plain": [
       "<IPython.core.display.Markdown object>"
      ]
     },
     "metadata": {},
     "output_type": "display_data"
    },
    {
     "data": {
      "text/markdown": [
       "   ... 2\\. *comp.graphics* - Sum of Squared Weights: *24.65*"
      ],
      "text/plain": [
       "<IPython.core.display.Markdown object>"
      ]
     },
     "metadata": {},
     "output_type": "display_data"
    },
    {
     "data": {
      "text/markdown": [
       "   ... 3\\. *sci.space* - Sum of Squared Weights: *27.46*"
      ],
      "text/plain": [
       "<IPython.core.display.Markdown object>"
      ]
     },
     "metadata": {},
     "output_type": "display_data"
    },
    {
     "data": {
      "text/markdown": [
       "   ... 4\\. *talk.religion.misc* - Sum of Squared Weights: *23.03*"
      ],
      "text/plain": [
       "<IPython.core.display.Markdown object>"
      ]
     },
     "metadata": {},
     "output_type": "display_data"
    },
    {
     "data": {
      "text/markdown": [
       "- For **C=0.2000** the sum of square weights values of each class is:"
      ],
      "text/plain": [
       "<IPython.core.display.Markdown object>"
      ]
     },
     "metadata": {},
     "output_type": "display_data"
    },
    {
     "data": {
      "text/markdown": [
       "   ... 1\\. *alt.atheism* - Sum of Squared Weights: *49.75*"
      ],
      "text/plain": [
       "<IPython.core.display.Markdown object>"
      ]
     },
     "metadata": {},
     "output_type": "display_data"
    },
    {
     "data": {
      "text/markdown": [
       "   ... 2\\. *comp.graphics* - Sum of Squared Weights: *42.75*"
      ],
      "text/plain": [
       "<IPython.core.display.Markdown object>"
      ]
     },
     "metadata": {},
     "output_type": "display_data"
    },
    {
     "data": {
      "text/markdown": [
       "   ... 3\\. *sci.space* - Sum of Squared Weights: *49.32*"
      ],
      "text/plain": [
       "<IPython.core.display.Markdown object>"
      ]
     },
     "metadata": {},
     "output_type": "display_data"
    },
    {
     "data": {
      "text/markdown": [
       "   ... 4\\. *talk.religion.misc* - Sum of Squared Weights: *42.67*"
      ],
      "text/plain": [
       "<IPython.core.display.Markdown object>"
      ]
     },
     "metadata": {},
     "output_type": "display_data"
    },
    {
     "data": {
      "text/markdown": [
       "- For **C=0.5000** the sum of square weights values of each class is:"
      ],
      "text/plain": [
       "<IPython.core.display.Markdown object>"
      ]
     },
     "metadata": {},
     "output_type": "display_data"
    },
    {
     "data": {
      "text/markdown": [
       "   ... 1\\. *alt.atheism* - Sum of Squared Weights: *102.62*"
      ],
      "text/plain": [
       "<IPython.core.display.Markdown object>"
      ]
     },
     "metadata": {},
     "output_type": "display_data"
    },
    {
     "data": {
      "text/markdown": [
       "   ... 2\\. *comp.graphics* - Sum of Squared Weights: *83.08*"
      ],
      "text/plain": [
       "<IPython.core.display.Markdown object>"
      ]
     },
     "metadata": {},
     "output_type": "display_data"
    },
    {
     "data": {
      "text/markdown": [
       "   ... 3\\. *sci.space* - Sum of Squared Weights: *99.04*"
      ],
      "text/plain": [
       "<IPython.core.display.Markdown object>"
      ]
     },
     "metadata": {},
     "output_type": "display_data"
    },
    {
     "data": {
      "text/markdown": [
       "   ... 4\\. *talk.religion.misc* - Sum of Squared Weights: *88.98*"
      ],
      "text/plain": [
       "<IPython.core.display.Markdown object>"
      ]
     },
     "metadata": {},
     "output_type": "display_data"
    },
    {
     "data": {
      "text/markdown": [
       "- For **C=0.8000** the sum of square weights values of each class is:"
      ],
      "text/plain": [
       "<IPython.core.display.Markdown object>"
      ]
     },
     "metadata": {},
     "output_type": "display_data"
    },
    {
     "data": {
      "text/markdown": [
       "   ... 1\\. *alt.atheism* - Sum of Squared Weights: *143.58*"
      ],
      "text/plain": [
       "<IPython.core.display.Markdown object>"
      ]
     },
     "metadata": {},
     "output_type": "display_data"
    },
    {
     "data": {
      "text/markdown": [
       "   ... 2\\. *comp.graphics* - Sum of Squared Weights: *113.58*"
      ],
      "text/plain": [
       "<IPython.core.display.Markdown object>"
      ]
     },
     "metadata": {},
     "output_type": "display_data"
    },
    {
     "data": {
      "text/markdown": [
       "   ... 3\\. *sci.space* - Sum of Squared Weights: *136.68*"
      ],
      "text/plain": [
       "<IPython.core.display.Markdown object>"
      ]
     },
     "metadata": {},
     "output_type": "display_data"
    },
    {
     "data": {
      "text/markdown": [
       "   ... 4\\. *talk.religion.misc* - Sum of Squared Weights: *124.99*"
      ],
      "text/plain": [
       "<IPython.core.display.Markdown object>"
      ]
     },
     "metadata": {},
     "output_type": "display_data"
    },
    {
     "data": {
      "text/markdown": [
       "- For **C=1.0000** the sum of square weights values of each class is:"
      ],
      "text/plain": [
       "<IPython.core.display.Markdown object>"
      ]
     },
     "metadata": {},
     "output_type": "display_data"
    },
    {
     "data": {
      "text/markdown": [
       "   ... 1\\. *alt.atheism* - Sum of Squared Weights: *167.12*"
      ],
      "text/plain": [
       "<IPython.core.display.Markdown object>"
      ]
     },
     "metadata": {},
     "output_type": "display_data"
    },
    {
     "data": {
      "text/markdown": [
       "   ... 2\\. *comp.graphics* - Sum of Squared Weights: *130.87*"
      ],
      "text/plain": [
       "<IPython.core.display.Markdown object>"
      ]
     },
     "metadata": {},
     "output_type": "display_data"
    },
    {
     "data": {
      "text/markdown": [
       "   ... 3\\. *sci.space* - Sum of Squared Weights: *157.95*"
      ],
      "text/plain": [
       "<IPython.core.display.Markdown object>"
      ]
     },
     "metadata": {},
     "output_type": "display_data"
    },
    {
     "data": {
      "text/markdown": [
       "   ... 4\\. *talk.religion.misc* - Sum of Squared Weights: *145.73*"
      ],
      "text/plain": [
       "<IPython.core.display.Markdown object>"
      ]
     },
     "metadata": {},
     "output_type": "display_data"
    },
    {
     "data": {
      "text/markdown": [
       "- For **C=1.5000** the sum of square weights values of each class is:"
      ],
      "text/plain": [
       "<IPython.core.display.Markdown object>"
      ]
     },
     "metadata": {},
     "output_type": "display_data"
    },
    {
     "data": {
      "text/markdown": [
       "   ... 1\\. *alt.atheism* - Sum of Squared Weights: *216.60*"
      ],
      "text/plain": [
       "<IPython.core.display.Markdown object>"
      ]
     },
     "metadata": {},
     "output_type": "display_data"
    },
    {
     "data": {
      "text/markdown": [
       "   ... 2\\. *comp.graphics* - Sum of Squared Weights: *167.48*"
      ],
      "text/plain": [
       "<IPython.core.display.Markdown object>"
      ]
     },
     "metadata": {},
     "output_type": "display_data"
    },
    {
     "data": {
      "text/markdown": [
       "   ... 3\\. *sci.space* - Sum of Squared Weights: *202.84*"
      ],
      "text/plain": [
       "<IPython.core.display.Markdown object>"
      ]
     },
     "metadata": {},
     "output_type": "display_data"
    },
    {
     "data": {
      "text/markdown": [
       "   ... 4\\. *talk.religion.misc* - Sum of Squared Weights: *189.77*"
      ],
      "text/plain": [
       "<IPython.core.display.Markdown object>"
      ]
     },
     "metadata": {},
     "output_type": "display_data"
    },
    {
     "data": {
      "text/markdown": [
       "- For **C=2.0000** the sum of square weights values of each class is:"
      ],
      "text/plain": [
       "<IPython.core.display.Markdown object>"
      ]
     },
     "metadata": {},
     "output_type": "display_data"
    },
    {
     "data": {
      "text/markdown": [
       "   ... 1\\. *alt.atheism* - Sum of Squared Weights: *257.66*"
      ],
      "text/plain": [
       "<IPython.core.display.Markdown object>"
      ]
     },
     "metadata": {},
     "output_type": "display_data"
    },
    {
     "data": {
      "text/markdown": [
       "   ... 2\\. *comp.graphics* - Sum of Squared Weights: *197.88*"
      ],
      "text/plain": [
       "<IPython.core.display.Markdown object>"
      ]
     },
     "metadata": {},
     "output_type": "display_data"
    },
    {
     "data": {
      "text/markdown": [
       "   ... 3\\. *sci.space* - Sum of Squared Weights: *239.93*"
      ],
      "text/plain": [
       "<IPython.core.display.Markdown object>"
      ]
     },
     "metadata": {},
     "output_type": "display_data"
    },
    {
     "data": {
      "text/markdown": [
       "   ... 4\\. *talk.religion.misc* - Sum of Squared Weights: *226.61*"
      ],
      "text/plain": [
       "<IPython.core.display.Markdown object>"
      ]
     },
     "metadata": {},
     "output_type": "display_data"
    },
    {
     "data": {
      "text/markdown": [
       "- For **C=5.0000** the sum of square weights values of each class is:"
      ],
      "text/plain": [
       "<IPython.core.display.Markdown object>"
      ]
     },
     "metadata": {},
     "output_type": "display_data"
    },
    {
     "data": {
      "text/markdown": [
       "   ... 1\\. *alt.atheism* - Sum of Squared Weights: *422.76*"
      ],
      "text/plain": [
       "<IPython.core.display.Markdown object>"
      ]
     },
     "metadata": {},
     "output_type": "display_data"
    },
    {
     "data": {
      "text/markdown": [
       "   ... 2\\. *comp.graphics* - Sum of Squared Weights: *322.90*"
      ],
      "text/plain": [
       "<IPython.core.display.Markdown object>"
      ]
     },
     "metadata": {},
     "output_type": "display_data"
    },
    {
     "data": {
      "text/markdown": [
       "   ... 3\\. *sci.space* - Sum of Squared Weights: *389.63*"
      ],
      "text/plain": [
       "<IPython.core.display.Markdown object>"
      ]
     },
     "metadata": {},
     "output_type": "display_data"
    },
    {
     "data": {
      "text/markdown": [
       "   ... 4\\. *talk.religion.misc* - Sum of Squared Weights: *377.85*"
      ],
      "text/plain": [
       "<IPython.core.display.Markdown object>"
      ]
     },
     "metadata": {},
     "output_type": "display_data"
    },
    {
     "data": {
      "text/markdown": [
       "- For **C=10.0000** the sum of square weights values of each class is:"
      ],
      "text/plain": [
       "<IPython.core.display.Markdown object>"
      ]
     },
     "metadata": {},
     "output_type": "display_data"
    },
    {
     "data": {
      "text/markdown": [
       "   ... 1\\. *alt.atheism* - Sum of Squared Weights: *586.41*"
      ],
      "text/plain": [
       "<IPython.core.display.Markdown object>"
      ]
     },
     "metadata": {},
     "output_type": "display_data"
    },
    {
     "data": {
      "text/markdown": [
       "   ... 2\\. *comp.graphics* - Sum of Squared Weights: *447.94*"
      ],
      "text/plain": [
       "<IPython.core.display.Markdown object>"
      ]
     },
     "metadata": {},
     "output_type": "display_data"
    },
    {
     "data": {
      "text/markdown": [
       "   ... 3\\. *sci.space* - Sum of Squared Weights: *539.09*"
      ],
      "text/plain": [
       "<IPython.core.display.Markdown object>"
      ]
     },
     "metadata": {},
     "output_type": "display_data"
    },
    {
     "data": {
      "text/markdown": [
       "   ... 4\\. *talk.religion.misc* - Sum of Squared Weights: *530.68*"
      ],
      "text/plain": [
       "<IPython.core.display.Markdown object>"
      ]
     },
     "metadata": {},
     "output_type": "display_data"
    },
    {
     "data": {
      "text/markdown": [
       "- For **C=15.0000** the sum of square weights values of each class is:"
      ],
      "text/plain": [
       "<IPython.core.display.Markdown object>"
      ]
     },
     "metadata": {},
     "output_type": "display_data"
    },
    {
     "data": {
      "text/markdown": [
       "   ... 1\\. *alt.atheism* - Sum of Squared Weights: *698.36*"
      ],
      "text/plain": [
       "<IPython.core.display.Markdown object>"
      ]
     },
     "metadata": {},
     "output_type": "display_data"
    },
    {
     "data": {
      "text/markdown": [
       "   ... 2\\. *comp.graphics* - Sum of Squared Weights: *536.29*"
      ],
      "text/plain": [
       "<IPython.core.display.Markdown object>"
      ]
     },
     "metadata": {},
     "output_type": "display_data"
    },
    {
     "data": {
      "text/markdown": [
       "   ... 3\\. *sci.space* - Sum of Squared Weights: *643.62*"
      ],
      "text/plain": [
       "<IPython.core.display.Markdown object>"
      ]
     },
     "metadata": {},
     "output_type": "display_data"
    },
    {
     "data": {
      "text/markdown": [
       "   ... 4\\. *talk.religion.misc* - Sum of Squared Weights: *637.90*"
      ],
      "text/plain": [
       "<IPython.core.display.Markdown object>"
      ]
     },
     "metadata": {},
     "output_type": "display_data"
    }
   ],
   "source": [
    "def P3():\n",
    "    \"\"\" \n",
    "    3rd Problem. Using the default features vector, train a kNN, a Multinomial Naive Bayes, and a Logistic Regression\n",
    "    Args:\n",
    "        No arguments. All data is loaded in the global environment\n",
    "    Returns:\n",
    "        The function will return a report with three outputs: \n",
    "            a.- F1 Score for the kNN classifier, after using GridSearch\n",
    "            b.- F1 Score for the Multinomial Naive Bayes Classifier, after using GridSearch\n",
    "            c.- F1 Score for Logistic Regression Classifier using L2 Regularization, using GridSearch\n",
    "    \"\"\"\n",
    "    classes = ['alt.atheism', 'comp.graphics', 'sci.space', 'talk.religion.misc']\n",
    "    mpl.rcParams['figure.figsize'] = 16,4\n",
    "    fig = plt.figure(figsize=(16,4))\n",
    "    \n",
    "    # Part a - kNN Classifier\n",
    "    knn_clf = Pipeline([\n",
    "            ('vect', CountVectorizer()),\n",
    "            ('clf', KNeighborsClassifier(n_jobs=-1)),\n",
    "    ])\n",
    "    k = [1,2,5,10,15,20,25,30,40,50,60,70,80,90,100,150,200]\n",
    "    param_grid = {\n",
    "        'clf__n_neighbors': k}\n",
    "    best_knn_clf = GridSearchCV(knn_clf,param_grid,cv = 5,scoring='f1_micro')\n",
    "    best_knn_clf.fit(train_data, train_labels)\n",
    "    results = pd.DataFrame(best_knn_clf.cv_results_,index = k)\n",
    "    printmd('### Part a - kNN Neighbors Classifier')\n",
    "    printmd('Optimal value for k is %d with a F1 score of %.02f %%'%(best_knn_clf.best_params_['clf__n_neighbors'],\\\n",
    "                                                                 100*best_knn_clf.best_score_))\n",
    "    ax = results.plot('param_clf__n_neighbors','mean_test_score', linestyle='-', marker='o', logx=True)\n",
    "    ax.set_title(\"Search of Hyperparameter k - Mean Test Score vs. Number of Neighbors\")\n",
    "    ax.set_xlabel('Log Number of Neighbors')\n",
    "    ax.set_ylabel('Mean Test Score of Grid Search')\n",
    "    plt.show()\n",
    "\n",
    "    \n",
    "    # Part b - Multinomial Naive Bayes\n",
    "    nb_multi_clf = Pipeline([\n",
    "            ('vect', CountVectorizer()),\n",
    "            ('clf', MultinomialNB()),\n",
    "    ])\n",
    "    alpha = [0.0, 0.0001, 0.001, 0.01, 0.1, 0.5, 1.0, 2.0, 10.0]\n",
    "    param_grid = {\n",
    "        'clf__alpha': alpha}\n",
    "    best_nb_multi_clf = GridSearchCV(nb_multi_clf,param_grid,cv = 5,scoring='f1_micro')\n",
    "    best_nb_multi_clf.fit(train_data, train_labels)\n",
    "    results = pd.DataFrame(best_nb_multi_clf.cv_results_,index = alpha)\n",
    "    printmd('### Part b - Multinomial Naive Bayes')\n",
    "    printmd('Optimal value for alpha is %.04f with a F1 score of %.02f %%'%(best_nb_multi_clf.best_params_['clf__alpha'],\\\n",
    "                                                                 100*best_nb_multi_clf.best_score_))\n",
    "    fig = plt.figure(figsize=(16,4))\n",
    "    ax = results.plot('param_clf__alpha','mean_test_score', linestyle='-', marker='o', logx=True)\n",
    "    ax.set_title(\"Search of Hyperparameter $\\\\alpha$ - Mean Test Score vs. $\\\\alpha$\")\n",
    "    ax.set_xlabel('Log $\\\\alpha$')\n",
    "    ax.set_ylabel('Mean Test Score of Grid Search')\n",
    "    plt.show()\n",
    "\n",
    "    \n",
    "    # Part c - Logistic Regression with L2 Regularization\n",
    "    log_reg_clf = Pipeline([\n",
    "            ('vect', CountVectorizer()),\n",
    "            ('clf', LogisticRegression(penalty='l2', n_jobs=-1)),\n",
    "    ])\n",
    "    C = [0.0001, 0.1, 0.2, 0.5, 0.8, 1, 1.5, 2.0, 5.0, 10.0, 15.0]\n",
    "    param_grid = {\n",
    "        'clf__C': C}\n",
    "    best_log_reg_clf = GridSearchCV(log_reg_clf,param_grid,cv = 5,scoring='f1_micro')\n",
    "    best_log_reg_clf.fit(train_data, train_labels)\n",
    "    results = pd.DataFrame(best_log_reg_clf.cv_results_,index = C)\n",
    "    printmd('### Part c - Logistic Regression with L2 Regularization')\n",
    "    printmd('Optimal value for C is %.02f with a F1 score of %.02f %%'%(best_log_reg_clf.best_params_['clf__C'],\\\n",
    "                                                                 100*best_log_reg_clf.best_score_))\n",
    "    fig = plt.figure(figsize=(16,4))\n",
    "    ax = results.plot('param_clf__C','mean_test_score', linestyle='-', marker='o', logx=True)\n",
    "    ax.set_title(\"Search of Hyperparameter C - Mean Test Score vs. C\")\n",
    "    ax.set_xlabel('Log C')\n",
    "    ax.set_ylabel('Mean Test Score of Grid Search')\n",
    "    plt.show()\n",
    "    printmd('Relationship between sum of square weights values of each class anc C: ')\n",
    "    for c in C:\n",
    "        log_reg_clf = Pipeline([\n",
    "            ('vect', CountVectorizer()),\n",
    "            ('clf', LogisticRegression(penalty='l2', C=c, n_jobs=-1)),\n",
    "        ])\n",
    "        log_reg_clf.fit(train_data, train_labels)\n",
    "        printmd('- For **C=%.04f** the sum of square weights values of each class is:'%c)\n",
    "        \n",
    "        for i, weight in enumerate(classes):\n",
    "            printmd('   ... %s\\. *%s* - Sum of Squared Weights: *%.02f*'%(i+1,weight,\\\n",
    "                                                                 np.sum(log_reg_clf.named_steps['clf'].coef_[i]**2)))\n",
    "        \n",
    "\n",
    "a = P3()"
   ]
  },
  {
   "cell_type": "markdown",
   "metadata": {},
   "source": [
    "### Answer:\n",
    "\n",
    "a. kNN doesn't work well in this problem because it needs to have a large dataset to be effective: in our case we are working with only 2034 examples. Therefore, it needs many neighbors to be effective, and is not finding out the real division of the hyperspace because of lack of training data. Also, the way distances work in the space is not well suited: how 'far' a word is from another is not well defined, because we are not normalizing the way we process the frequency count.\n",
    "\n",
    "b. Because the data fits a Naive Bayes Multinomial quite well: events are almost idenpendent, training data is small, and is possible the events comes from a non-linear data generative model, which means logistic regression will present some problems. However, the greater the amount of training data, logistic regression should perfom better\n",
    "\n",
    "c. Is obvious that the higher the value of C, the sum square weights of each class will increase. C is the inverse of the regularization parameter, therefore, the lower its value, the more penalized each weight are. When C increases, the weights increases with it. Because we are using a L2 regularization, this relationship is valid in the sum square space. Also, we can see that the the F1 score is flat around 0.1 to 0.5. The smaller the value of C, the weights become relatively smaller. For P4 I'll compromise and use a value of 0.25"
   ]
  },
  {
   "cell_type": "markdown",
   "metadata": {},
   "source": [
    "## (4) \n",
    "Train a logistic regression model. Find the 5 features with the largest weights for each label -- 20 features in total. Create a table with 20 rows and 4 columns that shows the weight for each of these features for each of the labels. Create the table again with bigram features. Any surprising features in this table?"
   ]
  },
  {
   "cell_type": "code",
   "execution_count": 41,
   "metadata": {},
   "outputs": [
    {
     "data": {
      "text/markdown": [
       "### Part a - Logistic Regression - Word Vocabulary C = 0.25"
      ],
      "text/plain": [
       "<IPython.core.display.Markdown object>"
      ]
     },
     "metadata": {},
     "output_type": "display_data"
    },
    {
     "data": {
      "text/markdown": [
       "*Table of the top 5 features by weights per label*"
      ],
      "text/plain": [
       "<IPython.core.display.Markdown object>"
      ]
     },
     "metadata": {},
     "output_type": "display_data"
    },
    {
     "data": {
      "text/html": [
       "<style  type=\"text/css\" >\n",
       "    #T_01e1b652_498e_11e9_b8ca_1002b51cfaa6row0_col0 {\n",
       "            background-color:  #ffffff;\n",
       "            color:  #000000;\n",
       "        }    #T_01e1b652_498e_11e9_b8ca_1002b51cfaa6row0_col1 {\n",
       "            background-color:  #565656;\n",
       "            color:  #f1f1f1;\n",
       "        }    #T_01e1b652_498e_11e9_b8ca_1002b51cfaa6row0_col2 {\n",
       "            background-color:  #434343;\n",
       "            color:  #f1f1f1;\n",
       "        }    #T_01e1b652_498e_11e9_b8ca_1002b51cfaa6row0_col3 {\n",
       "            background-color:  #4f4f4f;\n",
       "            color:  #f1f1f1;\n",
       "        }    #T_01e1b652_498e_11e9_b8ca_1002b51cfaa6row1_col0 {\n",
       "            background-color:  #fefefe;\n",
       "            color:  #000000;\n",
       "        }    #T_01e1b652_498e_11e9_b8ca_1002b51cfaa6row1_col1 {\n",
       "            background-color:  #5e5e5e;\n",
       "            color:  #f1f1f1;\n",
       "        }    #T_01e1b652_498e_11e9_b8ca_1002b51cfaa6row1_col2 {\n",
       "            background-color:  #454545;\n",
       "            color:  #f1f1f1;\n",
       "        }    #T_01e1b652_498e_11e9_b8ca_1002b51cfaa6row1_col3 {\n",
       "            background-color:  #363636;\n",
       "            color:  #f1f1f1;\n",
       "        }    #T_01e1b652_498e_11e9_b8ca_1002b51cfaa6row2_col0 {\n",
       "            background-color:  #fefefe;\n",
       "            color:  #000000;\n",
       "        }    #T_01e1b652_498e_11e9_b8ca_1002b51cfaa6row2_col1 {\n",
       "            background-color:  #484848;\n",
       "            color:  #f1f1f1;\n",
       "        }    #T_01e1b652_498e_11e9_b8ca_1002b51cfaa6row2_col2 {\n",
       "            background-color:  #3e3e3e;\n",
       "            color:  #f1f1f1;\n",
       "        }    #T_01e1b652_498e_11e9_b8ca_1002b51cfaa6row2_col3 {\n",
       "            background-color:  #4d4d4d;\n",
       "            color:  #f1f1f1;\n",
       "        }    #T_01e1b652_498e_11e9_b8ca_1002b51cfaa6row3_col0 {\n",
       "            background-color:  #fefefe;\n",
       "            color:  #000000;\n",
       "        }    #T_01e1b652_498e_11e9_b8ca_1002b51cfaa6row3_col1 {\n",
       "            background-color:  #3a3a3a;\n",
       "            color:  #f1f1f1;\n",
       "        }    #T_01e1b652_498e_11e9_b8ca_1002b51cfaa6row3_col2 {\n",
       "            background-color:  #242424;\n",
       "            color:  #f1f1f1;\n",
       "        }    #T_01e1b652_498e_11e9_b8ca_1002b51cfaa6row3_col3 {\n",
       "            background-color:  #7f7f7f;\n",
       "            color:  #000000;\n",
       "        }    #T_01e1b652_498e_11e9_b8ca_1002b51cfaa6row4_col0 {\n",
       "            background-color:  #eeeeee;\n",
       "            color:  #000000;\n",
       "        }    #T_01e1b652_498e_11e9_b8ca_1002b51cfaa6row4_col1 {\n",
       "            background-color:  #5e5e5e;\n",
       "            color:  #f1f1f1;\n",
       "        }    #T_01e1b652_498e_11e9_b8ca_1002b51cfaa6row4_col2 {\n",
       "            background-color:  #444444;\n",
       "            color:  #f1f1f1;\n",
       "        }    #T_01e1b652_498e_11e9_b8ca_1002b51cfaa6row4_col3 {\n",
       "            background-color:  #5d5d5d;\n",
       "            color:  #f1f1f1;\n",
       "        }    #T_01e1b652_498e_11e9_b8ca_1002b51cfaa6row5_col0 {\n",
       "            background-color:  #383838;\n",
       "            color:  #f1f1f1;\n",
       "        }    #T_01e1b652_498e_11e9_b8ca_1002b51cfaa6row5_col1 {\n",
       "            background-color:  #ffffff;\n",
       "            color:  #000000;\n",
       "        }    #T_01e1b652_498e_11e9_b8ca_1002b51cfaa6row5_col2 {\n",
       "            background-color:  #000000;\n",
       "            color:  #f1f1f1;\n",
       "        }    #T_01e1b652_498e_11e9_b8ca_1002b51cfaa6row5_col3 {\n",
       "            background-color:  #2f2f2f;\n",
       "            color:  #f1f1f1;\n",
       "        }    #T_01e1b652_498e_11e9_b8ca_1002b51cfaa6row6_col0 {\n",
       "            background-color:  #535353;\n",
       "            color:  #f1f1f1;\n",
       "        }    #T_01e1b652_498e_11e9_b8ca_1002b51cfaa6row6_col1 {\n",
       "            background-color:  #cecece;\n",
       "            color:  #000000;\n",
       "        }    #T_01e1b652_498e_11e9_b8ca_1002b51cfaa6row6_col2 {\n",
       "            background-color:  #252525;\n",
       "            color:  #f1f1f1;\n",
       "        }    #T_01e1b652_498e_11e9_b8ca_1002b51cfaa6row6_col3 {\n",
       "            background-color:  #515151;\n",
       "            color:  #f1f1f1;\n",
       "        }    #T_01e1b652_498e_11e9_b8ca_1002b51cfaa6row7_col0 {\n",
       "            background-color:  #6b6b6b;\n",
       "            color:  #000000;\n",
       "        }    #T_01e1b652_498e_11e9_b8ca_1002b51cfaa6row7_col1 {\n",
       "            background-color:  #cacaca;\n",
       "            color:  #000000;\n",
       "        }    #T_01e1b652_498e_11e9_b8ca_1002b51cfaa6row7_col2 {\n",
       "            background-color:  #212121;\n",
       "            color:  #f1f1f1;\n",
       "        }    #T_01e1b652_498e_11e9_b8ca_1002b51cfaa6row7_col3 {\n",
       "            background-color:  #404040;\n",
       "            color:  #f1f1f1;\n",
       "        }    #T_01e1b652_498e_11e9_b8ca_1002b51cfaa6row8_col0 {\n",
       "            background-color:  #676767;\n",
       "            color:  #f1f1f1;\n",
       "        }    #T_01e1b652_498e_11e9_b8ca_1002b51cfaa6row8_col1 {\n",
       "            background-color:  #bfbfbf;\n",
       "            color:  #000000;\n",
       "        }    #T_01e1b652_498e_11e9_b8ca_1002b51cfaa6row8_col2 {\n",
       "            background-color:  #2d2d2d;\n",
       "            color:  #f1f1f1;\n",
       "        }    #T_01e1b652_498e_11e9_b8ca_1002b51cfaa6row8_col3 {\n",
       "            background-color:  #595959;\n",
       "            color:  #f1f1f1;\n",
       "        }    #T_01e1b652_498e_11e9_b8ca_1002b51cfaa6row9_col0 {\n",
       "            background-color:  #939393;\n",
       "            color:  #000000;\n",
       "        }    #T_01e1b652_498e_11e9_b8ca_1002b51cfaa6row9_col1 {\n",
       "            background-color:  #b9b9b9;\n",
       "            color:  #000000;\n",
       "        }    #T_01e1b652_498e_11e9_b8ca_1002b51cfaa6row9_col2 {\n",
       "            background-color:  #2c2c2c;\n",
       "            color:  #f1f1f1;\n",
       "        }    #T_01e1b652_498e_11e9_b8ca_1002b51cfaa6row9_col3 {\n",
       "            background-color:  #4f4f4f;\n",
       "            color:  #f1f1f1;\n",
       "        }    #T_01e1b652_498e_11e9_b8ca_1002b51cfaa6row10_col0 {\n",
       "            background-color:  #000000;\n",
       "            color:  #f1f1f1;\n",
       "        }    #T_01e1b652_498e_11e9_b8ca_1002b51cfaa6row10_col1 {\n",
       "            background-color:  #000000;\n",
       "            color:  #f1f1f1;\n",
       "        }    #T_01e1b652_498e_11e9_b8ca_1002b51cfaa6row10_col2 {\n",
       "            background-color:  #ffffff;\n",
       "            color:  #000000;\n",
       "        }    #T_01e1b652_498e_11e9_b8ca_1002b51cfaa6row10_col3 {\n",
       "            background-color:  #000000;\n",
       "            color:  #f1f1f1;\n",
       "        }    #T_01e1b652_498e_11e9_b8ca_1002b51cfaa6row11_col0 {\n",
       "            background-color:  #616161;\n",
       "            color:  #f1f1f1;\n",
       "        }    #T_01e1b652_498e_11e9_b8ca_1002b51cfaa6row11_col1 {\n",
       "            background-color:  #353535;\n",
       "            color:  #f1f1f1;\n",
       "        }    #T_01e1b652_498e_11e9_b8ca_1002b51cfaa6row11_col2 {\n",
       "            background-color:  #b0b0b0;\n",
       "            color:  #000000;\n",
       "        }    #T_01e1b652_498e_11e9_b8ca_1002b51cfaa6row11_col3 {\n",
       "            background-color:  #444444;\n",
       "            color:  #f1f1f1;\n",
       "        }    #T_01e1b652_498e_11e9_b8ca_1002b51cfaa6row12_col0 {\n",
       "            background-color:  #535353;\n",
       "            color:  #f1f1f1;\n",
       "        }    #T_01e1b652_498e_11e9_b8ca_1002b51cfaa6row12_col1 {\n",
       "            background-color:  #424242;\n",
       "            color:  #f1f1f1;\n",
       "        }    #T_01e1b652_498e_11e9_b8ca_1002b51cfaa6row12_col2 {\n",
       "            background-color:  #a4a4a4;\n",
       "            color:  #000000;\n",
       "        }    #T_01e1b652_498e_11e9_b8ca_1002b51cfaa6row12_col3 {\n",
       "            background-color:  #4b4b4b;\n",
       "            color:  #f1f1f1;\n",
       "        }    #T_01e1b652_498e_11e9_b8ca_1002b51cfaa6row13_col0 {\n",
       "            background-color:  #5f5f5f;\n",
       "            color:  #f1f1f1;\n",
       "        }    #T_01e1b652_498e_11e9_b8ca_1002b51cfaa6row13_col1 {\n",
       "            background-color:  #434343;\n",
       "            color:  #f1f1f1;\n",
       "        }    #T_01e1b652_498e_11e9_b8ca_1002b51cfaa6row13_col2 {\n",
       "            background-color:  #9e9e9e;\n",
       "            color:  #000000;\n",
       "        }    #T_01e1b652_498e_11e9_b8ca_1002b51cfaa6row13_col3 {\n",
       "            background-color:  #5d5d5d;\n",
       "            color:  #f1f1f1;\n",
       "        }    #T_01e1b652_498e_11e9_b8ca_1002b51cfaa6row14_col0 {\n",
       "            background-color:  #696969;\n",
       "            color:  #000000;\n",
       "        }    #T_01e1b652_498e_11e9_b8ca_1002b51cfaa6row14_col1 {\n",
       "            background-color:  #4b4b4b;\n",
       "            color:  #f1f1f1;\n",
       "        }    #T_01e1b652_498e_11e9_b8ca_1002b51cfaa6row14_col2 {\n",
       "            background-color:  #979797;\n",
       "            color:  #000000;\n",
       "        }    #T_01e1b652_498e_11e9_b8ca_1002b51cfaa6row14_col3 {\n",
       "            background-color:  #5f5f5f;\n",
       "            color:  #f1f1f1;\n",
       "        }    #T_01e1b652_498e_11e9_b8ca_1002b51cfaa6row15_col0 {\n",
       "            background-color:  #535353;\n",
       "            color:  #f1f1f1;\n",
       "        }    #T_01e1b652_498e_11e9_b8ca_1002b51cfaa6row15_col1 {\n",
       "            background-color:  #4a4a4a;\n",
       "            color:  #f1f1f1;\n",
       "        }    #T_01e1b652_498e_11e9_b8ca_1002b51cfaa6row15_col2 {\n",
       "            background-color:  #444444;\n",
       "            color:  #f1f1f1;\n",
       "        }    #T_01e1b652_498e_11e9_b8ca_1002b51cfaa6row15_col3 {\n",
       "            background-color:  #ffffff;\n",
       "            color:  #000000;\n",
       "        }    #T_01e1b652_498e_11e9_b8ca_1002b51cfaa6row16_col0 {\n",
       "            background-color:  #414141;\n",
       "            color:  #f1f1f1;\n",
       "        }    #T_01e1b652_498e_11e9_b8ca_1002b51cfaa6row16_col1 {\n",
       "            background-color:  #4d4d4d;\n",
       "            color:  #f1f1f1;\n",
       "        }    #T_01e1b652_498e_11e9_b8ca_1002b51cfaa6row16_col2 {\n",
       "            background-color:  #3c3c3c;\n",
       "            color:  #f1f1f1;\n",
       "        }    #T_01e1b652_498e_11e9_b8ca_1002b51cfaa6row16_col3 {\n",
       "            background-color:  #fcfcfc;\n",
       "            color:  #000000;\n",
       "        }    #T_01e1b652_498e_11e9_b8ca_1002b51cfaa6row17_col0 {\n",
       "            background-color:  #5a5a5a;\n",
       "            color:  #f1f1f1;\n",
       "        }    #T_01e1b652_498e_11e9_b8ca_1002b51cfaa6row17_col1 {\n",
       "            background-color:  #5f5f5f;\n",
       "            color:  #f1f1f1;\n",
       "        }    #T_01e1b652_498e_11e9_b8ca_1002b51cfaa6row17_col2 {\n",
       "            background-color:  #4b4b4b;\n",
       "            color:  #f1f1f1;\n",
       "        }    #T_01e1b652_498e_11e9_b8ca_1002b51cfaa6row17_col3 {\n",
       "            background-color:  #f0f0f0;\n",
       "            color:  #000000;\n",
       "        }    #T_01e1b652_498e_11e9_b8ca_1002b51cfaa6row18_col0 {\n",
       "            background-color:  #727272;\n",
       "            color:  #000000;\n",
       "        }    #T_01e1b652_498e_11e9_b8ca_1002b51cfaa6row18_col1 {\n",
       "            background-color:  #565656;\n",
       "            color:  #f1f1f1;\n",
       "        }    #T_01e1b652_498e_11e9_b8ca_1002b51cfaa6row18_col2 {\n",
       "            background-color:  #3c3c3c;\n",
       "            color:  #f1f1f1;\n",
       "        }    #T_01e1b652_498e_11e9_b8ca_1002b51cfaa6row18_col3 {\n",
       "            background-color:  #e8e8e8;\n",
       "            color:  #000000;\n",
       "        }    #T_01e1b652_498e_11e9_b8ca_1002b51cfaa6row19_col0 {\n",
       "            background-color:  #3b3b3b;\n",
       "            color:  #f1f1f1;\n",
       "        }    #T_01e1b652_498e_11e9_b8ca_1002b51cfaa6row19_col1 {\n",
       "            background-color:  #626262;\n",
       "            color:  #f1f1f1;\n",
       "        }    #T_01e1b652_498e_11e9_b8ca_1002b51cfaa6row19_col2 {\n",
       "            background-color:  #515151;\n",
       "            color:  #f1f1f1;\n",
       "        }    #T_01e1b652_498e_11e9_b8ca_1002b51cfaa6row19_col3 {\n",
       "            background-color:  #e6e6e6;\n",
       "            color:  #000000;\n",
       "        }</style><table id=\"T_01e1b652_498e_11e9_b8ca_1002b51cfaa6\" ><thead>    <tr>        <th class=\"blank level0\" ></th>        <th class=\"col_heading level0 col0\" >alt.atheism</th>        <th class=\"col_heading level0 col1\" >comp.graphics</th>        <th class=\"col_heading level0 col2\" >sci.space</th>        <th class=\"col_heading level0 col3\" >talk.religion.misc</th>    </tr></thead><tbody>\n",
       "                <tr>\n",
       "                        <th id=\"T_01e1b652_498e_11e9_b8ca_1002b51cfaa6level0_row0\" class=\"row_heading level0 row0\" >bobby</th>\n",
       "                        <td id=\"T_01e1b652_498e_11e9_b8ca_1002b51cfaa6row0_col0\" class=\"data row0 col0\" >0.6674</td>\n",
       "                        <td id=\"T_01e1b652_498e_11e9_b8ca_1002b51cfaa6row0_col1\" class=\"data row0 col1\" >-0.1608</td>\n",
       "                        <td id=\"T_01e1b652_498e_11e9_b8ca_1002b51cfaa6row0_col2\" class=\"data row0 col2\" >-0.233</td>\n",
       "                        <td id=\"T_01e1b652_498e_11e9_b8ca_1002b51cfaa6row0_col3\" class=\"data row0 col3\" >-0.3152</td>\n",
       "            </tr>\n",
       "            <tr>\n",
       "                        <th id=\"T_01e1b652_498e_11e9_b8ca_1002b51cfaa6level0_row1\" class=\"row_heading level0 row1\" >atheists</th>\n",
       "                        <td id=\"T_01e1b652_498e_11e9_b8ca_1002b51cfaa6row1_col0\" class=\"data row1 col0\" >0.6578</td>\n",
       "                        <td id=\"T_01e1b652_498e_11e9_b8ca_1002b51cfaa6row1_col1\" class=\"data row1 col1\" >-0.0889</td>\n",
       "                        <td id=\"T_01e1b652_498e_11e9_b8ca_1002b51cfaa6row1_col2\" class=\"data row1 col2\" >-0.2178</td>\n",
       "                        <td id=\"T_01e1b652_498e_11e9_b8ca_1002b51cfaa6row1_col3\" class=\"data row1 col3\" >-0.4682</td>\n",
       "            </tr>\n",
       "            <tr>\n",
       "                        <th id=\"T_01e1b652_498e_11e9_b8ca_1002b51cfaa6level0_row2\" class=\"row_heading level0 row2\" >atheism</th>\n",
       "                        <td id=\"T_01e1b652_498e_11e9_b8ca_1002b51cfaa6row2_col0\" class=\"data row2 col0\" >0.6576</td>\n",
       "                        <td id=\"T_01e1b652_498e_11e9_b8ca_1002b51cfaa6row2_col1\" class=\"data row2 col1\" >-0.2877</td>\n",
       "                        <td id=\"T_01e1b652_498e_11e9_b8ca_1002b51cfaa6row2_col2\" class=\"data row2 col2\" >-0.2898</td>\n",
       "                        <td id=\"T_01e1b652_498e_11e9_b8ca_1002b51cfaa6row2_col3\" class=\"data row2 col3\" >-0.3274</td>\n",
       "            </tr>\n",
       "            <tr>\n",
       "                        <th id=\"T_01e1b652_498e_11e9_b8ca_1002b51cfaa6level0_row3\" class=\"row_heading level0 row3\" >religion</th>\n",
       "                        <td id=\"T_01e1b652_498e_11e9_b8ca_1002b51cfaa6row3_col0\" class=\"data row3 col0\" >0.6575</td>\n",
       "                        <td id=\"T_01e1b652_498e_11e9_b8ca_1002b51cfaa6row3_col1\" class=\"data row3 col1\" >-0.4103</td>\n",
       "                        <td id=\"T_01e1b652_498e_11e9_b8ca_1002b51cfaa6row3_col2\" class=\"data row3 col2\" >-0.5368</td>\n",
       "                        <td id=\"T_01e1b652_498e_11e9_b8ca_1002b51cfaa6row3_col3\" class=\"data row3 col3\" >-0.0278</td>\n",
       "            </tr>\n",
       "            <tr>\n",
       "                        <th id=\"T_01e1b652_498e_11e9_b8ca_1002b51cfaa6level0_row4\" class=\"row_heading level0 row4\" >islam</th>\n",
       "                        <td id=\"T_01e1b652_498e_11e9_b8ca_1002b51cfaa6row4_col0\" class=\"data row4 col0\" >0.5627</td>\n",
       "                        <td id=\"T_01e1b652_498e_11e9_b8ca_1002b51cfaa6row4_col1\" class=\"data row4 col1\" >-0.0963</td>\n",
       "                        <td id=\"T_01e1b652_498e_11e9_b8ca_1002b51cfaa6row4_col2\" class=\"data row4 col2\" >-0.2298</td>\n",
       "                        <td id=\"T_01e1b652_498e_11e9_b8ca_1002b51cfaa6row4_col3\" class=\"data row4 col3\" >-0.2322</td>\n",
       "            </tr>\n",
       "            <tr>\n",
       "                        <th id=\"T_01e1b652_498e_11e9_b8ca_1002b51cfaa6level0_row5\" class=\"row_heading level0 row5\" >graphics</th>\n",
       "                        <td id=\"T_01e1b652_498e_11e9_b8ca_1002b51cfaa6row5_col0\" class=\"data row5 col0\" >-0.535</td>\n",
       "                        <td id=\"T_01e1b652_498e_11e9_b8ca_1002b51cfaa6row5_col1\" class=\"data row5 col1\" >1.3409</td>\n",
       "                        <td id=\"T_01e1b652_498e_11e9_b8ca_1002b51cfaa6row5_col2\" class=\"data row5 col2\" >-0.8919</td>\n",
       "                        <td id=\"T_01e1b652_498e_11e9_b8ca_1002b51cfaa6row5_col3\" class=\"data row5 col3\" >-0.5064</td>\n",
       "            </tr>\n",
       "            <tr>\n",
       "                        <th id=\"T_01e1b652_498e_11e9_b8ca_1002b51cfaa6level0_row6\" class=\"row_heading level0 row6\" >image</th>\n",
       "                        <td id=\"T_01e1b652_498e_11e9_b8ca_1002b51cfaa6row6_col0\" class=\"data row6 col0\" >-0.3705</td>\n",
       "                        <td id=\"T_01e1b652_498e_11e9_b8ca_1002b51cfaa6row6_col1\" class=\"data row6 col1\" >0.8997</td>\n",
       "                        <td id=\"T_01e1b652_498e_11e9_b8ca_1002b51cfaa6row6_col2\" class=\"data row6 col2\" >-0.5303</td>\n",
       "                        <td id=\"T_01e1b652_498e_11e9_b8ca_1002b51cfaa6row6_col3\" class=\"data row6 col3\" >-0.3031</td>\n",
       "            </tr>\n",
       "            <tr>\n",
       "                        <th id=\"T_01e1b652_498e_11e9_b8ca_1002b51cfaa6level0_row7\" class=\"row_heading level0 row7\" >file</th>\n",
       "                        <td id=\"T_01e1b652_498e_11e9_b8ca_1002b51cfaa6row7_col0\" class=\"data row7 col0\" >-0.2274</td>\n",
       "                        <td id=\"T_01e1b652_498e_11e9_b8ca_1002b51cfaa6row7_col1\" class=\"data row7 col1\" >0.8667</td>\n",
       "                        <td id=\"T_01e1b652_498e_11e9_b8ca_1002b51cfaa6row7_col2\" class=\"data row7 col2\" >-0.5651</td>\n",
       "                        <td id=\"T_01e1b652_498e_11e9_b8ca_1002b51cfaa6row7_col3\" class=\"data row7 col3\" >-0.4027</td>\n",
       "            </tr>\n",
       "            <tr>\n",
       "                        <th id=\"T_01e1b652_498e_11e9_b8ca_1002b51cfaa6level0_row8\" class=\"row_heading level0 row8\" >3d</th>\n",
       "                        <td id=\"T_01e1b652_498e_11e9_b8ca_1002b51cfaa6row8_col0\" class=\"data row8 col0\" >-0.249</td>\n",
       "                        <td id=\"T_01e1b652_498e_11e9_b8ca_1002b51cfaa6row8_col1\" class=\"data row8 col1\" >0.7653</td>\n",
       "                        <td id=\"T_01e1b652_498e_11e9_b8ca_1002b51cfaa6row8_col2\" class=\"data row8 col2\" >-0.4505</td>\n",
       "                        <td id=\"T_01e1b652_498e_11e9_b8ca_1002b51cfaa6row8_col3\" class=\"data row8 col3\" >-0.2569</td>\n",
       "            </tr>\n",
       "            <tr>\n",
       "                        <th id=\"T_01e1b652_498e_11e9_b8ca_1002b51cfaa6level0_row9\" class=\"row_heading level0 row9\" >computer</th>\n",
       "                        <td id=\"T_01e1b652_498e_11e9_b8ca_1002b51cfaa6row9_col0\" class=\"data row9 col0\" >0.0109</td>\n",
       "                        <td id=\"T_01e1b652_498e_11e9_b8ca_1002b51cfaa6row9_col1\" class=\"data row9 col1\" >0.7186</td>\n",
       "                        <td id=\"T_01e1b652_498e_11e9_b8ca_1002b51cfaa6row9_col2\" class=\"data row9 col2\" >-0.4606</td>\n",
       "                        <td id=\"T_01e1b652_498e_11e9_b8ca_1002b51cfaa6row9_col3\" class=\"data row9 col3\" >-0.3169</td>\n",
       "            </tr>\n",
       "            <tr>\n",
       "                        <th id=\"T_01e1b652_498e_11e9_b8ca_1002b51cfaa6level0_row10\" class=\"row_heading level0 row10\" >space</th>\n",
       "                        <td id=\"T_01e1b652_498e_11e9_b8ca_1002b51cfaa6row10_col0\" class=\"data row10 col0\" >-0.8757</td>\n",
       "                        <td id=\"T_01e1b652_498e_11e9_b8ca_1002b51cfaa6row10_col1\" class=\"data row10 col1\" >-0.9308</td>\n",
       "                        <td id=\"T_01e1b652_498e_11e9_b8ca_1002b51cfaa6row10_col2\" class=\"data row10 col2\" >1.5896</td>\n",
       "                        <td id=\"T_01e1b652_498e_11e9_b8ca_1002b51cfaa6row10_col3\" class=\"data row10 col3\" >-0.7938</td>\n",
       "            </tr>\n",
       "            <tr>\n",
       "                        <th id=\"T_01e1b652_498e_11e9_b8ca_1002b51cfaa6level0_row11\" class=\"row_heading level0 row11\" >orbit</th>\n",
       "                        <td id=\"T_01e1b652_498e_11e9_b8ca_1002b51cfaa6row11_col0\" class=\"data row11 col0\" >-0.2902</td>\n",
       "                        <td id=\"T_01e1b652_498e_11e9_b8ca_1002b51cfaa6row11_col1\" class=\"data row11 col1\" >-0.456</td>\n",
       "                        <td id=\"T_01e1b652_498e_11e9_b8ca_1002b51cfaa6row11_col2\" class=\"data row11 col2\" >0.82</td>\n",
       "                        <td id=\"T_01e1b652_498e_11e9_b8ca_1002b51cfaa6row11_col3\" class=\"data row11 col3\" >-0.38</td>\n",
       "            </tr>\n",
       "            <tr>\n",
       "                        <th id=\"T_01e1b652_498e_11e9_b8ca_1002b51cfaa6level0_row12\" class=\"row_heading level0 row12\" >nasa</th>\n",
       "                        <td id=\"T_01e1b652_498e_11e9_b8ca_1002b51cfaa6row12_col0\" class=\"data row12 col0\" >-0.3727</td>\n",
       "                        <td id=\"T_01e1b652_498e_11e9_b8ca_1002b51cfaa6row12_col1\" class=\"data row12 col1\" >-0.3431</td>\n",
       "                        <td id=\"T_01e1b652_498e_11e9_b8ca_1002b51cfaa6row12_col2\" class=\"data row12 col2\" >0.7075</td>\n",
       "                        <td id=\"T_01e1b652_498e_11e9_b8ca_1002b51cfaa6row12_col3\" class=\"data row12 col3\" >-0.3361</td>\n",
       "            </tr>\n",
       "            <tr>\n",
       "                        <th id=\"T_01e1b652_498e_11e9_b8ca_1002b51cfaa6level0_row13\" class=\"row_heading level0 row13\" >launch</th>\n",
       "                        <td id=\"T_01e1b652_498e_11e9_b8ca_1002b51cfaa6row13_col0\" class=\"data row13 col0\" >-0.2972</td>\n",
       "                        <td id=\"T_01e1b652_498e_11e9_b8ca_1002b51cfaa6row13_col1\" class=\"data row13 col1\" >-0.3295</td>\n",
       "                        <td id=\"T_01e1b652_498e_11e9_b8ca_1002b51cfaa6row13_col2\" class=\"data row13 col2\" >0.6434</td>\n",
       "                        <td id=\"T_01e1b652_498e_11e9_b8ca_1002b51cfaa6row13_col3\" class=\"data row13 col3\" >-0.2302</td>\n",
       "            </tr>\n",
       "            <tr>\n",
       "                        <th id=\"T_01e1b652_498e_11e9_b8ca_1002b51cfaa6level0_row14\" class=\"row_heading level0 row14\" >spacecraft</th>\n",
       "                        <td id=\"T_01e1b652_498e_11e9_b8ca_1002b51cfaa6row14_col0\" class=\"data row14 col0\" >-0.2412</td>\n",
       "                        <td id=\"T_01e1b652_498e_11e9_b8ca_1002b51cfaa6row14_col1\" class=\"data row14 col1\" >-0.258</td>\n",
       "                        <td id=\"T_01e1b652_498e_11e9_b8ca_1002b51cfaa6row14_col2\" class=\"data row14 col2\" >0.5727</td>\n",
       "                        <td id=\"T_01e1b652_498e_11e9_b8ca_1002b51cfaa6row14_col3\" class=\"data row14 col3\" >-0.2171</td>\n",
       "            </tr>\n",
       "            <tr>\n",
       "                        <th id=\"T_01e1b652_498e_11e9_b8ca_1002b51cfaa6level0_row15\" class=\"row_heading level0 row15\" >christian</th>\n",
       "                        <td id=\"T_01e1b652_498e_11e9_b8ca_1002b51cfaa6row15_col0\" class=\"data row15 col0\" >-0.3749</td>\n",
       "                        <td id=\"T_01e1b652_498e_11e9_b8ca_1002b51cfaa6row15_col1\" class=\"data row15 col1\" >-0.269</td>\n",
       "                        <td id=\"T_01e1b652_498e_11e9_b8ca_1002b51cfaa6row15_col2\" class=\"data row15 col2\" >-0.2281</td>\n",
       "                        <td id=\"T_01e1b652_498e_11e9_b8ca_1002b51cfaa6row15_col3\" class=\"data row15 col3\" >0.749</td>\n",
       "            </tr>\n",
       "            <tr>\n",
       "                        <th id=\"T_01e1b652_498e_11e9_b8ca_1002b51cfaa6level0_row16\" class=\"row_heading level0 row16\" >christians</th>\n",
       "                        <td id=\"T_01e1b652_498e_11e9_b8ca_1002b51cfaa6row16_col0\" class=\"data row16 col0\" >-0.4813</td>\n",
       "                        <td id=\"T_01e1b652_498e_11e9_b8ca_1002b51cfaa6row16_col1\" class=\"data row16 col1\" >-0.2397</td>\n",
       "                        <td id=\"T_01e1b652_498e_11e9_b8ca_1002b51cfaa6row16_col2\" class=\"data row16 col2\" >-0.3048</td>\n",
       "                        <td id=\"T_01e1b652_498e_11e9_b8ca_1002b51cfaa6row16_col3\" class=\"data row16 col3\" >0.728</td>\n",
       "            </tr>\n",
       "            <tr>\n",
       "                        <th id=\"T_01e1b652_498e_11e9_b8ca_1002b51cfaa6level0_row17\" class=\"row_heading level0 row17\" >blood</th>\n",
       "                        <td id=\"T_01e1b652_498e_11e9_b8ca_1002b51cfaa6row17_col0\" class=\"data row17 col0\" >-0.3276</td>\n",
       "                        <td id=\"T_01e1b652_498e_11e9_b8ca_1002b51cfaa6row17_col1\" class=\"data row17 col1\" >-0.0835</td>\n",
       "                        <td id=\"T_01e1b652_498e_11e9_b8ca_1002b51cfaa6row17_col2\" class=\"data row17 col2\" >-0.1621</td>\n",
       "                        <td id=\"T_01e1b652_498e_11e9_b8ca_1002b51cfaa6row17_col3\" class=\"data row17 col3\" >0.6547</td>\n",
       "            </tr>\n",
       "            <tr>\n",
       "                        <th id=\"T_01e1b652_498e_11e9_b8ca_1002b51cfaa6level0_row18\" class=\"row_heading level0 row18\" >fbi</th>\n",
       "                        <td id=\"T_01e1b652_498e_11e9_b8ca_1002b51cfaa6row18_col0\" class=\"data row18 col0\" >-0.1865</td>\n",
       "                        <td id=\"T_01e1b652_498e_11e9_b8ca_1002b51cfaa6row18_col1\" class=\"data row18 col1\" >-0.1668</td>\n",
       "                        <td id=\"T_01e1b652_498e_11e9_b8ca_1002b51cfaa6row18_col2\" class=\"data row18 col2\" >-0.3054</td>\n",
       "                        <td id=\"T_01e1b652_498e_11e9_b8ca_1002b51cfaa6row18_col3\" class=\"data row18 col3\" >0.6044</td>\n",
       "            </tr>\n",
       "            <tr>\n",
       "                        <th id=\"T_01e1b652_498e_11e9_b8ca_1002b51cfaa6level0_row19\" class=\"row_heading level0 row19\" >order</th>\n",
       "                        <td id=\"T_01e1b652_498e_11e9_b8ca_1002b51cfaa6row19_col0\" class=\"data row19 col0\" >-0.5146</td>\n",
       "                        <td id=\"T_01e1b652_498e_11e9_b8ca_1002b51cfaa6row19_col1\" class=\"data row19 col1\" >-0.0527</td>\n",
       "                        <td id=\"T_01e1b652_498e_11e9_b8ca_1002b51cfaa6row19_col2\" class=\"data row19 col2\" >-0.1039</td>\n",
       "                        <td id=\"T_01e1b652_498e_11e9_b8ca_1002b51cfaa6row19_col3\" class=\"data row19 col3\" >0.5975</td>\n",
       "            </tr>\n",
       "    </tbody></table>"
      ],
      "text/plain": [
       "<pandas.io.formats.style.Styler at 0x245c77fe5f8>"
      ]
     },
     "metadata": {},
     "output_type": "display_data"
    },
    {
     "data": {
      "text/markdown": [
       "### Part b - Logistic Regression - BiWord Vocabulary C = 0.25"
      ],
      "text/plain": [
       "<IPython.core.display.Markdown object>"
      ]
     },
     "metadata": {},
     "output_type": "display_data"
    },
    {
     "data": {
      "text/markdown": [
       "*Table of the top 5 features by weights per label*"
      ],
      "text/plain": [
       "<IPython.core.display.Markdown object>"
      ]
     },
     "metadata": {},
     "output_type": "display_data"
    },
    {
     "data": {
      "text/html": [
       "<style  type=\"text/css\" >\n",
       "    #T_03cf8a52_498e_11e9_976d_1002b51cfaa6row0_col1 {\n",
       "            background-color:  #ffffff;\n",
       "            color:  #000000;\n",
       "        }    #T_03cf8a52_498e_11e9_976d_1002b51cfaa6row0_col2 {\n",
       "            background-color:  #000000;\n",
       "            color:  #f1f1f1;\n",
       "        }    #T_03cf8a52_498e_11e9_976d_1002b51cfaa6row0_col3 {\n",
       "            background-color:  #000000;\n",
       "            color:  #f1f1f1;\n",
       "        }    #T_03cf8a52_498e_11e9_976d_1002b51cfaa6row0_col4 {\n",
       "            background-color:  #ffffff;\n",
       "            color:  #000000;\n",
       "        }    #T_03cf8a52_498e_11e9_976d_1002b51cfaa6row1_col1 {\n",
       "            background-color:  #ffffff;\n",
       "            color:  #000000;\n",
       "        }    #T_03cf8a52_498e_11e9_976d_1002b51cfaa6row1_col2 {\n",
       "            background-color:  #444444;\n",
       "            color:  #f1f1f1;\n",
       "        }    #T_03cf8a52_498e_11e9_976d_1002b51cfaa6row1_col3 {\n",
       "            background-color:  #404040;\n",
       "            color:  #f1f1f1;\n",
       "        }    #T_03cf8a52_498e_11e9_976d_1002b51cfaa6row1_col4 {\n",
       "            background-color:  #656565;\n",
       "            color:  #f1f1f1;\n",
       "        }    #T_03cf8a52_498e_11e9_976d_1002b51cfaa6row2_col1 {\n",
       "            background-color:  #ededed;\n",
       "            color:  #000000;\n",
       "        }    #T_03cf8a52_498e_11e9_976d_1002b51cfaa6row2_col2 {\n",
       "            background-color:  #5f5f5f;\n",
       "            color:  #f1f1f1;\n",
       "        }    #T_03cf8a52_498e_11e9_976d_1002b51cfaa6row2_col3 {\n",
       "            background-color:  #191919;\n",
       "            color:  #f1f1f1;\n",
       "        }    #T_03cf8a52_498e_11e9_976d_1002b51cfaa6row2_col4 {\n",
       "            background-color:  #666666;\n",
       "            color:  #f1f1f1;\n",
       "        }    #T_03cf8a52_498e_11e9_976d_1002b51cfaa6row3_col1 {\n",
       "            background-color:  #ebebeb;\n",
       "            color:  #000000;\n",
       "        }    #T_03cf8a52_498e_11e9_976d_1002b51cfaa6row3_col2 {\n",
       "            background-color:  #343434;\n",
       "            color:  #f1f1f1;\n",
       "        }    #T_03cf8a52_498e_11e9_976d_1002b51cfaa6row3_col3 {\n",
       "            background-color:  #1a1a1a;\n",
       "            color:  #f1f1f1;\n",
       "        }    #T_03cf8a52_498e_11e9_976d_1002b51cfaa6row3_col4 {\n",
       "            background-color:  #8e8e8e;\n",
       "            color:  #000000;\n",
       "        }    #T_03cf8a52_498e_11e9_976d_1002b51cfaa6row4_col1 {\n",
       "            background-color:  #ebebeb;\n",
       "            color:  #000000;\n",
       "        }    #T_03cf8a52_498e_11e9_976d_1002b51cfaa6row4_col2 {\n",
       "            background-color:  #3c3c3c;\n",
       "            color:  #f1f1f1;\n",
       "        }    #T_03cf8a52_498e_11e9_976d_1002b51cfaa6row4_col3 {\n",
       "            background-color:  #595959;\n",
       "            color:  #f1f1f1;\n",
       "        }    #T_03cf8a52_498e_11e9_976d_1002b51cfaa6row4_col4 {\n",
       "            background-color:  #3f3f3f;\n",
       "            color:  #f1f1f1;\n",
       "        }    #T_03cf8a52_498e_11e9_976d_1002b51cfaa6row5_col1 {\n",
       "            background-color:  #000000;\n",
       "            color:  #f1f1f1;\n",
       "        }    #T_03cf8a52_498e_11e9_976d_1002b51cfaa6row5_col2 {\n",
       "            background-color:  #ffffff;\n",
       "            color:  #000000;\n",
       "        }    #T_03cf8a52_498e_11e9_976d_1002b51cfaa6row5_col3 {\n",
       "            background-color:  #181818;\n",
       "            color:  #f1f1f1;\n",
       "        }    #T_03cf8a52_498e_11e9_976d_1002b51cfaa6row5_col4 {\n",
       "            background-color:  #000000;\n",
       "            color:  #f1f1f1;\n",
       "        }    #T_03cf8a52_498e_11e9_976d_1002b51cfaa6row6_col1 {\n",
       "            background-color:  #242424;\n",
       "            color:  #f1f1f1;\n",
       "        }    #T_03cf8a52_498e_11e9_976d_1002b51cfaa6row6_col2 {\n",
       "            background-color:  #dadada;\n",
       "            color:  #000000;\n",
       "        }    #T_03cf8a52_498e_11e9_976d_1002b51cfaa6row6_col3 {\n",
       "            background-color:  #222222;\n",
       "            color:  #f1f1f1;\n",
       "        }    #T_03cf8a52_498e_11e9_976d_1002b51cfaa6row6_col4 {\n",
       "            background-color:  #212121;\n",
       "            color:  #f1f1f1;\n",
       "        }    #T_03cf8a52_498e_11e9_976d_1002b51cfaa6row7_col1 {\n",
       "            background-color:  #4b4b4b;\n",
       "            color:  #f1f1f1;\n",
       "        }    #T_03cf8a52_498e_11e9_976d_1002b51cfaa6row7_col2 {\n",
       "            background-color:  #cecece;\n",
       "            color:  #000000;\n",
       "        }    #T_03cf8a52_498e_11e9_976d_1002b51cfaa6row7_col3 {\n",
       "            background-color:  #1b1b1b;\n",
       "            color:  #f1f1f1;\n",
       "        }    #T_03cf8a52_498e_11e9_976d_1002b51cfaa6row7_col4 {\n",
       "            background-color:  #414141;\n",
       "            color:  #f1f1f1;\n",
       "        }    #T_03cf8a52_498e_11e9_976d_1002b51cfaa6row8_col1 {\n",
       "            background-color:  #424242;\n",
       "            color:  #f1f1f1;\n",
       "        }    #T_03cf8a52_498e_11e9_976d_1002b51cfaa6row8_col2 {\n",
       "            background-color:  #c9c9c9;\n",
       "            color:  #000000;\n",
       "        }    #T_03cf8a52_498e_11e9_976d_1002b51cfaa6row8_col3 {\n",
       "            background-color:  #1d1d1d;\n",
       "            color:  #f1f1f1;\n",
       "        }    #T_03cf8a52_498e_11e9_976d_1002b51cfaa6row8_col4 {\n",
       "            background-color:  #4b4b4b;\n",
       "            color:  #f1f1f1;\n",
       "        }    #T_03cf8a52_498e_11e9_976d_1002b51cfaa6row9_col1 {\n",
       "            background-color:  #4d4d4d;\n",
       "            color:  #f1f1f1;\n",
       "        }    #T_03cf8a52_498e_11e9_976d_1002b51cfaa6row9_col2 {\n",
       "            background-color:  #c8c8c8;\n",
       "            color:  #000000;\n",
       "        }    #T_03cf8a52_498e_11e9_976d_1002b51cfaa6row9_col3 {\n",
       "            background-color:  #2f2f2f;\n",
       "            color:  #f1f1f1;\n",
       "        }    #T_03cf8a52_498e_11e9_976d_1002b51cfaa6row9_col4 {\n",
       "            background-color:  #474747;\n",
       "            color:  #f1f1f1;\n",
       "        }    #T_03cf8a52_498e_11e9_976d_1002b51cfaa6row10_col1 {\n",
       "            background-color:  #4d4d4d;\n",
       "            color:  #f1f1f1;\n",
       "        }    #T_03cf8a52_498e_11e9_976d_1002b51cfaa6row10_col2 {\n",
       "            background-color:  #151515;\n",
       "            color:  #f1f1f1;\n",
       "        }    #T_03cf8a52_498e_11e9_976d_1002b51cfaa6row10_col3 {\n",
       "            background-color:  #ffffff;\n",
       "            color:  #000000;\n",
       "        }    #T_03cf8a52_498e_11e9_976d_1002b51cfaa6row10_col4 {\n",
       "            background-color:  #404040;\n",
       "            color:  #f1f1f1;\n",
       "        }    #T_03cf8a52_498e_11e9_976d_1002b51cfaa6row11_col1 {\n",
       "            background-color:  #393939;\n",
       "            color:  #f1f1f1;\n",
       "        }    #T_03cf8a52_498e_11e9_976d_1002b51cfaa6row11_col2 {\n",
       "            background-color:  #161616;\n",
       "            color:  #f1f1f1;\n",
       "        }    #T_03cf8a52_498e_11e9_976d_1002b51cfaa6row11_col3 {\n",
       "            background-color:  #ffffff;\n",
       "            color:  #000000;\n",
       "        }    #T_03cf8a52_498e_11e9_976d_1002b51cfaa6row11_col4 {\n",
       "            background-color:  #4b4b4b;\n",
       "            color:  #f1f1f1;\n",
       "        }    #T_03cf8a52_498e_11e9_976d_1002b51cfaa6row12_col1 {\n",
       "            background-color:  #525252;\n",
       "            color:  #f1f1f1;\n",
       "        }    #T_03cf8a52_498e_11e9_976d_1002b51cfaa6row12_col2 {\n",
       "            background-color:  #2f2f2f;\n",
       "            color:  #f1f1f1;\n",
       "        }    #T_03cf8a52_498e_11e9_976d_1002b51cfaa6row12_col3 {\n",
       "            background-color:  #d4d4d4;\n",
       "            color:  #000000;\n",
       "        }    #T_03cf8a52_498e_11e9_976d_1002b51cfaa6row12_col4 {\n",
       "            background-color:  #4f4f4f;\n",
       "            color:  #f1f1f1;\n",
       "        }    #T_03cf8a52_498e_11e9_976d_1002b51cfaa6row13_col1 {\n",
       "            background-color:  #5c5c5c;\n",
       "            color:  #f1f1f1;\n",
       "        }    #T_03cf8a52_498e_11e9_976d_1002b51cfaa6row13_col2 {\n",
       "            background-color:  #2e2e2e;\n",
       "            color:  #f1f1f1;\n",
       "        }    #T_03cf8a52_498e_11e9_976d_1002b51cfaa6row13_col3 {\n",
       "            background-color:  #d1d1d1;\n",
       "            color:  #000000;\n",
       "        }    #T_03cf8a52_498e_11e9_976d_1002b51cfaa6row13_col4 {\n",
       "            background-color:  #4d4d4d;\n",
       "            color:  #f1f1f1;\n",
       "        }    #T_03cf8a52_498e_11e9_976d_1002b51cfaa6row14_col1 {\n",
       "            background-color:  #5f5f5f;\n",
       "            color:  #f1f1f1;\n",
       "        }    #T_03cf8a52_498e_11e9_976d_1002b51cfaa6row14_col2 {\n",
       "            background-color:  #313131;\n",
       "            color:  #f1f1f1;\n",
       "        }    #T_03cf8a52_498e_11e9_976d_1002b51cfaa6row14_col3 {\n",
       "            background-color:  #c6c6c6;\n",
       "            color:  #000000;\n",
       "        }    #T_03cf8a52_498e_11e9_976d_1002b51cfaa6row14_col4 {\n",
       "            background-color:  #3c3c3c;\n",
       "            color:  #f1f1f1;\n",
       "        }    #T_03cf8a52_498e_11e9_976d_1002b51cfaa6row15_col1 {\n",
       "            background-color:  #ffffff;\n",
       "            color:  #000000;\n",
       "        }    #T_03cf8a52_498e_11e9_976d_1002b51cfaa6row15_col2 {\n",
       "            background-color:  #000000;\n",
       "            color:  #f1f1f1;\n",
       "        }    #T_03cf8a52_498e_11e9_976d_1002b51cfaa6row15_col3 {\n",
       "            background-color:  #000000;\n",
       "            color:  #f1f1f1;\n",
       "        }    #T_03cf8a52_498e_11e9_976d_1002b51cfaa6row15_col4 {\n",
       "            background-color:  #ffffff;\n",
       "            color:  #000000;\n",
       "        }    #T_03cf8a52_498e_11e9_976d_1002b51cfaa6row16_col1 {\n",
       "            background-color:  #6d6d6d;\n",
       "            color:  #000000;\n",
       "        }    #T_03cf8a52_498e_11e9_976d_1002b51cfaa6row16_col2 {\n",
       "            background-color:  #424242;\n",
       "            color:  #f1f1f1;\n",
       "        }    #T_03cf8a52_498e_11e9_976d_1002b51cfaa6row16_col3 {\n",
       "            background-color:  #3b3b3b;\n",
       "            color:  #f1f1f1;\n",
       "        }    #T_03cf8a52_498e_11e9_976d_1002b51cfaa6row16_col4 {\n",
       "            background-color:  #ffffff;\n",
       "            color:  #000000;\n",
       "        }    #T_03cf8a52_498e_11e9_976d_1002b51cfaa6row17_col1 {\n",
       "            background-color:  #646464;\n",
       "            color:  #f1f1f1;\n",
       "        }    #T_03cf8a52_498e_11e9_976d_1002b51cfaa6row17_col2 {\n",
       "            background-color:  #424242;\n",
       "            color:  #f1f1f1;\n",
       "        }    #T_03cf8a52_498e_11e9_976d_1002b51cfaa6row17_col3 {\n",
       "            background-color:  #565656;\n",
       "            color:  #f1f1f1;\n",
       "        }    #T_03cf8a52_498e_11e9_976d_1002b51cfaa6row17_col4 {\n",
       "            background-color:  #eaeaea;\n",
       "            color:  #000000;\n",
       "        }    #T_03cf8a52_498e_11e9_976d_1002b51cfaa6row18_col1 {\n",
       "            background-color:  #595959;\n",
       "            color:  #f1f1f1;\n",
       "        }    #T_03cf8a52_498e_11e9_976d_1002b51cfaa6row18_col2 {\n",
       "            background-color:  #6b6b6b;\n",
       "            color:  #000000;\n",
       "        }    #T_03cf8a52_498e_11e9_976d_1002b51cfaa6row18_col3 {\n",
       "            background-color:  #323232;\n",
       "            color:  #f1f1f1;\n",
       "        }    #T_03cf8a52_498e_11e9_976d_1002b51cfaa6row18_col4 {\n",
       "            background-color:  #e5e5e5;\n",
       "            color:  #000000;\n",
       "        }    #T_03cf8a52_498e_11e9_976d_1002b51cfaa6row19_col1 {\n",
       "            background-color:  #979797;\n",
       "            color:  #000000;\n",
       "        }    #T_03cf8a52_498e_11e9_976d_1002b51cfaa6row19_col2 {\n",
       "            background-color:  #3b3b3b;\n",
       "            color:  #f1f1f1;\n",
       "        }    #T_03cf8a52_498e_11e9_976d_1002b51cfaa6row19_col3 {\n",
       "            background-color:  #3d3d3d;\n",
       "            color:  #f1f1f1;\n",
       "        }    #T_03cf8a52_498e_11e9_976d_1002b51cfaa6row19_col4 {\n",
       "            background-color:  #e1e1e1;\n",
       "            color:  #000000;\n",
       "        }</style><table id=\"T_03cf8a52_498e_11e9_976d_1002b51cfaa6\" ><thead>    <tr>        <th class=\"blank level0\" ></th>        <th class=\"col_heading level0 col0\" >index</th>        <th class=\"col_heading level0 col1\" >alt.atheism</th>        <th class=\"col_heading level0 col2\" >comp.graphics</th>        <th class=\"col_heading level0 col3\" >sci.space</th>        <th class=\"col_heading level0 col4\" >talk.religion.misc</th>    </tr></thead><tbody>\n",
       "                <tr>\n",
       "                        <th id=\"T_03cf8a52_498e_11e9_976d_1002b51cfaa6level0_row0\" class=\"row_heading level0 row0\" >0</th>\n",
       "                        <td id=\"T_03cf8a52_498e_11e9_976d_1002b51cfaa6row0_col0\" class=\"data row0 col0\" >cheers kent</td>\n",
       "                        <td id=\"T_03cf8a52_498e_11e9_976d_1002b51cfaa6row0_col1\" class=\"data row0 col1\" >0.4526</td>\n",
       "                        <td id=\"T_03cf8a52_498e_11e9_976d_1002b51cfaa6row0_col2\" class=\"data row0 col2\" >-0.5413</td>\n",
       "                        <td id=\"T_03cf8a52_498e_11e9_976d_1002b51cfaa6row0_col3\" class=\"data row0 col3\" >-0.521</td>\n",
       "                        <td id=\"T_03cf8a52_498e_11e9_976d_1002b51cfaa6row0_col4\" class=\"data row0 col4\" >0.4533</td>\n",
       "            </tr>\n",
       "            <tr>\n",
       "                        <th id=\"T_03cf8a52_498e_11e9_976d_1002b51cfaa6level0_row1\" class=\"row_heading level0 row1\" >1</th>\n",
       "                        <td id=\"T_03cf8a52_498e_11e9_976d_1002b51cfaa6row1_col0\" class=\"data row1 col0\" >claim that</td>\n",
       "                        <td id=\"T_03cf8a52_498e_11e9_976d_1002b51cfaa6row1_col1\" class=\"data row1 col1\" >0.4499</td>\n",
       "                        <td id=\"T_03cf8a52_498e_11e9_976d_1002b51cfaa6row1_col2\" class=\"data row1 col2\" >-0.1511</td>\n",
       "                        <td id=\"T_03cf8a52_498e_11e9_976d_1002b51cfaa6row1_col3\" class=\"data row1 col3\" >-0.209</td>\n",
       "                        <td id=\"T_03cf8a52_498e_11e9_976d_1002b51cfaa6row1_col4\" class=\"data row1 col4\" >-0.0958</td>\n",
       "            </tr>\n",
       "            <tr>\n",
       "                        <th id=\"T_03cf8a52_498e_11e9_976d_1002b51cfaa6level0_row2\" class=\"row_heading level0 row2\" >2</th>\n",
       "                        <td id=\"T_03cf8a52_498e_11e9_976d_1002b51cfaa6row2_col0\" class=\"data row2 col0\" >in this</td>\n",
       "                        <td id=\"T_03cf8a52_498e_11e9_976d_1002b51cfaa6row2_col1\" class=\"data row2 col1\" >0.3828</td>\n",
       "                        <td id=\"T_03cf8a52_498e_11e9_976d_1002b51cfaa6row2_col2\" class=\"data row2 col2\" >-0.0024</td>\n",
       "                        <td id=\"T_03cf8a52_498e_11e9_976d_1002b51cfaa6row2_col3\" class=\"data row2 col3\" >-0.3971</td>\n",
       "                        <td id=\"T_03cf8a52_498e_11e9_976d_1002b51cfaa6row2_col4\" class=\"data row2 col4\" >-0.093</td>\n",
       "            </tr>\n",
       "            <tr>\n",
       "                        <th id=\"T_03cf8a52_498e_11e9_976d_1002b51cfaa6level0_row3\" class=\"row_heading level0 row3\" >3</th>\n",
       "                        <td id=\"T_03cf8a52_498e_11e9_976d_1002b51cfaa6row3_col0\" class=\"data row3 col0\" >you are</td>\n",
       "                        <td id=\"T_03cf8a52_498e_11e9_976d_1002b51cfaa6row3_col1\" class=\"data row3 col1\" >0.3767</td>\n",
       "                        <td id=\"T_03cf8a52_498e_11e9_976d_1002b51cfaa6row3_col2\" class=\"data row3 col2\" >-0.2412</td>\n",
       "                        <td id=\"T_03cf8a52_498e_11e9_976d_1002b51cfaa6row3_col3\" class=\"data row3 col3\" >-0.3951</td>\n",
       "                        <td id=\"T_03cf8a52_498e_11e9_976d_1002b51cfaa6row3_col4\" class=\"data row3 col4\" >0.0497</td>\n",
       "            </tr>\n",
       "            <tr>\n",
       "                        <th id=\"T_03cf8a52_498e_11e9_976d_1002b51cfaa6level0_row4\" class=\"row_heading level0 row4\" >4</th>\n",
       "                        <td id=\"T_03cf8a52_498e_11e9_976d_1002b51cfaa6row4_col0\" class=\"data row4 col0\" >are you</td>\n",
       "                        <td id=\"T_03cf8a52_498e_11e9_976d_1002b51cfaa6row4_col1\" class=\"data row4 col1\" >0.3735</td>\n",
       "                        <td id=\"T_03cf8a52_498e_11e9_976d_1002b51cfaa6row4_col2\" class=\"data row4 col2\" >-0.2005</td>\n",
       "                        <td id=\"T_03cf8a52_498e_11e9_976d_1002b51cfaa6row4_col3\" class=\"data row4 col3\" >-0.0878</td>\n",
       "                        <td id=\"T_03cf8a52_498e_11e9_976d_1002b51cfaa6row4_col4\" class=\"data row4 col4\" >-0.2322</td>\n",
       "            </tr>\n",
       "            <tr>\n",
       "                        <th id=\"T_03cf8a52_498e_11e9_976d_1002b51cfaa6level0_row5\" class=\"row_heading level0 row5\" >5</th>\n",
       "                        <td id=\"T_03cf8a52_498e_11e9_976d_1002b51cfaa6row5_col0\" class=\"data row5 col0\" >looking for</td>\n",
       "                        <td id=\"T_03cf8a52_498e_11e9_976d_1002b51cfaa6row5_col1\" class=\"data row5 col1\" >-0.5173</td>\n",
       "                        <td id=\"T_03cf8a52_498e_11e9_976d_1002b51cfaa6row5_col2\" class=\"data row5 col2\" >0.9089</td>\n",
       "                        <td id=\"T_03cf8a52_498e_11e9_976d_1002b51cfaa6row5_col3\" class=\"data row5 col3\" >-0.402</td>\n",
       "                        <td id=\"T_03cf8a52_498e_11e9_976d_1002b51cfaa6row5_col4\" class=\"data row5 col4\" >-0.4586</td>\n",
       "            </tr>\n",
       "            <tr>\n",
       "                        <th id=\"T_03cf8a52_498e_11e9_976d_1002b51cfaa6level0_row6\" class=\"row_heading level0 row6\" >6</th>\n",
       "                        <td id=\"T_03cf8a52_498e_11e9_976d_1002b51cfaa6row6_col0\" class=\"data row6 col0\" >in advance</td>\n",
       "                        <td id=\"T_03cf8a52_498e_11e9_976d_1002b51cfaa6row6_col1\" class=\"data row6 col1\" >-0.3799</td>\n",
       "                        <td id=\"T_03cf8a52_498e_11e9_976d_1002b51cfaa6row6_col2\" class=\"data row6 col2\" >0.696</td>\n",
       "                        <td id=\"T_03cf8a52_498e_11e9_976d_1002b51cfaa6row6_col3\" class=\"data row6 col3\" >-0.3552</td>\n",
       "                        <td id=\"T_03cf8a52_498e_11e9_976d_1002b51cfaa6row6_col4\" class=\"data row6 col4\" >-0.339</td>\n",
       "            </tr>\n",
       "            <tr>\n",
       "                        <th id=\"T_03cf8a52_498e_11e9_976d_1002b51cfaa6level0_row7\" class=\"row_heading level0 row7\" >7</th>\n",
       "                        <td id=\"T_03cf8a52_498e_11e9_976d_1002b51cfaa6row7_col0\" class=\"data row7 col0\" >out there</td>\n",
       "                        <td id=\"T_03cf8a52_498e_11e9_976d_1002b51cfaa6row7_col1\" class=\"data row7 col1\" >-0.2295</td>\n",
       "                        <td id=\"T_03cf8a52_498e_11e9_976d_1002b51cfaa6row7_col2\" class=\"data row7 col2\" >0.6262</td>\n",
       "                        <td id=\"T_03cf8a52_498e_11e9_976d_1002b51cfaa6row7_col3\" class=\"data row7 col3\" >-0.3864</td>\n",
       "                        <td id=\"T_03cf8a52_498e_11e9_976d_1002b51cfaa6row7_col4\" class=\"data row7 col4\" >-0.2257</td>\n",
       "            </tr>\n",
       "            <tr>\n",
       "                        <th id=\"T_03cf8a52_498e_11e9_976d_1002b51cfaa6level0_row8\" class=\"row_heading level0 row8\" >8</th>\n",
       "                        <td id=\"T_03cf8a52_498e_11e9_976d_1002b51cfaa6row8_col0\" class=\"data row8 col0\" >is there</td>\n",
       "                        <td id=\"T_03cf8a52_498e_11e9_976d_1002b51cfaa6row8_col1\" class=\"data row8 col1\" >-0.2637</td>\n",
       "                        <td id=\"T_03cf8a52_498e_11e9_976d_1002b51cfaa6row8_col2\" class=\"data row8 col2\" >0.6009</td>\n",
       "                        <td id=\"T_03cf8a52_498e_11e9_976d_1002b51cfaa6row8_col3\" class=\"data row8 col3\" >-0.3785</td>\n",
       "                        <td id=\"T_03cf8a52_498e_11e9_976d_1002b51cfaa6row8_col4\" class=\"data row8 col4\" >-0.1898</td>\n",
       "            </tr>\n",
       "            <tr>\n",
       "                        <th id=\"T_03cf8a52_498e_11e9_976d_1002b51cfaa6level0_row9\" class=\"row_heading level0 row9\" >9</th>\n",
       "                        <td id=\"T_03cf8a52_498e_11e9_976d_1002b51cfaa6row9_col0\" class=\"data row9 col0\" >comp graphics</td>\n",
       "                        <td id=\"T_03cf8a52_498e_11e9_976d_1002b51cfaa6row9_col1\" class=\"data row9 col1\" >-0.2226</td>\n",
       "                        <td id=\"T_03cf8a52_498e_11e9_976d_1002b51cfaa6row9_col2\" class=\"data row9 col2\" >0.595</td>\n",
       "                        <td id=\"T_03cf8a52_498e_11e9_976d_1002b51cfaa6row9_col3\" class=\"data row9 col3\" >-0.2898</td>\n",
       "                        <td id=\"T_03cf8a52_498e_11e9_976d_1002b51cfaa6row9_col4\" class=\"data row9 col4\" >-0.2028</td>\n",
       "            </tr>\n",
       "            <tr>\n",
       "                        <th id=\"T_03cf8a52_498e_11e9_976d_1002b51cfaa6level0_row10\" class=\"row_heading level0 row10\" >10</th>\n",
       "                        <td id=\"T_03cf8a52_498e_11e9_976d_1002b51cfaa6row10_col0\" class=\"data row10 col0\" >the space</td>\n",
       "                        <td id=\"T_03cf8a52_498e_11e9_976d_1002b51cfaa6row10_col1\" class=\"data row10 col1\" >-0.2253</td>\n",
       "                        <td id=\"T_03cf8a52_498e_11e9_976d_1002b51cfaa6row10_col2\" class=\"data row10 col2\" >-0.4206</td>\n",
       "                        <td id=\"T_03cf8a52_498e_11e9_976d_1002b51cfaa6row10_col3\" class=\"data row10 col3\" >0.7166</td>\n",
       "                        <td id=\"T_03cf8a52_498e_11e9_976d_1002b51cfaa6row10_col4\" class=\"data row10 col4\" >-0.2274</td>\n",
       "            </tr>\n",
       "            <tr>\n",
       "                        <th id=\"T_03cf8a52_498e_11e9_976d_1002b51cfaa6level0_row11\" class=\"row_heading level0 row11\" >11</th>\n",
       "                        <td id=\"T_03cf8a52_498e_11e9_976d_1002b51cfaa6row11_col0\" class=\"data row11 col0\" >the moon</td>\n",
       "                        <td id=\"T_03cf8a52_498e_11e9_976d_1002b51cfaa6row11_col1\" class=\"data row11 col1\" >-0.2981</td>\n",
       "                        <td id=\"T_03cf8a52_498e_11e9_976d_1002b51cfaa6row11_col2\" class=\"data row11 col2\" >-0.4113</td>\n",
       "                        <td id=\"T_03cf8a52_498e_11e9_976d_1002b51cfaa6row11_col3\" class=\"data row11 col3\" >0.7139</td>\n",
       "                        <td id=\"T_03cf8a52_498e_11e9_976d_1002b51cfaa6row11_col4\" class=\"data row11 col4\" >-0.189</td>\n",
       "            </tr>\n",
       "            <tr>\n",
       "                        <th id=\"T_03cf8a52_498e_11e9_976d_1002b51cfaa6level0_row12\" class=\"row_heading level0 row12\" >12</th>\n",
       "                        <td id=\"T_03cf8a52_498e_11e9_976d_1002b51cfaa6row12_col0\" class=\"data row12 col0\" >sci space</td>\n",
       "                        <td id=\"T_03cf8a52_498e_11e9_976d_1002b51cfaa6row12_col1\" class=\"data row12 col1\" >-0.2057</td>\n",
       "                        <td id=\"T_03cf8a52_498e_11e9_976d_1002b51cfaa6row12_col2\" class=\"data row12 col2\" >-0.2727</td>\n",
       "                        <td id=\"T_03cf8a52_498e_11e9_976d_1002b51cfaa6row12_col3\" class=\"data row12 col3\" >0.5067</td>\n",
       "                        <td id=\"T_03cf8a52_498e_11e9_976d_1002b51cfaa6row12_col4\" class=\"data row12 col4\" >-0.175</td>\n",
       "            </tr>\n",
       "            <tr>\n",
       "                        <th id=\"T_03cf8a52_498e_11e9_976d_1002b51cfaa6level0_row13\" class=\"row_heading level0 row13\" >13</th>\n",
       "                        <td id=\"T_03cf8a52_498e_11e9_976d_1002b51cfaa6row13_col0\" class=\"data row13 col0\" >and such</td>\n",
       "                        <td id=\"T_03cf8a52_498e_11e9_976d_1002b51cfaa6row13_col1\" class=\"data row13 col1\" >-0.1682</td>\n",
       "                        <td id=\"T_03cf8a52_498e_11e9_976d_1002b51cfaa6row13_col2\" class=\"data row13 col2\" >-0.2775</td>\n",
       "                        <td id=\"T_03cf8a52_498e_11e9_976d_1002b51cfaa6row13_col3\" class=\"data row13 col3\" >0.494</td>\n",
       "                        <td id=\"T_03cf8a52_498e_11e9_976d_1002b51cfaa6row13_col4\" class=\"data row13 col4\" >-0.1813</td>\n",
       "            </tr>\n",
       "            <tr>\n",
       "                        <th id=\"T_03cf8a52_498e_11e9_976d_1002b51cfaa6level0_row14\" class=\"row_heading level0 row14\" >14</th>\n",
       "                        <td id=\"T_03cf8a52_498e_11e9_976d_1002b51cfaa6row14_col0\" class=\"data row14 col0\" >it was</td>\n",
       "                        <td id=\"T_03cf8a52_498e_11e9_976d_1002b51cfaa6row14_col1\" class=\"data row14 col1\" >-0.1548</td>\n",
       "                        <td id=\"T_03cf8a52_498e_11e9_976d_1002b51cfaa6row14_col2\" class=\"data row14 col2\" >-0.2586</td>\n",
       "                        <td id=\"T_03cf8a52_498e_11e9_976d_1002b51cfaa6row14_col3\" class=\"data row14 col3\" >0.4394</td>\n",
       "                        <td id=\"T_03cf8a52_498e_11e9_976d_1002b51cfaa6row14_col4\" class=\"data row14 col4\" >-0.2447</td>\n",
       "            </tr>\n",
       "            <tr>\n",
       "                        <th id=\"T_03cf8a52_498e_11e9_976d_1002b51cfaa6level0_row15\" class=\"row_heading level0 row15\" >15</th>\n",
       "                        <td id=\"T_03cf8a52_498e_11e9_976d_1002b51cfaa6row15_col0\" class=\"data row15 col0\" >cheers kent</td>\n",
       "                        <td id=\"T_03cf8a52_498e_11e9_976d_1002b51cfaa6row15_col1\" class=\"data row15 col1\" >0.4526</td>\n",
       "                        <td id=\"T_03cf8a52_498e_11e9_976d_1002b51cfaa6row15_col2\" class=\"data row15 col2\" >-0.5413</td>\n",
       "                        <td id=\"T_03cf8a52_498e_11e9_976d_1002b51cfaa6row15_col3\" class=\"data row15 col3\" >-0.521</td>\n",
       "                        <td id=\"T_03cf8a52_498e_11e9_976d_1002b51cfaa6row15_col4\" class=\"data row15 col4\" >0.4533</td>\n",
       "            </tr>\n",
       "            <tr>\n",
       "                        <th id=\"T_03cf8a52_498e_11e9_976d_1002b51cfaa6level0_row16\" class=\"row_heading level0 row16\" >16</th>\n",
       "                        <td id=\"T_03cf8a52_498e_11e9_976d_1002b51cfaa6row16_col0\" class=\"data row16 col0\" >the fbi</td>\n",
       "                        <td id=\"T_03cf8a52_498e_11e9_976d_1002b51cfaa6row16_col1\" class=\"data row16 col1\" >-0.1025</td>\n",
       "                        <td id=\"T_03cf8a52_498e_11e9_976d_1002b51cfaa6row16_col2\" class=\"data row16 col2\" >-0.1657</td>\n",
       "                        <td id=\"T_03cf8a52_498e_11e9_976d_1002b51cfaa6row16_col3\" class=\"data row16 col3\" >-0.2352</td>\n",
       "                        <td id=\"T_03cf8a52_498e_11e9_976d_1002b51cfaa6row16_col4\" class=\"data row16 col4\" >0.4504</td>\n",
       "            </tr>\n",
       "            <tr>\n",
       "                        <th id=\"T_03cf8a52_498e_11e9_976d_1002b51cfaa6level0_row17\" class=\"row_heading level0 row17\" >17</th>\n",
       "                        <td id=\"T_03cf8a52_498e_11e9_976d_1002b51cfaa6row17_col0\" class=\"data row17 col0\" >but he</td>\n",
       "                        <td id=\"T_03cf8a52_498e_11e9_976d_1002b51cfaa6row17_col1\" class=\"data row17 col1\" >-0.136</td>\n",
       "                        <td id=\"T_03cf8a52_498e_11e9_976d_1002b51cfaa6row17_col2\" class=\"data row17 col2\" >-0.1654</td>\n",
       "                        <td id=\"T_03cf8a52_498e_11e9_976d_1002b51cfaa6row17_col3\" class=\"data row17 col3\" >-0.1021</td>\n",
       "                        <td id=\"T_03cf8a52_498e_11e9_976d_1002b51cfaa6row17_col4\" class=\"data row17 col4\" >0.3764</td>\n",
       "            </tr>\n",
       "            <tr>\n",
       "                        <th id=\"T_03cf8a52_498e_11e9_976d_1002b51cfaa6level0_row18\" class=\"row_heading level0 row18\" >18</th>\n",
       "                        <td id=\"T_03cf8a52_498e_11e9_976d_1002b51cfaa6row18_col0\" class=\"data row18 col0\" >with you</td>\n",
       "                        <td id=\"T_03cf8a52_498e_11e9_976d_1002b51cfaa6row18_col1\" class=\"data row18 col1\" >-0.1765</td>\n",
       "                        <td id=\"T_03cf8a52_498e_11e9_976d_1002b51cfaa6row18_col2\" class=\"data row18 col2\" >0.07</td>\n",
       "                        <td id=\"T_03cf8a52_498e_11e9_976d_1002b51cfaa6row18_col3\" class=\"data row18 col3\" >-0.2768</td>\n",
       "                        <td id=\"T_03cf8a52_498e_11e9_976d_1002b51cfaa6row18_col4\" class=\"data row18 col4\" >0.36</td>\n",
       "            </tr>\n",
       "            <tr>\n",
       "                        <th id=\"T_03cf8a52_498e_11e9_976d_1002b51cfaa6level0_row19\" class=\"row_heading level0 row19\" >19</th>\n",
       "                        <td id=\"T_03cf8a52_498e_11e9_976d_1002b51cfaa6row19_col0\" class=\"data row19 col0\" >the word</td>\n",
       "                        <td id=\"T_03cf8a52_498e_11e9_976d_1002b51cfaa6row19_col1\" class=\"data row19 col1\" >0.0566</td>\n",
       "                        <td id=\"T_03cf8a52_498e_11e9_976d_1002b51cfaa6row19_col2\" class=\"data row19 col2\" >-0.2027</td>\n",
       "                        <td id=\"T_03cf8a52_498e_11e9_976d_1002b51cfaa6row19_col3\" class=\"data row19 col3\" >-0.2222</td>\n",
       "                        <td id=\"T_03cf8a52_498e_11e9_976d_1002b51cfaa6row19_col4\" class=\"data row19 col4\" >0.3449</td>\n",
       "            </tr>\n",
       "    </tbody></table>"
      ],
      "text/plain": [
       "<pandas.io.formats.style.Styler at 0x245ca6eb7b8>"
      ]
     },
     "metadata": {},
     "output_type": "display_data"
    }
   ],
   "source": [
    "def P4():\n",
    "    \"\"\" \n",
    "    4th Problem. Using the default features vector, train a Logistic Regression, using the C from P3. \n",
    "    Args:\n",
    "        No arguments. All data is loaded in the global environment.\n",
    "    Returns:\n",
    "        The function will return a report with two outputs: \n",
    "            a.- Table with 20 rows and 4 columns of the weights of each feature using standard Vocabularory\n",
    "            b.- Similar table using bigram features instead\n",
    "    \"\"\"   \n",
    "    \n",
    "    # Part a - Standard Vocabulary. Optimal C=0.25\n",
    "    classes = ['alt.atheism', 'comp.graphics', 'sci.space', 'talk.religion.misc']\n",
    "    log_reg_clf = Pipeline([\n",
    "        ('vect', CountVectorizer()),\n",
    "        ('clf', LogisticRegression(penalty='l2', C=0.25, n_jobs=-1)),\n",
    "    ])\n",
    "    log_reg_clf.fit(train_data, train_labels)\n",
    "    top_5_indices = np.fliplr(log_reg_clf.named_steps['clf'].coef_.argsort()[:,-5:]).flatten()\n",
    "    features = np.array(log_reg_clf.named_steps['vect'].get_feature_names())[top_5_indices]\n",
    "    weights = log_reg_clf.named_steps['clf'].coef_[:,top_5_indices].T\n",
    "    table_feat_weight = pd.DataFrame(weights, index=features, columns = classes)\n",
    "    printmd('### Part a - Logistic Regression - Word Vocabulary C = 0.25')\n",
    "    printmd('*Table of the top 5 features by weights per label*')\n",
    "    display(table_feat_weight.round(4).style.background_gradient(cmap='gist_gray'))\n",
    "    \n",
    "    # Part b - Bigram Vocabulary. Optimal C=0.25\n",
    "    classes = ['alt.atheism', 'comp.graphics', 'sci.space', 'talk.religion.misc']\n",
    "    log_reg_clf_bi = Pipeline([\n",
    "        ('vect', CountVectorizer(analyzer='word', ngram_range=(2,2))),\n",
    "        ('clf', LogisticRegression(penalty='l2', C=0.25, n_jobs=-1)),\n",
    "    ])\n",
    "    log_reg_clf_bi.fit(train_data, train_labels)\n",
    "    top_5_indices_bi = np.fliplr(log_reg_clf_bi.named_steps['clf'].coef_.argsort()[:,-5:]).flatten()\n",
    "    features_bi = np.array(log_reg_clf_bi.named_steps['vect'].get_feature_names())[top_5_indices_bi]\n",
    "    weights_bi = log_reg_clf_bi.named_steps['clf'].coef_[:,top_5_indices_bi].T\n",
    "    table_feat_weight_bi = pd.DataFrame(weights_bi, index=features_bi, columns = classes)\n",
    "    printmd('### Part b - Logistic Regression - BiWord Vocabulary C = 0.25')\n",
    "    printmd('*Table of the top 5 features by weights per label*')\n",
    "    display_df = table_feat_weight_bi.reset_index()\n",
    "    display(display_df.round(4).style.background_gradient(cmap='gist_gray'))\n",
    "\n",
    "P4()"
   ]
  },
  {
   "cell_type": "markdown",
   "metadata": {},
   "source": [
    "### Answer:\n",
    "\n",
    "Is quite surprising that when we increase the vocubaluray to bigram words, we start 'losing' some of the interpretability of the model. For a 1-word model, for each label, the most important features seem to be related to the space: religion, islam for atheism; graphics, image for comp.graphics; etc. However, when we increase to 2-Word models, the most important features start to be common combinations of words in the English language: 'with you', 'you are', 'are you', etc. Although there are combinations that seems quite on the spot like 'the moon' or 'sci space', the model start showing one of the main issues of text classification: how to model the English Language and all the possible combinations that happens naturally just because, the so called 'Stop Words' start to appear more often because of these combinations."
   ]
  },
  {
   "cell_type": "markdown",
   "metadata": {},
   "source": [
    "## (5) \n",
    "Try to improve the logistic regression classifier by passing a custom preprocessor to CountVectorizer. The preprocessing function runs on the raw text, before it is split into words by the tokenizer. Your preprocessor should try to normalize the input in various ways to improve generalization. For example, try lowercasing everything, replacing sequences of numbers with a single token, removing various other non-letter characters, and shortening long words. If you're not already familiar with regular expressions for manipulating strings, see https://docs.python.org/2/library/re.html, and re.sub() in particular. With your new preprocessor, how much did you reduce the size of the dictionary?\n",
    "\n",
    "For reference, I was able to improve dev F1 by 2 points."
   ]
  },
  {
   "cell_type": "code",
   "execution_count": 56,
   "metadata": {},
   "outputs": [
    {
     "data": {
      "text/markdown": [
       "## Training with Train Data, Evaluating Performance in Dev Data"
      ],
      "text/plain": [
       "<IPython.core.display.Markdown object>"
      ]
     },
     "metadata": {},
     "output_type": "display_data"
    },
    {
     "data": {
      "text/markdown": [
       "### Part a - Empty Preprocessor"
      ],
      "text/plain": [
       "<IPython.core.display.Markdown object>"
      ]
     },
     "metadata": {},
     "output_type": "display_data"
    },
    {
     "data": {
      "text/markdown": [
       "The size of the vocabulary is 33291 and the F1 score is 0.710"
      ],
      "text/plain": [
       "<IPython.core.display.Markdown object>"
      ]
     },
     "metadata": {},
     "output_type": "display_data"
    },
    {
     "data": {
      "text/markdown": [
       "### Part b - Custom Preprocessor"
      ],
      "text/plain": [
       "<IPython.core.display.Markdown object>"
      ]
     },
     "metadata": {},
     "output_type": "display_data"
    },
    {
     "data": {
      "text/markdown": [
       "The size of the vocabulary is 21750 and the F1 score is 0.714"
      ],
      "text/plain": [
       "<IPython.core.display.Markdown object>"
      ]
     },
     "metadata": {},
     "output_type": "display_data"
    },
    {
     "data": {
      "text/markdown": [
       "*Difference in words is 11541 and the increase(decrease) in F1 score is 0.0044*"
      ],
      "text/plain": [
       "<IPython.core.display.Markdown object>"
      ]
     },
     "metadata": {},
     "output_type": "display_data"
    }
   ],
   "source": [
    "def empty_preprocessor(s):\n",
    "    return s\n",
    "\n",
    "def better_preprocessor(s):\n",
    "    \"\"\"\n",
    "    Function for preprocessing the string data for better classification\n",
    "    Args:\n",
    "        String\n",
    "    Returns:\n",
    "        Processed String\n",
    "    \"\"\"\n",
    "    # Let's start by lowering everything and doing Regex (non-letter, extra spaces, plural, numbers)\n",
    "    s = s.lower()\n",
    "    s_new = re.sub(r\"[,@\\'?\\.$%_]\", \"\", s, flags=re.I) \n",
    "    s_new = re.sub(r\"\\s+\",\" \", s_new, flags = re.I)  \n",
    "    s_new = re.sub(r'ies\\b|es\\b|s\\b|y\\b', '', s_new, flags=re.I)\n",
    "    s_new = re.sub(r'\\w*\\d\\w*|_', '', s_new).strip()\n",
    "    \n",
    "    # Now, let's use NLP for removing Stop Words and tokenize\n",
    "    stop_words = set(stopwords.words('english')) \n",
    "    word_tokens = word_tokenize(s_new) \n",
    "    filtered_s = [w for w in word_tokens if not w in stop_words] \n",
    "    filtered_s = [] \n",
    "    for w in word_tokens: \n",
    "        if w not in stop_words: \n",
    "            filtered_s.append(w) \n",
    "    return str(filtered_s)\n",
    "\n",
    "def P5():\n",
    "    \"\"\" \n",
    "    5th Problem. Comparing empty preprocessor with custom preprocessor to improve training and reduce the size of vocabulary\n",
    "    Args:\n",
    "        No arguments. All data is loaded in the global environment. C used equal to 0.25 as before\n",
    "    Returns:\n",
    "        The function will return a report of the difference of sizes of the vocabularies and the F1 scores\n",
    "    \"\"\"   \n",
    "    # Part a - Empty Preprocessor\n",
    "    log_reg_clf_emp = Pipeline([\n",
    "        ('vect', CountVectorizer(preprocessor=empty_preprocessor)),\n",
    "        ('clf', LogisticRegression(penalty='l2', C=0.25, n_jobs=-1)),\n",
    "    ])\n",
    "    log_reg_clf_emp.fit(train_data, train_labels)\n",
    "    printmd('## Training with Train Data, Evaluating Performance in Dev Data')\n",
    "    printmd('### Part a - Empty Preprocessor')\n",
    "    voc_emp = log_reg_clf_emp.named_steps['clf'].coef_.shape[1]\n",
    "    y_dev_pre_emp = log_reg_clf_emp.predict(dev_data)\n",
    "    f1_emp = metrics.f1_score(dev_labels, y_dev_pre_emp,average='micro')\n",
    "    printmd('The size of the vocabulary is %d and the F1 score is %.03f'%(voc_emp, f1_emp))\n",
    "    \n",
    "    # Part b - Custom Preprocessor\n",
    "    log_reg_clf_cst = Pipeline([\n",
    "        ('vect', CountVectorizer(preprocessor=better_preprocessor)),\n",
    "        ('clf', LogisticRegression(penalty='l2', C=0.25, n_jobs=-1)),\n",
    "    ])\n",
    "    log_reg_clf_cst.fit(train_data, train_labels)\n",
    "    printmd('### Part b - Custom Preprocessor')\n",
    "    voc_cst = log_reg_clf_cst.named_steps['clf'].coef_.shape[1]\n",
    "    y_dev_pre_cst = log_reg_clf_cst.predict(dev_data)\n",
    "    f1_cst = metrics.f1_score(dev_labels, y_dev_pre_cst,average='micro')\n",
    "    printmd('The size of the vocabulary is %d and the F1 score is %.03f'%(voc_cst, f1_cst))\n",
    "    printmd('*The preprocessor reduced the vocabulary by %d and increased(decrease) the F1 score by %.04f*'%(voc_emp-\\\n",
    "                                                                                                voc_cst,f1_cst-f1_emp))\n",
    "    \n",
    "P5()"
   ]
  },
  {
   "cell_type": "markdown",
   "metadata": {},
   "source": [
    "## (6) \n",
    "The idea of regularization is to avoid learning very large weights (which are likely to fit the training data, but not generalize well) by adding a penalty to the total size of the learned weights. That is, logistic regression seeks the set of weights that minimizes errors in the training data AND has a small size. The default regularization, L2, computes this size as the sum of the squared weights (see P3, above). L1 regularization computes this size as the sum of the absolute values of the weights. The result is that whereas L2 regularization makes all the weights relatively small, L1 regularization drives lots of the weights to 0, effectively removing unimportant features.\n",
    "\n",
    "Train a logistic regression model using a \"l1\" penalty. Output the number of learned weights that are not equal to zero. How does this compare to the number of non-zero weights you get with \"l2\"? Now, reduce the size of the vocabulary by keeping only those features that have at least one non-zero weight and retrain a model using \"l2\".\n",
    "\n",
    "Make a plot showing accuracy of the re-trained model vs. the vocabulary size you get when pruning unused features by adjusting the C parameter.\n",
    "\n",
    "Note: The gradient descent code that trains the logistic regression model sometimes has trouble converging with extreme settings of the C parameter. Relax the convergence criteria by setting tol=.01 (the default is .0001)."
   ]
  },
  {
   "cell_type": "code",
   "execution_count": 69,
   "metadata": {},
   "outputs": [
    {
     "data": {
      "image/png": "[encoded data removed]",
      "text/plain": [
       "<matplotlib.figure.Figure at 0x245c78501d0>"
      ]
     },
     "metadata": {},
     "output_type": "display_data"
    }
   ],
   "source": [
    "def P6():\n",
    "    \"\"\" \n",
    "    6th Problem. Use L1 Regularization for feature selection\n",
    "    Args:\n",
    "        No arguments. All data is loaded in the global environment. C will be the same for both models\n",
    "    Returns:\n",
    "        Plot of the size of the vocabulary vs. the accuracy of the model. \n",
    "    \"\"\"   \n",
    "    # Parameters of the iteration and Gradient Descent\n",
    "    np.random.seed(0)\n",
    "    C = [0.01, 0.1, 0.2, 0.5, 0.8, 1, 1.5, 2.0, 5.0, 10.0, 15.0, 20.0]\n",
    "    tol = 0.01\n",
    "    size_voc = []\n",
    "    acc = []\n",
    "    for c in C:\n",
    "        # L1 Regularization for feature selection\n",
    "        log_reg_clf_l1 = Pipeline([\n",
    "            ('vect', CountVectorizer()),\n",
    "            ('clf', LogisticRegression(penalty='l1', C=c, n_jobs=-1, tol=0.01)),\n",
    "        ])\n",
    "        log_reg_clf_l1.fit(train_data, train_labels)\n",
    "        log_reg_clf_l1_coef = np.sum(log_reg_clf_l1.named_steps['clf'].coef_,axis=0).nonzero()\n",
    "        log_reg_clf_l1_vocab = log_reg_clf_l1.named_steps['vect'].get_feature_names()\n",
    "        l1_features = np.array(log_reg_clf_l1_vocab)[log_reg_clf_l1_coef]\n",
    "        \n",
    "        # L2 Regularization for Training\n",
    "        log_reg_clf_l2 = Pipeline([\n",
    "            ('vect', CountVectorizer(vocabulary=l1_features)),\n",
    "            ('clf', LogisticRegression(penalty='l2', C=c, n_jobs=-1, tol=0.01)),\n",
    "        ])\n",
    "        log_reg_clf_l2.fit(train_data, train_labels)\n",
    "        size_voc.append(log_reg_clf_l2.named_steps['clf'].coef_.shape[1])\n",
    "        y_dev_pre_cst = log_reg_clf_l2.predict(dev_data)\n",
    "        acc.append(metrics.accuracy_score(dev_labels, y_dev_pre_cst))\n",
    "    \n",
    "    # Plot the results\n",
    "    fig, ax = plt.subplots(figsize=(16,4))\n",
    "    cmap = matplotlib.cm.get_cmap('viridis')\n",
    "    normalize = matplotlib.colors.Normalize(vmin=min(C), vmax=max(C))\n",
    "    colors = [cmap(normalize(value)) for value in C]\n",
    "    ax.scatter(size_voc, acc, marker='o', color=colors)\n",
    "    ax.set_title('Accuracy vs. Vocabulary size: Feature Selection using L1 Regularization')\n",
    "    ax.set_xlabel('Vocabulary Size')\n",
    "    ax.set_ylabel('Accuracy in Dev Set')\n",
    "    cax, _ = matplotlib.colorbar.make_axes(ax)\n",
    "    cbar = matplotlib.colorbar.ColorbarBase(cax, cmap=cmap, norm=normalize)\n",
    "    plt.show()\n",
    "    \n",
    "    \n",
    "\n",
    "P6()"
   ]
  },
  {
   "cell_type": "markdown",
   "metadata": {},
   "source": [
    "### Answer\n",
    "\n",
    "It's quite clear how L1 regularization shrinks the vocabulary size in quite a spectacular way. This is a strategy also use in LASSO regression, where we do feature selection first by using L1 norm. The reasoning behind it is that L1 ignores any kind of outliers of the data, and tends to the median, instead of the mean. Thus, the weights are 'solved' to zero quickly by the linear programming. On the other hand, L2 norm tends to the average, thus outliers have a huge impact on it. The way L2 handles it is to have almost all the weigths with at least some value."
   ]
  },
  {
   "cell_type": "markdown",
   "metadata": {},
   "source": [
    "## (7)\n",
    "Use the TfidfVectorizer -- how is this different from the CountVectorizer? Train a logistic regression model with C=100.\n",
    "\n",
    "Make predictions on the dev data and show the top 3 documents where the ratio R is largest, where R is:\n",
    "\n",
    "maximum predicted probability / predicted probability of the correct label\n",
    "\n",
    "What kinds of mistakes is the model making? Suggest a way to address one particular issue that you see."
   ]
  },
  {
   "cell_type": "code",
   "execution_count": 113,
   "metadata": {},
   "outputs": [
    {
     "data": {
      "text/markdown": [
       "**Documents with largest R ratio**"
      ],
      "text/plain": [
       "<IPython.core.display.Markdown object>"
      ]
     },
     "metadata": {},
     "output_type": "display_data"
    },
    {
     "data": {
      "text/markdown": [
       "**-****-****-****-****-****-****-****-****-****-****-****-****-****-****-****-****-****-****-****-****-****-****-****-****-****-****-****-****-****-****-****-****-****-****-****-****-****-****-****-****-****-****-****-****-****-****-****-****-****-****-****-****-****-****-****-****-****-****-****-****-****-****-****-****-****-****-****-****-****-****-****-****-****-****-****-****-****-****-****-****-****-****-****-****-****-****-****-****-****-****-****-****-****-****-****-****-****-****-****-**\n"
      ],
      "text/plain": [
       "<IPython.core.display.Markdown object>"
      ]
     },
     "metadata": {},
     "output_type": "display_data"
    },
    {
     "data": {
      "text/markdown": [
       "**Value or R is 273.82**"
      ],
      "text/plain": [
       "<IPython.core.display.Markdown object>"
      ]
     },
     "metadata": {},
     "output_type": "display_data"
    },
    {
     "data": {
      "text/markdown": [
       "**Label of development example 1 and label predicted**"
      ],
      "text/plain": [
       "<IPython.core.display.Markdown object>"
      ]
     },
     "metadata": {},
     "output_type": "display_data"
    },
    {
     "data": {
      "text/markdown": [
       "*talk.religion.misc - comp.graphics*\n"
      ],
      "text/plain": [
       "<IPython.core.display.Markdown object>"
      ]
     },
     "metadata": {},
     "output_type": "display_data"
    },
    {
     "data": {
      "text/markdown": [
       "**Text of the message in training example 1**"
      ],
      "text/plain": [
       "<IPython.core.display.Markdown object>"
      ]
     },
     "metadata": {},
     "output_type": "display_data"
    },
    {
     "name": "stdout",
     "output_type": "stream",
     "text": [
      "Can anyone provide me a ftp site where I can obtain a online version\n",
      "of the Book of Mormon. Please email the internet address if possible.\n"
     ]
    },
    {
     "data": {
      "text/markdown": [
       "**-****-****-****-****-****-****-****-****-****-****-****-****-****-****-****-****-****-****-****-****-****-****-****-****-****-****-****-****-****-****-****-****-****-****-****-****-****-****-****-****-****-****-****-****-****-****-****-****-****-****-****-****-****-****-****-****-****-****-****-****-****-****-****-****-****-****-****-****-****-****-****-****-****-****-****-****-****-****-****-****-****-****-****-****-****-****-****-****-****-****-****-****-****-****-****-****-****-****-****-**\n"
      ],
      "text/plain": [
       "<IPython.core.display.Markdown object>"
      ]
     },
     "metadata": {},
     "output_type": "display_data"
    },
    {
     "data": {
      "text/markdown": [
       "**-****-****-****-****-****-****-****-****-****-****-****-****-****-****-****-****-****-****-****-****-****-****-****-****-****-****-****-****-****-****-****-****-****-****-****-****-****-****-****-****-****-****-****-****-****-****-****-****-****-****-****-****-****-****-****-****-****-****-****-****-****-****-****-****-****-****-****-****-****-****-****-****-****-****-****-****-****-****-****-****-****-****-****-****-****-****-****-****-****-****-****-****-****-****-****-****-****-****-****-**\n"
      ],
      "text/plain": [
       "<IPython.core.display.Markdown object>"
      ]
     },
     "metadata": {},
     "output_type": "display_data"
    },
    {
     "data": {
      "text/markdown": [
       "**Value or R is 639.31**"
      ],
      "text/plain": [
       "<IPython.core.display.Markdown object>"
      ]
     },
     "metadata": {},
     "output_type": "display_data"
    },
    {
     "data": {
      "text/markdown": [
       "**Label of development example 2 and label predicted**"
      ],
      "text/plain": [
       "<IPython.core.display.Markdown object>"
      ]
     },
     "metadata": {},
     "output_type": "display_data"
    },
    {
     "data": {
      "text/markdown": [
       "*alt.atheism - talk.religion.misc*\n"
      ],
      "text/plain": [
       "<IPython.core.display.Markdown object>"
      ]
     },
     "metadata": {},
     "output_type": "display_data"
    },
    {
     "data": {
      "text/markdown": [
       "**Text of the message in training example 2**"
      ],
      "text/plain": [
       "<IPython.core.display.Markdown object>"
      ]
     },
     "metadata": {},
     "output_type": "display_data"
    },
    {
     "name": "stdout",
     "output_type": "stream",
     "text": [
      "\n",
      "The 24 children were, of course, killed by a lone gunman in a second story\n",
      "window, who fired eight bullets in the space of two seconds...\n",
      "\n"
     ]
    },
    {
     "data": {
      "text/markdown": [
       "**-****-****-****-****-****-****-****-****-****-****-****-****-****-****-****-****-****-****-****-****-****-****-****-****-****-****-****-****-****-****-****-****-****-****-****-****-****-****-****-****-****-****-****-****-****-****-****-****-****-****-****-****-****-****-****-****-****-****-****-****-****-****-****-****-****-****-****-****-****-****-****-****-****-****-****-****-****-****-****-****-****-****-****-****-****-****-****-****-****-****-****-****-****-****-****-****-****-****-****-**\n"
      ],
      "text/plain": [
       "<IPython.core.display.Markdown object>"
      ]
     },
     "metadata": {},
     "output_type": "display_data"
    },
    {
     "data": {
      "text/markdown": [
       "**-****-****-****-****-****-****-****-****-****-****-****-****-****-****-****-****-****-****-****-****-****-****-****-****-****-****-****-****-****-****-****-****-****-****-****-****-****-****-****-****-****-****-****-****-****-****-****-****-****-****-****-****-****-****-****-****-****-****-****-****-****-****-****-****-****-****-****-****-****-****-****-****-****-****-****-****-****-****-****-****-****-****-****-****-****-****-****-****-****-****-****-****-****-****-****-****-****-****-****-**\n"
      ],
      "text/plain": [
       "<IPython.core.display.Markdown object>"
      ]
     },
     "metadata": {},
     "output_type": "display_data"
    },
    {
     "data": {
      "text/markdown": [
       "**Value or R is 1552.17**"
      ],
      "text/plain": [
       "<IPython.core.display.Markdown object>"
      ]
     },
     "metadata": {},
     "output_type": "display_data"
    },
    {
     "data": {
      "text/markdown": [
       "**Label of development example 3 and label predicted**"
      ],
      "text/plain": [
       "<IPython.core.display.Markdown object>"
      ]
     },
     "metadata": {},
     "output_type": "display_data"
    },
    {
     "data": {
      "text/markdown": [
       "*talk.religion.misc - comp.graphics*\n"
      ],
      "text/plain": [
       "<IPython.core.display.Markdown object>"
      ]
     },
     "metadata": {},
     "output_type": "display_data"
    },
    {
     "data": {
      "text/markdown": [
       "**Text of the message in training example 3**"
      ],
      "text/plain": [
       "<IPython.core.display.Markdown object>"
      ]
     },
     "metadata": {},
     "output_type": "display_data"
    },
    {
     "name": "stdout",
     "output_type": "stream",
     "text": [
      "I am pleased to announce that a *revised version* of _The Easy-to-Read Book\n",
      "of Mormon_ (former title: _Mormon's Book_) by Lynn Matthews Anderson is now\n",
      "available through anonymous ftp (see information below). In addition to the\n",
      "change in title, the revised ETR BOM has been shortened by several pages\n",
      "(eliminating many extraneous \"that's\" and \"of's\"), and many (minor) errors\n",
      "have been corrected. This release includes a simplified Joseph Smith Story,\n",
      "testimonies of the three and eight witnesses, and a \"Words-to-Know\"\n",
      "glossary.\n",
      "\n",
      "As with the previous announcement, readers are reminded that this is a\n",
      "not-for-profit endeavor. This is a copyrighted work, but people are welcome\n",
      "to make *verbatim* copies for personal use. People can recuperate the\n",
      "actual costs of printing (paper, copy center charges), but may not charge\n",
      "anything for their time in making copies, or in any way realize a profit\n",
      "from the use of this book. See the permissions notice in the book itself\n",
      "for the precise terms.\n",
      "\n",
      "Negotiations are currently underway with a Mormon publisher vis-a-vis the\n",
      "printing and distribution of bound books. (Sorry, I'm out of the wire-bound\n",
      "\"first editions.\") I will make another announcement about the availability\n",
      "of printed copies once everything has been worked out.\n",
      "\n",
      "FTP information: connect via anonymous ftp to carnot.itc.cmu.edu, then \"cd\n",
      "pub\" (you won't see anything at all until you do).\n",
      "\n",
      "\"The Easy-to-Read Book of Mormon\" is currently available in postscript and\n",
      "RTF (rich text format). (ASCII, LaTeX, and other versions can be made\n",
      "available; contact dba@andrew.cmu.edu for details.) You should be able to\n",
      "print the postscript file on any postscript printer (such as an Apple\n",
      "Laserwriter); let dba know if you have any difficulties. (The postscript in\n",
      "the last release had problems on some printers; this time it should work\n",
      "better.) RTF is a standard document interchange format that can be read in\n",
      "by a number of word processors, including Microsoft Word for both the\n",
      "Macintosh and Windows. If you don't have a postscript printer, you may be\n",
      "able to use the RTF file to print out a copy of the book.\n",
      "\n",
      "-r--r--r--  1 dba                   1984742 Apr 27 13:12 etrbom.ps\n",
      "-r--r--r--  1 dba                   1209071 Apr 27 13:13 etrbom.rtf\n",
      "\n",
      "For more information about how this project came about, please refer to my\n",
      "article in the current issue of _Sunstone_, entitled \"Delighting in\n",
      "Plainness: Issues Surrounding a Simple Modern English Book of Mormon.\"\n",
      "\n",
      "Send all inquiries and comments to:\n",
      "\n",
      "    Lynn Matthews Anderson\n",
      "    5806 Hampton Street\n",
      "    Pittsburgh, PA 15206\n"
     ]
    },
    {
     "data": {
      "text/markdown": [
       "**-****-****-****-****-****-****-****-****-****-****-****-****-****-****-****-****-****-****-****-****-****-****-****-****-****-****-****-****-****-****-****-****-****-****-****-****-****-****-****-****-****-****-****-****-****-****-****-****-****-****-****-****-****-****-****-****-****-****-****-****-****-****-****-****-****-****-****-****-****-****-****-****-****-****-****-****-****-****-****-****-****-****-****-****-****-****-****-****-****-****-****-****-****-****-****-****-****-****-****-**\n"
      ],
      "text/plain": [
       "<IPython.core.display.Markdown object>"
      ]
     },
     "metadata": {},
     "output_type": "display_data"
    },
    {
     "data": {
      "image/png": "[encoded data removed]",
      "text/plain": [
       "<matplotlib.figure.Figure at 0x245afd1f1d0>"
      ]
     },
     "metadata": {},
     "output_type": "display_data"
    }
   ],
   "source": [
    "def P7():\n",
    "    \"\"\" \n",
    "    7th Problem. Introduce TdifVectorizer to the Pipeline\n",
    "    Args:\n",
    "        No arguments. All data is loaded in the global environment. C=100\n",
    "    Returns:\n",
    "        Report the 3 documents with the highest R ratio  \n",
    "    \"\"\" \n",
    "    # Train the classifier\n",
    "    classes = ['alt.atheism', 'comp.graphics', 'sci.space', 'talk.religion.misc']\n",
    "    log_reg_clf_final = Pipeline([\n",
    "        ('vect', CountVectorizer(preprocessor=better_preprocessor)),\n",
    "        ('tdif',TfidfTransformer()),\n",
    "        ('clf', LogisticRegression(penalty='l2', C=100, n_jobs=-1)),\n",
    "    ])\n",
    "    log_reg_clf_final.fit(train_data, train_labels)\n",
    "    y_dev_pre_final = log_reg_clf_final.predict(dev_data)\n",
    "    prob = log_reg_clf_final.predict_proba(dev_data)\n",
    "    correct_label_prob = np.zeros(676)\n",
    "    for i in range(dev_labels.shape[0]):\n",
    "        correct_label_prob[i] = prob[i,dev_labels[i]]\n",
    "    R = np.max(prob, axis=1)/correct_label_prob\n",
    "    max_R_index = R.argsort()[-3:]\n",
    "    printmd(\"**Documents with largest R ratio**\")\n",
    "    j = 1\n",
    "    for i in max_R_index:\n",
    "        printmd('**-**'*100+'\\n')\n",
    "        printmd('**Value or R is %.2f**'%R[i])\n",
    "        printmd('**Label of development example %d and label predicted**'%(j))\n",
    "        target_name = classes [y_dev_pre_final[i]]\n",
    "        printmd('*%s - %s*'%(newsgroups_test.target_names[dev_labels[i]],target_name)+'\\n')\n",
    "        printmd('**Text of the message in training example %d**'%(j))\n",
    "        print(\"\\n\".join(dev_data[i].split(\"\\n\")))\n",
    "        printmd('**-**'*100+'\\n')\n",
    "        j += 1\n",
    "        \n",
    "    # Plot the length of each message vs. R\n",
    "    len_s = [len(s) for s in dev_data]\n",
    "    fig, ax = plt.subplots(figsize=(16,4))\n",
    "    ax.scatter(R, len_s, marker='o')\n",
    "    ax.set_title('Length of message vs. R in the Development Set')\n",
    "    ax.set_xlabel('R')\n",
    "    ax.set_ylabel('Length of Message')\n",
    "    plt.show()\n",
    "    \n",
    "P7()"
   ]
  },
  {
   "cell_type": "markdown",
   "metadata": {},
   "source": [
    "### Answer:\n",
    "\n",
    "For these three messages we can infer why the classifier had problems: for the first and last, the message encoded was describing how to get a certain book online, with a quite specific description on how to download it, formats, etc. These words match with the vocabulary of the label predicted more than the actual label, thus the problem. For the second message, it appears it's quite short and there is something that's confusing the classifier. \n",
    "\n",
    "Occurrence count is a good start but there is an issue: longer documents will have higher average count values than shorter documents, even though they might talk about the same topics. To avoid these potential discrepancies it suffices to divide the number of occurrences of each word in a document by the total number of words in the document: these new features are called tf for Term Frequencies"
   ]
  },
  {
   "cell_type": "markdown",
   "metadata": {},
   "source": [
    "## (8) EXTRA CREDIT\n",
    "\n",
    "Try implementing one of your ideas based on your error analysis. Use logistic regression as your underlying model."
   ]
  },
  {
   "cell_type": "code",
   "execution_count": 136,
   "metadata": {},
   "outputs": [
    {
     "data": {
      "text/markdown": [
       "### Part a - Improvement in Accuracy"
      ],
      "text/plain": [
       "<IPython.core.display.Markdown object>"
      ]
     },
     "metadata": {},
     "output_type": "display_data"
    },
    {
     "data": {
      "text/markdown": [
       "New accuracy of this model is 0.740"
      ],
      "text/plain": [
       "<IPython.core.display.Markdown object>"
      ]
     },
     "metadata": {},
     "output_type": "display_data"
    },
    {
     "data": {
      "text/markdown": [
       "### Part b - Examples of misslabeling"
      ],
      "text/plain": [
       "<IPython.core.display.Markdown object>"
      ]
     },
     "metadata": {},
     "output_type": "display_data"
    },
    {
     "data": {
      "text/markdown": [
       "**Documents with largest R ratio in new model**"
      ],
      "text/plain": [
       "<IPython.core.display.Markdown object>"
      ]
     },
     "metadata": {},
     "output_type": "display_data"
    },
    {
     "data": {
      "text/markdown": [
       "**-****-****-****-****-****-****-****-****-****-****-****-****-****-****-****-****-****-****-****-****-****-****-****-****-****-****-****-****-****-****-****-****-****-****-****-****-****-****-****-****-****-****-****-****-****-****-****-****-****-****-****-****-****-****-****-****-****-****-****-****-****-****-****-****-****-****-****-****-****-****-****-****-****-****-****-****-****-****-****-****-****-****-****-****-****-****-****-****-****-****-****-****-****-****-****-****-****-****-****-**\n"
      ],
      "text/plain": [
       "<IPython.core.display.Markdown object>"
      ]
     },
     "metadata": {},
     "output_type": "display_data"
    },
    {
     "data": {
      "text/markdown": [
       "**Value or R is 520.37**"
      ],
      "text/plain": [
       "<IPython.core.display.Markdown object>"
      ]
     },
     "metadata": {},
     "output_type": "display_data"
    },
    {
     "data": {
      "text/markdown": [
       "**Label of development example 1 and label predicted**"
      ],
      "text/plain": [
       "<IPython.core.display.Markdown object>"
      ]
     },
     "metadata": {},
     "output_type": "display_data"
    },
    {
     "data": {
      "text/markdown": [
       "*alt.atheism - comp.graphics*\n"
      ],
      "text/plain": [
       "<IPython.core.display.Markdown object>"
      ]
     },
     "metadata": {},
     "output_type": "display_data"
    },
    {
     "data": {
      "text/markdown": [
       "**Text of the message in training example 1**"
      ],
      "text/plain": [
       "<IPython.core.display.Markdown object>"
      ]
     },
     "metadata": {},
     "output_type": "display_data"
    },
    {
     "name": "stdout",
     "output_type": "stream",
     "text": [
      "\n",
      "The CLIPPER initiative is an announcement by Clinton that all the \n",
      "\"secure\" voice phones will use the same crypto chip, as a de-facto\n",
      "government standard.  Problem is, the government is admitting that\n",
      "they hold the keys to break the code easily, and the Justice department\n",
      "will be using the keys to listen in on \"illegal activities.\"  Many\n",
      "people are really scared about such an initiative because it is\n",
      "a major step towards outlawing real crypto protection on things\n",
      "like email if you read the press release.  The project was developed\n",
      "by NSA and given to NIST.  It uses two keys S1 and S2 that the\n",
      "government claims are needed to break the code.  They claim that\n",
      "these keys will be handed to two different companies, and when they\n",
      "get a warrant to do a wiretap (the chip is nicknamed the wiretap chip),\n",
      "they have to get the keys from both companies.  People have poked holes\n",
      "through and through the press release official version and shown how\n",
      "it is nowhere near as nice as it sounds, and I have given the simplified\n",
      "version.  People over on sci.crypt are really scared about this\n",
      "proposal it seems.\n"
     ]
    },
    {
     "data": {
      "text/markdown": [
       "**-****-****-****-****-****-****-****-****-****-****-****-****-****-****-****-****-****-****-****-****-****-****-****-****-****-****-****-****-****-****-****-****-****-****-****-****-****-****-****-****-****-****-****-****-****-****-****-****-****-****-****-****-****-****-****-****-****-****-****-****-****-****-****-****-****-****-****-****-****-****-****-****-****-****-****-****-****-****-****-****-****-****-****-****-****-****-****-****-****-****-****-****-****-****-****-****-****-****-****-**\n"
      ],
      "text/plain": [
       "<IPython.core.display.Markdown object>"
      ]
     },
     "metadata": {},
     "output_type": "display_data"
    },
    {
     "data": {
      "text/markdown": [
       "**-****-****-****-****-****-****-****-****-****-****-****-****-****-****-****-****-****-****-****-****-****-****-****-****-****-****-****-****-****-****-****-****-****-****-****-****-****-****-****-****-****-****-****-****-****-****-****-****-****-****-****-****-****-****-****-****-****-****-****-****-****-****-****-****-****-****-****-****-****-****-****-****-****-****-****-****-****-****-****-****-****-****-****-****-****-****-****-****-****-****-****-****-****-****-****-****-****-****-****-**\n"
      ],
      "text/plain": [
       "<IPython.core.display.Markdown object>"
      ]
     },
     "metadata": {},
     "output_type": "display_data"
    },
    {
     "data": {
      "text/markdown": [
       "**Value or R is 783.16**"
      ],
      "text/plain": [
       "<IPython.core.display.Markdown object>"
      ]
     },
     "metadata": {},
     "output_type": "display_data"
    },
    {
     "data": {
      "text/markdown": [
       "**Label of development example 2 and label predicted**"
      ],
      "text/plain": [
       "<IPython.core.display.Markdown object>"
      ]
     },
     "metadata": {},
     "output_type": "display_data"
    },
    {
     "data": {
      "text/markdown": [
       "*talk.religion.misc - comp.graphics*\n"
      ],
      "text/plain": [
       "<IPython.core.display.Markdown object>"
      ]
     },
     "metadata": {},
     "output_type": "display_data"
    },
    {
     "data": {
      "text/markdown": [
       "**Text of the message in training example 2**"
      ],
      "text/plain": [
       "<IPython.core.display.Markdown object>"
      ]
     },
     "metadata": {},
     "output_type": "display_data"
    },
    {
     "name": "stdout",
     "output_type": "stream",
     "text": [
      "I am pleased to announce that a *revised version* of _The Easy-to-Read Book\n",
      "of Mormon_ (former title: _Mormon's Book_) by Lynn Matthews Anderson is now\n",
      "available through anonymous ftp (see information below). In addition to the\n",
      "change in title, the revised ETR BOM has been shortened by several pages\n",
      "(eliminating many extraneous \"that's\" and \"of's\"), and many (minor) errors\n",
      "have been corrected. This release includes a simplified Joseph Smith Story,\n",
      "testimonies of the three and eight witnesses, and a \"Words-to-Know\"\n",
      "glossary.\n",
      "\n",
      "As with the previous announcement, readers are reminded that this is a\n",
      "not-for-profit endeavor. This is a copyrighted work, but people are welcome\n",
      "to make *verbatim* copies for personal use. People can recuperate the\n",
      "actual costs of printing (paper, copy center charges), but may not charge\n",
      "anything for their time in making copies, or in any way realize a profit\n",
      "from the use of this book. See the permissions notice in the book itself\n",
      "for the precise terms.\n",
      "\n",
      "Negotiations are currently underway with a Mormon publisher vis-a-vis the\n",
      "printing and distribution of bound books. (Sorry, I'm out of the wire-bound\n",
      "\"first editions.\") I will make another announcement about the availability\n",
      "of printed copies once everything has been worked out.\n",
      "\n",
      "FTP information: connect via anonymous ftp to carnot.itc.cmu.edu, then \"cd\n",
      "pub\" (you won't see anything at all until you do).\n",
      "\n",
      "\"The Easy-to-Read Book of Mormon\" is currently available in postscript and\n",
      "RTF (rich text format). (ASCII, LaTeX, and other versions can be made\n",
      "available; contact dba@andrew.cmu.edu for details.) You should be able to\n",
      "print the postscript file on any postscript printer (such as an Apple\n",
      "Laserwriter); let dba know if you have any difficulties. (The postscript in\n",
      "the last release had problems on some printers; this time it should work\n",
      "better.) RTF is a standard document interchange format that can be read in\n",
      "by a number of word processors, including Microsoft Word for both the\n",
      "Macintosh and Windows. If you don't have a postscript printer, you may be\n",
      "able to use the RTF file to print out a copy of the book.\n",
      "\n",
      "-r--r--r--  1 dba                   1984742 Apr 27 13:12 etrbom.ps\n",
      "-r--r--r--  1 dba                   1209071 Apr 27 13:13 etrbom.rtf\n",
      "\n",
      "For more information about how this project came about, please refer to my\n",
      "article in the current issue of _Sunstone_, entitled \"Delighting in\n",
      "Plainness: Issues Surrounding a Simple Modern English Book of Mormon.\"\n",
      "\n",
      "Send all inquiries and comments to:\n",
      "\n",
      "    Lynn Matthews Anderson\n",
      "    5806 Hampton Street\n",
      "    Pittsburgh, PA 15206\n"
     ]
    },
    {
     "data": {
      "text/markdown": [
       "**-****-****-****-****-****-****-****-****-****-****-****-****-****-****-****-****-****-****-****-****-****-****-****-****-****-****-****-****-****-****-****-****-****-****-****-****-****-****-****-****-****-****-****-****-****-****-****-****-****-****-****-****-****-****-****-****-****-****-****-****-****-****-****-****-****-****-****-****-****-****-****-****-****-****-****-****-****-****-****-****-****-****-****-****-****-****-****-****-****-****-****-****-****-****-****-****-****-****-****-**\n"
      ],
      "text/plain": [
       "<IPython.core.display.Markdown object>"
      ]
     },
     "metadata": {},
     "output_type": "display_data"
    },
    {
     "data": {
      "text/markdown": [
       "**-****-****-****-****-****-****-****-****-****-****-****-****-****-****-****-****-****-****-****-****-****-****-****-****-****-****-****-****-****-****-****-****-****-****-****-****-****-****-****-****-****-****-****-****-****-****-****-****-****-****-****-****-****-****-****-****-****-****-****-****-****-****-****-****-****-****-****-****-****-****-****-****-****-****-****-****-****-****-****-****-****-****-****-****-****-****-****-****-****-****-****-****-****-****-****-****-****-****-****-**\n"
      ],
      "text/plain": [
       "<IPython.core.display.Markdown object>"
      ]
     },
     "metadata": {},
     "output_type": "display_data"
    },
    {
     "data": {
      "text/markdown": [
       "**Value or R is 1135.22**"
      ],
      "text/plain": [
       "<IPython.core.display.Markdown object>"
      ]
     },
     "metadata": {},
     "output_type": "display_data"
    },
    {
     "data": {
      "text/markdown": [
       "**Label of development example 3 and label predicted**"
      ],
      "text/plain": [
       "<IPython.core.display.Markdown object>"
      ]
     },
     "metadata": {},
     "output_type": "display_data"
    },
    {
     "data": {
      "text/markdown": [
       "*alt.atheism - talk.religion.misc*\n"
      ],
      "text/plain": [
       "<IPython.core.display.Markdown object>"
      ]
     },
     "metadata": {},
     "output_type": "display_data"
    },
    {
     "data": {
      "text/markdown": [
       "**Text of the message in training example 3**"
      ],
      "text/plain": [
       "<IPython.core.display.Markdown object>"
      ]
     },
     "metadata": {},
     "output_type": "display_data"
    },
    {
     "name": "stdout",
     "output_type": "stream",
     "text": [
      "\n",
      "The 24 children were, of course, killed by a lone gunman in a second story\n",
      "window, who fired eight bullets in the space of two seconds...\n",
      "\n"
     ]
    },
    {
     "data": {
      "text/markdown": [
       "**-****-****-****-****-****-****-****-****-****-****-****-****-****-****-****-****-****-****-****-****-****-****-****-****-****-****-****-****-****-****-****-****-****-****-****-****-****-****-****-****-****-****-****-****-****-****-****-****-****-****-****-****-****-****-****-****-****-****-****-****-****-****-****-****-****-****-****-****-****-****-****-****-****-****-****-****-****-****-****-****-****-****-****-****-****-****-****-****-****-****-****-****-****-****-****-****-****-****-****-**\n"
      ],
      "text/plain": [
       "<IPython.core.display.Markdown object>"
      ]
     },
     "metadata": {},
     "output_type": "display_data"
    }
   ],
   "source": [
    "def P8():\n",
    "    \"\"\" \n",
    "    8th Problem. Improve the accuracy of logistic regression\n",
    "    Args:\n",
    "        All data is loaded in the global environment. From P6, I'll use C=20\n",
    "    Returns:\n",
    "        Prints in console accuracy of improvement\n",
    "    \"\"\"  \n",
    "    # Selection of features using L1 Regularization and TDIf\n",
    "    classes = ['alt.atheism', 'comp.graphics', 'sci.space', 'talk.religion.misc']\n",
    "    log_reg_clf_l1 = Pipeline([\n",
    "        ('vect', CountVectorizer(preprocessor=better_preprocessor, min_df=2, max_df=0.12, stop_words='english')),\n",
    "        ('tdif', TfidfTransformer(norm='l1')),\n",
    "        ('clf', LogisticRegression(penalty='l1', C=20, n_jobs=-1, tol=0.001)),\n",
    "    ])\n",
    "    log_reg_clf_l1.fit(train_data, train_labels)\n",
    "    log_reg_clf_l1_coef = np.sum(log_reg_clf_l1.named_steps['clf'].coef_,axis=0).nonzero()\n",
    "    log_reg_clf_l1_vocab = log_reg_clf_l1.named_steps['vect'].get_feature_names()\n",
    "    l1_features = np.array(log_reg_clf_l1_vocab)[log_reg_clf_l1_coef]\n",
    "    \n",
    "    # Train using L2 and vocabulary\n",
    "    log_reg_clf_l2 = Pipeline([\n",
    "        ('vect', CountVectorizer(preprocessor=better_preprocessor, vocabulary=l1_features,\\\n",
    "                                 min_df=2, max_df=0.2, stop_words='english')),\n",
    "        ('tdif', TfidfTransformer()),\n",
    "        ('clf', LogisticRegression(penalty='l2', C=20, n_jobs=-1, tol=0.001)),\n",
    "    ])\n",
    "    log_reg_clf_l2.fit(train_data, train_labels)\n",
    "    y_dev_pre = log_reg_clf_l2.predict(dev_data)\n",
    "    printmd('### Part a - Improvement in Accuracy')\n",
    "    printmd('New accuracy of this model is %.03f'%metrics.accuracy_score(dev_labels, y_dev_pre))\n",
    "    prob = log_reg_clf_l2.predict_proba(dev_data)\n",
    "    correct_label_prob = np.zeros(676)\n",
    "    for i in range(dev_labels.shape[0]):\n",
    "        correct_label_prob[i] = prob[i,dev_labels[i]]\n",
    "    R = np.max(prob, axis=1)/correct_label_prob\n",
    "    max_R_index = R.argsort()[-3:]\n",
    "    printmd('### Part b - Examples of misslabeling')\n",
    "    printmd(\"**Documents with largest R ratio in new model**\")\n",
    "    j = 1\n",
    "    for i in max_R_index:\n",
    "        printmd('**-**'*100+'\\n')\n",
    "        printmd('**Value or R is %.2f**'%R[i])\n",
    "        printmd('**Label of development example %d and label predicted**'%(j))\n",
    "        target_name = classes [y_dev_pre[i]]\n",
    "        printmd('*%s - %s*'%(newsgroups_test.target_names[dev_labels[i]],target_name)+'\\n')\n",
    "        printmd('**Text of the message in training example %d**'%(j))\n",
    "        print(\"\\n\".join(dev_data[i].split(\"\\n\")))\n",
    "        printmd('**-**'*100+'\\n')\n",
    "        j += 1\n",
    "        \n",
    "P8()"
   ]
  },
  {
   "cell_type": "markdown",
   "metadata": {},
   "source": [
    "### Answer:\n",
    "\n",
    "With an ensemble tactic we are able to improve our accuracy by 4%, all next work should be focus on preprocessing the data and creating dictionaries for each label, to improve the vocabularies (done here using L1 regularization)\n",
    "\n",
    "Also, although we have two similar occurrances of mislabel as before, all three mislabels can be attributed to the similarity of the languages and the vocabularies of the training. With more data, we can improve our performance by improving the corpus of each label"
   ]
  },
  {
   "cell_type": "code",
   "execution_count": null,
   "metadata": {
    "collapsed": true
   },
   "outputs": [],
   "source": []
  }
 ],
 "metadata": {
  "kernelspec": {
   "display_name": "Python 3",
   "language": "python",
   "name": "python3"
  },
  "language_info": {
   "codemirror_mode": {
    "name": "ipython",
    "version": 3
   },
   "file_extension": ".py",
   "mimetype": "text/x-python",
   "name": "python",
   "nbconvert_exporter": "python",
   "pygments_lexer": "ipython3",
   "version": "3.7.0"
  }
 },
 "nbformat": 4,
 "nbformat_minor": 1
}
