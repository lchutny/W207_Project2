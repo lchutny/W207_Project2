{
 "cells": [
  {
   "cell_type": "markdown",
   "metadata": {},
   "source": [
    "# Project 2: Topic Classification"
   ]
  },
  {
   "cell_type": "markdown",
   "metadata": {},
   "source": [
    "In this project, you'll work with text data from newsgroup postings on a variety of topics. You'll train classifiers to distinguish between the topics based on the text of the posts. Whereas with digit classification, the input is relatively dense: a 28x28 matrix of pixels, many of which are non-zero, here we'll represent each document with a \"bag-of-words\" model. As you'll see, this makes the feature representation quite sparse -- only a few words of the total vocabulary are active in any given document. The bag-of-words assumption here is that the label depends only on the words; their order is not important.\n",
    "\n",
    "The SK-learn documentation on feature extraction will prove useful:\n",
    "http://scikit-learn.org/stable/modules/feature_extraction.html\n",
    "\n",
    "Each problem can be addressed succinctly with the included packages -- please don't add any more. Grading will be based on writing clean, commented code, along with a few short answers.\n",
    "\n",
    "As always, you're welcome to work on the project in groups and discuss ideas on the course wall, but please prepare your own write-up and write your own code."
   ]
  },
  {
   "cell_type": "code",
   "execution_count": 1,
   "metadata": {},
   "outputs": [],
   "source": [
    "# This tells matplotlib not to try opening a new window for each plot.\n",
    "%matplotlib inline\n",
    "\n",
    "# General libraries.\n",
    "import re\n",
    "import numpy as np\n",
    "import matplotlib.pyplot as plt\n",
    "\n",
    "# SK-learn libraries for learning.\n",
    "from sklearn.pipeline import Pipeline\n",
    "from sklearn.neighbors import KNeighborsClassifier\n",
    "from sklearn.linear_model import LogisticRegression\n",
    "from sklearn.naive_bayes import BernoulliNB\n",
    "from sklearn.naive_bayes import MultinomialNB\n",
    "from sklearn.model_selection import GridSearchCV\n",
    "\n",
    "# SK-learn libraries for evaluation.\n",
    "from sklearn.metrics import confusion_matrix\n",
    "from sklearn import metrics\n",
    "from sklearn.metrics import classification_report\n",
    "\n",
    "# SK-learn library for importing the newsgroup data.\n",
    "from sklearn.datasets import fetch_20newsgroups\n",
    "\n",
    "# SK-learn libraries for feature extraction from text.\n",
    "from sklearn.feature_extraction.text import *"
   ]
  },
  {
   "cell_type": "markdown",
   "metadata": {},
   "source": [
    "Load the data, stripping out metadata so that we learn classifiers that only use textual features. By default, newsgroups data is split into train and test sets. We further split the test so we have a dev set. Note that we specify 4 categories to use for this project. If you remove the categories argument from the fetch function, you'll get all 20 categories."
   ]
  },
  {
   "cell_type": "code",
   "execution_count": 2,
   "metadata": {
    "scrolled": true
   },
   "outputs": [
    {
     "name": "stdout",
     "output_type": "stream",
     "text": [
      "training label shape: (2034,)\n",
      "test label shape: (677,)\n",
      "dev label shape: (676,)\n",
      "labels names: ['alt.atheism', 'comp.graphics', 'sci.space', 'talk.religion.misc']\n"
     ]
    }
   ],
   "source": [
    "categories = ['alt.atheism', 'talk.religion.misc', 'comp.graphics', 'sci.space']\n",
    "newsgroups_train = fetch_20newsgroups(subset='train',\n",
    "                                      remove=('headers', 'footers', 'quotes'),\n",
    "                                      categories=categories)\n",
    "newsgroups_test = fetch_20newsgroups(subset='test',\n",
    "                                     remove=('headers', 'footers', 'quotes'),\n",
    "                                     categories=categories)\n",
    "\n",
    "num_test = len(newsgroups_test.target)\n",
    "test_data, test_labels = newsgroups_test.data[int(num_test/2):], newsgroups_test.target[int(num_test/2):]\n",
    "dev_data, dev_labels = newsgroups_test.data[:int(num_test/2)], newsgroups_test.target[:int(num_test/2)]\n",
    "train_data, train_labels = newsgroups_train.data, newsgroups_train.target\n",
    "\n",
    "print('training label shape:', train_labels.shape)\n",
    "print('test label shape:', test_labels.shape)\n",
    "print('dev label shape:', dev_labels.shape)\n",
    "\n",
    "print('labels names:', newsgroups_train.target_names)"
   ]
  },
  {
   "cell_type": "markdown",
   "metadata": {},
   "source": [
    "**(1)**  \n",
    "For each of the first 5 training examples, print the text of the message along with the label.\n",
    "\n",
    "[2 pts]"
   ]
  },
  {
   "cell_type": "code",
   "execution_count": 3,
   "metadata": {},
   "outputs": [
    {
     "name": "stdout",
     "output_type": "stream",
     "text": [
      "\n",
      "\u001b[1m**\n",
      " Message Number 1 which has label 1: comp.graphics\n",
      "**\u001b[0m\n",
      "\n",
      "Hi,\n",
      "\n",
      "I've noticed that if you only save a model (with all your mapping planes\n",
      "positioned carefully) to a .3DS file that when you reload it after restarting\n",
      "3DS, they are given a default position and orientation.  But if you save\n",
      "to a .PRJ file their positions/orientation are preserved.  Does anyone\n",
      "know why this information is not stored in the .3DS file?  Nothing is\n",
      "explicitly said in the manual about saving texture rules in the .PRJ file. \n",
      "I'd like to be able to read the texture rule information, does anyone have \n",
      "the format for the .PRJ file?\n",
      "\n",
      "Is the .CEL file format available from somewhere?\n",
      "\n",
      "Rych\n",
      "\n",
      "\u001b[1m**\n",
      " Message Number 2 which has label 3: talk.religion.misc\n",
      "**\u001b[0m\n",
      "\n",
      "\n",
      "\n",
      "Seems to be, barring evidence to the contrary, that Koresh was simply\n",
      "another deranged fanatic who thought it neccessary to take a whole bunch of\n",
      "folks with him, children and all, to satisfy his delusional mania. Jim\n",
      "Jones, circa 1993.\n",
      "\n",
      "\n",
      "Nope - fruitcakes like Koresh have been demonstrating such evil corruption\n",
      "for centuries.\n",
      "\n",
      "\u001b[1m**\n",
      " Message Number 3 which has label 2: sci.space\n",
      "**\u001b[0m\n",
      "\n",
      "\n",
      " >In article <1993Apr19.020359.26996@sq.sq.com>, msb@sq.sq.com (Mark Brader) \n",
      "\n",
      "MB>                                                             So the\n",
      "MB> 1970 figure seems unlikely to actually be anything but a perijove.\n",
      "\n",
      "JG>Sorry, _perijoves_...I'm not used to talking this language.\n",
      "\n",
      "Couldn't we just say periapsis or apoapsis?\n",
      "\n",
      " \n",
      "\n",
      "\u001b[1m**\n",
      " Message Number 4 which has label 0: alt.atheism\n",
      "**\u001b[0m\n",
      "\n",
      "I have a request for those who would like to see Charley Wingate\n",
      "respond to the \"Charley Challenges\" (and judging from my e-mail, there\n",
      "appear to be quite a few of you.)  \n",
      "\n",
      "It is clear that Mr. Wingate intends to continue to post tangential or\n",
      "unrelated articles while ingoring the Challenges themselves.  Between\n",
      "the last two re-postings of the Challenges, I noted perhaps a dozen or\n",
      "more posts by Mr. Wingate, none of which answered a single Challenge.  \n",
      "\n",
      "It seems unmistakable to me that Mr. Wingate hopes that the questions\n",
      "will just go away, and he is doing his level best to change the\n",
      "subject.  Given that this seems a rather common net.theist tactic, I\n",
      "would like to suggest that we impress upon him our desire for answers,\n",
      "in the following manner:\n",
      "\n",
      "1. Ignore any future articles by Mr. Wingate that do not address the\n",
      "Challenges, until he answers them or explictly announces that he\n",
      "refuses to do so.\n",
      "\n",
      "--or--\n",
      "\n",
      "2. If you must respond to one of his articles, include within it\n",
      "something similar to the following:\n",
      "\n",
      "    \"Please answer the questions posed to you in the Charley Challenges.\"\n",
      "\n",
      "Really, I'm not looking to humiliate anyone here, I just want some\n",
      "honest answers.  You wouldn't think that honesty would be too much to\n",
      "ask from a devout Christian, would you?  \n",
      "\n",
      "Nevermind, that was a rhetorical question.\n",
      "\n",
      "\u001b[1m**\n",
      " Message Number 5 which has label 2: sci.space\n",
      "**\u001b[0m\n",
      "\n",
      "AW&ST  had a brief blurb on a Manned Lunar Exploration confernce\n",
      "May 7th  at Crystal City Virginia, under the auspices of AIAA.\n",
      "\n",
      "Does anyone know more about this?  How much, to attend????\n",
      "\n",
      "Anyone want to go?\n"
     ]
    }
   ],
   "source": [
    "def P1(num_examples=5):\n",
    "### STUDENT START ###\n",
    "    for msg in range(0, num_examples):\n",
    "        label = train_labels[msg]\n",
    "        label_text = newsgroups_train.target_names[label]\n",
    "        print(f\"\\n\\u001b[1m**\\n Message Number {msg+1} which has label {label}: {label_text}\\n**\\u001b[0m\\n\")\n",
    "        print(train_data[msg])\n",
    "\n",
    "### STUDENT END ###\n",
    "P1(5)"
   ]
  },
  {
   "cell_type": "markdown",
   "metadata": {},
   "source": [
    "**(2)**  \n",
    "Use CountVectorizer to turn the raw training text into feature vectors. You should use the fit_transform function, which makes 2 passes through the data: first it computes the vocabulary (\"fit\"), second it converts the raw text into feature vectors using the vocabulary (\"transform\").\n",
    "\n",
    "The vectorizer has a lot of options. To get familiar with some of them, write code to answer these questions:\n",
    "\n",
    "**a.** The output of the transform (also of fit_transform) is a sparse matrix: http://docs.scipy.org/doc/scipy-0.14.0/reference/generated/scipy.sparse.csr_matrix.html. What is the size of the vocabulary? What is the average number of non-zero features per example? What fraction of the entries in the matrix are non-zero? Hint: use \"nnz\" and \"shape\" attributes.\n",
    "\n",
    "**b.** What are the 0th and last feature strings (in alphabetical order)? Hint: use the vectorizer's get_feature_names function.\n",
    "\n",
    "**c.** Specify your own vocabulary with 4 words: [\"atheism\", \"graphics\", \"space\", \"religion\"]. Confirm the training vectors are appropriately shaped. Now what's the average number of non-zero features per example?\n",
    "\n",
    "**d.** Instead of extracting unigram word features, use \"analyzer\" and \"ngram_range\" to extract bigram and trigram character features. What size vocabulary does this yield?\n",
    "\n",
    "**e.** Use the \"min_df\" argument to prune words that appear in fewer than 10 documents. What size vocabulary does this yield?\n",
    "\n",
    "**f.** Using the standard CountVectorizer, what fraction of the words in the dev data are missing from the vocabulary? Hint: build a vocabulary for both train and dev and look at the size of the difference.\n",
    "\n",
    "[6 pts]"
   ]
  },
  {
   "cell_type": "code",
   "execution_count": 4,
   "metadata": {},
   "outputs": [
    {
     "name": "stdout",
     "output_type": "stream",
     "text": [
      "\u001b[1m(a)\u001b[0m\n",
      "Size of Vocabulary =  26879\n",
      "Average Non-zero features (i.e. unique words) per example: 96.706\n",
      "Fraction Non Zero entries in Training Matrix (density) = 0.003598 - a very sparse matrix\n",
      "\n",
      "\u001b[1m(b)\u001b[0m\n",
      "First (0th) and Last Feature strings, sorted alphabetically:  ['00', 'zyxel']\n",
      "\n",
      "\u001b[1m(c)\u001b[0m\n",
      "Original vector matrix shape: (2034, 26879)\n",
      "Specified Vocabulary [\"atheism\", \"graphics\", \"space\", \"religion\"] vector matrix shape: (2034, 4)\n",
      "New Training Vectors Shape Confirmed correct, with 4 features and 2034 examples\n",
      "Average Non-zero features per example with new 4 word vocabulary: 0.26844\n",
      "This means that on average, every message has approximately one of the 4 word vocabulary words\n",
      "Vectorized fraction non zero with new Vocabulary = 0.06711 - a factor of 18.7 more dense than previous\n",
      "\n",
      "\u001b[1m(d)\u001b[0m\n",
      "Considering only 2 and 3 word n-grams, the vocabulary size is now 510583 words.\n",
      "New Vocabulary is 19.0 times larger than original.\n",
      "Average Non-zero features per example for bi- and tri- grams is 342.02\n",
      "\n",
      "\u001b[1m(e)\u001b[0m\n",
      "Considering only words that occur in at least 10 documents, the vocabulary size becomes 3064 words.\n",
      "New Vocabulary is 0.114 fraction of original vocabulary size.\n",
      "Average Non-zero features per example when words must appear in at least 10 documents is 72.676\n",
      "\n",
      "\u001b[1m(f)\u001b[0m\n",
      "Using the Standard CountVectorizer, \n",
      "Training vocabulary has 26879 words\n",
      "Dev vocabulary has 16246 words\n",
      "4027 words are in dev that are not in training\n",
      "Words in dev that are not in train as fraction of dev data vocabulary size:  0.248\n",
      "This is a quarter of the words in the dev set, which may result in an increased amount of misidentifications later\n"
     ]
    }
   ],
   "source": [
    "def P2():\n",
    "### STUDENT START ###\n",
    "    '''This function answers problem 2, doing some basic manipulation and EDA on the messages using CountVectorizer.\n",
    "    Each message is an \"example\", or \"row\" in the vectorized sparse matrix. \n",
    "    Each word is a \"feature\" or \"column\" in the vectorized sparse matrix.\n",
    "    Entries in the array represent the frequency for a given word in the given example.\n",
    "    '''\n",
    "    # (a)\n",
    "    # Instantiate, fit and transform the messages to vectors, creating the vocabulary (feature list) along the way\n",
    "    vectorizer = CountVectorizer()\n",
    "    vectors = vectorizer.fit_transform(train_data)\n",
    "    vocab = vectorizer.vocabulary_  # Obtain the vocabulary\n",
    "    \n",
    "    # num_features is the number of unique words >= 2 letters (could also be done with .get_feature_names)\n",
    "    num_features = len(vocab)\n",
    "    print(\"\\u001b[1m(a)\\u001b[0m\\nSize of Vocabulary = \",num_features)\n",
    "    \n",
    "    # sum across rows and take the average to find average number of words in each message\n",
    "    avg_per_example = np.mean(vectors.getnnz(1))\n",
    "    print(f\"Average Non-zero features (i.e. unique words) per example: {avg_per_example:.5}\")\n",
    "    \n",
    "    # Calculate matrix size, and use the number of non-zero entries in the sparse matrix to find the fraction of non zero entries.\n",
    "    total_entries = vectors.get_shape()[0]*vectors.get_shape()[1]\n",
    "    density1 = vectors.nnz/total_entries\n",
    "    print(f\"Fraction Non Zero entries in Training Matrix (density) = {density1:.4} - a very sparse matrix\")\n",
    "    \n",
    "    # (b)\n",
    "    # Select first and last feature names and print alphabetically\n",
    "    first_last = [vectorizer.get_feature_names()[0],vectorizer.get_feature_names()[-1]]\n",
    "    print(\"\\n\\u001b[1m(b)\\u001b[0m\\nFirst (0th) and Last Feature strings, sorted alphabetically: \",sorted(first_last))\n",
    "    \n",
    "    # (c)\n",
    "    # fit and transform the data using a specified vocabulary of only 4 words - in order to count the occurence of those words\n",
    "    vectorizer2 = CountVectorizer(vocabulary= [\"atheism\", \"graphics\", \"space\", \"religion\"]) # specify the vocabulary to be used\n",
    "    vectors2=vectorizer2.fit_transform(train_data)\n",
    "    \n",
    "    # print the shapes from the original fit_transform and current to ensure we got it right\n",
    "    print(\"\\n\\u001b[1m(c)\\u001b[0m\\nOriginal vector matrix shape:\", vectors.get_shape())\n",
    "    print('Specified Vocabulary [\"atheism\", \"graphics\", \"space\", \"religion\"] vector matrix shape:', vectors2.get_shape())\n",
    "    print(f\"New Training Vectors Shape Confirmed correct, \"\n",
    "          f\"with {vectors2.get_shape()[1]} features and {vectors2.get_shape()[0]} examples\")\n",
    "    \n",
    "    # Calculate the average non-zero words per example (same process as in (a))\n",
    "    avg_per_example2 = np.mean(vectors2.getnnz(1))\n",
    "    print(f\"Average Non-zero features per example with new 4 word vocabulary: {avg_per_example2:.5}\")\n",
    "    print(\"This means that on average, every message has approximately one of the 4 word vocabulary words\")\n",
    "    total_entries2 = vectors2.get_shape()[0]*vectors2.get_shape()[1]\n",
    "    density2 = vectors2.nnz / total_entries2\n",
    "    print(f\"Vectorized fraction non zero with new Vocabulary = {density2:.4} - \"\n",
    "          f\"a factor of {(density2/density1):.3} more dense than previous\")\n",
    "    \n",
    "    # (d)\n",
    "    # Re-specify the vectorizer to include only 2 and 3 word combinations, then determine new vocabulary size\n",
    "    vectorizer3 = CountVectorizer(ngram_range=(2,3),analyzer='word')\n",
    "    vectors3 = vectorizer3.fit_transform(train_data)\n",
    "    vocab3 = vectorizer3.vocabulary_\n",
    "    print(f\"\\n\\u001b[1m(d)\\u001b[0m\\nConsidering only 2 and 3 word n-grams, the vocabulary size is now {len(vocab3)} words.\")\n",
    "    print(f\"New Vocabulary is {len(vocab3)/len(vocab):.3} times larger than original.\")\n",
    "    print(f\"Average Non-zero features per example for bi- and tri- grams is {(np.mean(vectors3.getnnz(1))):.5}\")\n",
    "    \n",
    "    # (e)\n",
    "    # Specify vectorizer such that words must occur in at least 10 documents (minimum document frequency=10)\n",
    "    # Compare size of resulting vocabulary\n",
    "    vectorizer4 = CountVectorizer(min_df=10)\n",
    "    vectors4 = vectorizer4.fit_transform(train_data)\n",
    "    vocab4 = vectorizer4.vocabulary_\n",
    "    print(f\"\\n\\u001b[1m(e)\\u001b[0m\\nConsidering only words that occur in at least 10 documents,\"\n",
    "          f\" the vocabulary size becomes {len(vocab4)} words.\")\n",
    "    print(f\"New Vocabulary is {len(vocab4)/len(vocab):.3} fraction of original vocabulary size.\")\n",
    "    print(f\"Average Non-zero features per example when words must appear in \"\n",
    "          f\"at least 10 documents is {(np.mean(vectors4.getnnz(1))):.5}\")\n",
    "    \n",
    "    # (f)\n",
    "    # Determine what fraction of words in Dev Data are not in Train Data by looking at feature_name sizes\n",
    "    vectorizer_dev = CountVectorizer() # Using defaults for CountVectorizer\n",
    "    vectors_dev = vectorizer_dev.fit_transform(dev_data) # Fit and transform\n",
    "    \n",
    "    # Define the lists for each group of feature names for simplicity\n",
    "    dev_feats = vectorizer_dev.get_feature_names() \n",
    "    train_feats = vectorizer.get_feature_names()\n",
    "    \n",
    "    # Change feature name lists to sets to enable subtraction, which identifies words in dev that are not in train\n",
    "    words_in_dev_only = set(dev_feats)-set(train_feats)\n",
    "\n",
    "    # Print Results, calculating fraction of dev words not in the training vocabulary\n",
    "    print(f\"\\n\\u001b[1m(f)\\u001b[0m\\nUsing the Standard CountVectorizer, \\nTraining vocabulary has {len(train_feats)} words\")\n",
    "    print(f\"Dev vocabulary has {len(dev_feats)} words\")\n",
    "    print(f\"{len(words_in_dev_only)} words are in dev that are not in training\")\n",
    "    print(f\"Words in dev that are not in train as fraction of dev data vocabulary size: \"\n",
    "          f\" {(len(words_in_dev_only)/len(dev_feats)):.3}\\n\"\n",
    "          f\"This is a quarter of the words in the dev set, which may result in an increased amount of misidentifications later\")\n",
    "    \n",
    "    \n",
    "### STUDENT END ###\n",
    "P2()"
   ]
  },
  {
   "cell_type": "code",
   "execution_count": 16,
   "metadata": {},
   "outputs": [
    {
     "data": {
      "text/plain": [
       "(array([480.,   0.,   0., 584.,   0.,   0., 593.,   0.,   0., 377.]),\n",
       " array([0. , 0.3, 0.6, 0.9, 1.2, 1.5, 1.8, 2.1, 2.4, 2.7, 3. ]),\n",
       " <a list of 10 Patch objects>)"
      ]
     },
     "execution_count": 16,
     "metadata": {},
     "output_type": "execute_result"
    },
    {
     "data": {
      "image/png": "[encoded data removed]",
      "text/plain": [
       "<Figure size 432x288 with 1 Axes>"
      ]
     },
     "metadata": {
      "needs_background": "light"
     },
     "output_type": "display_data"
    }
   ],
   "source": [
    "# Histogram to understand distribution of message labels\n",
    "plt.hist(train_labels)"
   ]
  },
  {
   "cell_type": "markdown",
   "metadata": {},
   "source": [
    "-----"
   ]
  },
  {
   "cell_type": "markdown",
   "metadata": {},
   "source": [
    "**(3)**  \n",
    "Use the default CountVectorizer options and report the f1 score (use metrics.f1_score) for a k nearest neighbors classifier; find the optimal value for k. Also fit a Multinomial Naive Bayes model and find the optimal value for alpha. Finally, fit a logistic regression model and find the optimal value for the regularization strength C using l2 regularization. A few questions:\n",
    "\n",
    "**a.** Why doesn't nearest neighbors work well for this problem?\n",
    "\n",
    "**b.** Any ideas why logistic regression doesn't work as well as Naive Bayes?\n",
    "\n",
    "**c.** Logistic regression estimates a weight vector for each class, which you can access with the coef\\_ attribute. Output the sum of the squared weight values for each class for each setting of the C parameter. Briefly explain the relationship between the sum and the value of C.\n",
    "\n",
    "[4 pts]"
   ]
  },
  {
   "cell_type": "code",
   "execution_count": 21,
   "metadata": {},
   "outputs": [
    {
     "name": "stdout",
     "output_type": "stream",
     "text": [
      "k= 1 f1 score 0.3831360946745562\n"
     ]
    }
   ],
   "source": [
    "#def P3():\n",
    "### STUDENT START ###\n",
    "\n",
    "\n",
    "def fit_score_knn(k,train_data,train_labels,dev_data,dev_labels):\n",
    "    '''Train kNN model on train_data, score fit against dev_data; use default kNN Euclidean distance (p=2)\n",
    "    return f1 Score\n",
    "    '''\n",
    "    model = KNeighborsClassifier(n_neighbors=k)\n",
    "    model.fit(train_data,train_labels)\n",
    "    pred_labels = model.predict(dev_data)\n",
    "    #print(\"micro\", metrics.f1_score(dev_labels,pred_labels,average='micro')) #global calc\n",
    "    # print(\"weighted\",metrics.f1_score(dev_labels,pred_labels,average='weighted'))\n",
    "    return metrics.f1_score(dev_labels,pred_labels,average='micro')\n",
    "\n",
    "def P3():\n",
    "    '''Comparison of classification models for identification of group that messages belong to\n",
    "    1) Create new_train_data using CountVectorizer defaults on the train_data set\n",
    "    2) Fit a kNN model, and optimize for k, reporting f1 score\n",
    "    3) Fit a Multinomial NB model and optimize for alpha\n",
    "    4) Fit a logistic regression model and find optimum regularization strength C using I2 regularization\n",
    "    '''\n",
    "    \n",
    "    # Vectorize train and dev messages. - USE FIT from TRAIN on DEV data to ensure using same vocabulary (# of features)\n",
    "    vectorizer = CountVectorizer()\n",
    "    new_train_data = vectorizer.fit_transform(train_data)\n",
    "    new_dev_data = vectorizer.transform(dev_data)\n",
    "    \n",
    "    # kNN\n",
    "    k=1\n",
    "    knn_score = fit_score_knn(k,new_train_data,train_labels,new_dev_data,dev_labels)\n",
    "    print(\"k=\",k,\"f1 score\",knn_score)\n",
    "### STUDENT END ###\n",
    "P3()"
   ]
  },
  {
   "cell_type": "markdown",
   "metadata": {},
   "source": [
    "ANSWER:"
   ]
  },
  {
   "cell_type": "markdown",
   "metadata": {},
   "source": [
    "(4) Train a logistic regression model. Find the 5 features with the largest weights for each label -- 20 features in total. Create a table with 20 rows and 4 columns that shows the weight for each of these features for each of the labels. Create the table again with bigram features. Any surprising features in this table?\n",
    "\n",
    "[5 pts]"
   ]
  },
  {
   "cell_type": "code",
   "execution_count": 6,
   "metadata": {},
   "outputs": [],
   "source": [
    "#def P4():\n",
    "### STUDENT START ###\n",
    "\n",
    "\n",
    "### STUDENT END ###\n",
    "#P4()"
   ]
  },
  {
   "cell_type": "markdown",
   "metadata": {},
   "source": [
    "ANSWER:"
   ]
  },
  {
   "cell_type": "markdown",
   "metadata": {},
   "source": [
    "(5) Try to improve the logistic regression classifier by passing a custom preprocessor to CountVectorizer. The preprocessing function runs on the raw text, before it is split into words by the tokenizer. Your preprocessor should try to normalize the input in various ways to improve generalization. For example, try lowercasing everything, replacing sequences of numbers with a single token, removing various other non-letter characters, and shortening long words. If you're not already familiar with regular expressions for manipulating strings, see https://docs.python.org/2/library/re.html, and re.sub() in particular. With your new preprocessor, how much did you reduce the size of the dictionary?\n",
    "\n",
    "For reference, I was able to improve dev F1 by 2 points.\n",
    "\n",
    "[4 pts]"
   ]
  },
  {
   "cell_type": "code",
   "execution_count": 7,
   "metadata": {},
   "outputs": [],
   "source": [
    "def empty_preprocessor(s):\n",
    "    return s\n",
    "\n",
    "#def better_preprocessor(s):\n",
    "### STUDENT START ###\n",
    "\n",
    "### STUDENT END ###\n",
    "\n",
    "#def P5():\n",
    "### STUDENT START ###\n",
    "\n",
    "    \n",
    "### STUDENT END ###\n",
    "#P5()"
   ]
  },
  {
   "cell_type": "markdown",
   "metadata": {},
   "source": [
    "(6) The idea of regularization is to avoid learning very large weights (which are likely to fit the training data, but not generalize well) by adding a penalty to the total size of the learned weights. That is, logistic regression seeks the set of weights that minimizes errors in the training data AND has a small size. The default regularization, L2, computes this size as the sum of the squared weights (see P3, above). L1 regularization computes this size as the sum of the absolute values of the weights. The result is that whereas L2 regularization makes all the weights relatively small, L1 regularization drives lots of the weights to 0, effectively removing unimportant features.\n",
    "\n",
    "Train a logistic regression model using a \"l1\" penalty. Output the number of learned weights that are not equal to zero. How does this compare to the number of non-zero weights you get with \"l2\"? Now, reduce the size of the vocabulary by keeping only those features that have at least one non-zero weight and retrain a model using \"l2\".\n",
    "\n",
    "Make a plot showing accuracy of the re-trained model vs. the vocabulary size you get when pruning unused features by adjusting the C parameter.\n",
    "\n",
    "Note: The gradient descent code that trains the logistic regression model sometimes has trouble converging with extreme settings of the C parameter. Relax the convergence criteria by setting tol=.01 (the default is .0001).\n",
    "\n",
    "[4 pts]"
   ]
  },
  {
   "cell_type": "code",
   "execution_count": 8,
   "metadata": {},
   "outputs": [],
   "source": [
    "def P6():\n",
    "    # Keep this random seed here to make comparison easier.\n",
    "    np.random.seed(0)\n",
    "\n",
    "    ### STUDENT START ###\n",
    "\n",
    "    \n",
    "\n",
    "    ### STUDENT END ###\n",
    "P6()"
   ]
  },
  {
   "cell_type": "markdown",
   "metadata": {},
   "source": [
    "(7) Use the TfidfVectorizer -- how is this different from the CountVectorizer? Train a logistic regression model with C=100.\n",
    "\n",
    "Make predictions on the dev data and show the top 3 documents where the ratio R is largest, where R is:\n",
    "\n",
    "maximum predicted probability / predicted probability of the correct label\n",
    "\n",
    "What kinds of mistakes is the model making? Suggest a way to address one particular issue that you see.\n",
    "\n",
    "[4 pts]"
   ]
  },
  {
   "cell_type": "code",
   "execution_count": 9,
   "metadata": {},
   "outputs": [],
   "source": [
    "#def P7():\n",
    "    ### STUDENT START ###\n",
    "\n",
    "\n",
    "\n",
    "    ### STUDENT END ###\n",
    "#P7()"
   ]
  },
  {
   "cell_type": "markdown",
   "metadata": {},
   "source": [
    "ANSWER:"
   ]
  },
  {
   "cell_type": "markdown",
   "metadata": {},
   "source": [
    "(8) EXTRA CREDIT\n",
    "\n",
    "Try implementing one of your ideas based on your error analysis. Use logistic regression as your underlying model.\n",
    "\n",
    "- [1 pt] for a reasonable attempt\n",
    "- [2 pts] for improved performance"
   ]
  }
 ],
 "metadata": {
  "kernelspec": {
   "display_name": "Python 3",
   "language": "python",
   "name": "python3"
  },
  "language_info": {
   "codemirror_mode": {
    "name": "ipython",
    "version": 3
   },
   "file_extension": ".py",
   "mimetype": "text/x-python",
   "name": "python",
   "nbconvert_exporter": "python",
   "pygments_lexer": "ipython3",
   "version": "3.7.3"
  }
 },
 "nbformat": 4,
 "nbformat_minor": 1
}
